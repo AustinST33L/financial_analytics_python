{
 "cells": [
  {
   "cell_type": "markdown",
   "metadata": {},
   "source": [
    "# Python as a Financial Calculator "
   ]
  },
  {
   "cell_type": "markdown",
   "metadata": {},
   "source": [
    "## Time Value of Money (Basic Python)"
   ]
  },
  {
   "cell_type": "markdown",
   "metadata": {},
   "source": [
    "### Present value of single cashflow"
   ]
  },
  {
   "cell_type": "markdown",
   "metadata": {},
   "source": [
    "$$PV=\\frac{FV}{(1+r)^n}$$"
   ]
  },
  {
   "cell_type": "code",
   "execution_count": 1,
   "metadata": {},
   "outputs": [],
   "source": [
    "def pv(fv, r, n):\n",
    "    '''\n",
    "    Present value of a single cashflow\n",
    "    \n",
    "    -------\n",
    "    \n",
    "    fv : future value\n",
    "    r : interest rates\n",
    "    n : number of periods\n",
    "    '''\n",
    "    return fv / (1+r)**n"
   ]
  },
  {
   "cell_type": "code",
   "execution_count": 2,
   "metadata": {},
   "outputs": [
    {
     "data": {
      "text/plain": [
       "99.00990099009901"
      ]
     },
     "execution_count": 2,
     "metadata": {},
     "output_type": "execute_result"
    }
   ],
   "source": [
    "pv(100, 0.01, 1)"
   ]
  },
  {
   "cell_type": "code",
   "execution_count": 3,
   "metadata": {},
   "outputs": [
    {
     "data": {
      "text/plain": [
       "100.0"
      ]
     },
     "execution_count": 3,
     "metadata": {},
     "output_type": "execute_result"
    }
   ],
   "source": [
    "pv(100, 0.01, 0)"
   ]
  },
  {
   "cell_type": "code",
   "execution_count": 4,
   "metadata": {},
   "outputs": [
    {
     "data": {
      "text/plain": [
       "\u001b[1;31mSignature:\u001b[0m \u001b[0mpv\u001b[0m\u001b[1;33m(\u001b[0m\u001b[0mfv\u001b[0m\u001b[1;33m,\u001b[0m \u001b[0mr\u001b[0m\u001b[1;33m,\u001b[0m \u001b[0mn\u001b[0m\u001b[1;33m)\u001b[0m\u001b[1;33m\u001b[0m\u001b[1;33m\u001b[0m\u001b[0m\n",
       "\u001b[1;31mDocstring:\u001b[0m\n",
       "Present value of a single cashflow\n",
       "\n",
       "-------\n",
       "\n",
       "fv : future value\n",
       "r : interest rates\n",
       "n : number of periods\n",
       "\u001b[1;31mFile:\u001b[0m      c:\\users\\anthonyn\\downloads\\financial_analytics_python-master\\financial_analytics_python-master\\<ipython-input-1-7d7e0411d78c>\n",
       "\u001b[1;31mType:\u001b[0m      function\n"
      ]
     },
     "metadata": {},
     "output_type": "display_data"
    }
   ],
   "source": [
    "pv?"
   ]
  },
  {
   "cell_type": "markdown",
   "metadata": {},
   "source": [
    "### Present value of perpetuity"
   ]
  },
  {
   "cell_type": "markdown",
   "metadata": {},
   "source": [
    "$$PV = \\frac{c}{r}$$"
   ]
  },
  {
   "cell_type": "code",
   "execution_count": 5,
   "metadata": {},
   "outputs": [],
   "source": [
    "def pv_perpetuity(c, r):\n",
    "    '''\n",
    "    Present value of perpetuity\n",
    "    \n",
    "    -----\n",
    "    \n",
    "    c : cashflow\n",
    "    f: interest rates\n",
    "    '''\n",
    "    return c / r"
   ]
  },
  {
   "cell_type": "code",
   "execution_count": 6,
   "metadata": {},
   "outputs": [
    {
     "data": {
      "text/plain": [
       "10000.0"
      ]
     },
     "execution_count": 6,
     "metadata": {},
     "output_type": "execute_result"
    }
   ],
   "source": [
    "pv_perpetuity(100, 0.01)"
   ]
  },
  {
   "cell_type": "code",
   "execution_count": 7,
   "metadata": {},
   "outputs": [],
   "source": [
    "int_range = [0.01, 0.02, 0.05, 0.1]"
   ]
  },
  {
   "cell_type": "code",
   "execution_count": 8,
   "metadata": {},
   "outputs": [
    {
     "name": "stdout",
     "output_type": "stream",
     "text": [
      "[INFO] Interest Rate = 1.0%, Present Value = 10000.0\n",
      "[INFO] Interest Rate = 2.0%, Present Value = 5000.0\n",
      "[INFO] Interest Rate = 5.0%, Present Value = 2000.0\n",
      "[INFO] Interest Rate = 10.0%, Present Value = 1000.0\n"
     ]
    }
   ],
   "source": [
    "for int_ in int_range:\n",
    "    print(\"[INFO] Interest Rate = {0}%, Present Value = {1}\".format(int_ * 100, pv_perpetuity(100, int_)))"
   ]
  },
  {
   "cell_type": "markdown",
   "metadata": {},
   "source": [
    "### Present value of cashflow with constant growth"
   ]
  },
  {
   "cell_type": "code",
   "execution_count": 9,
   "metadata": {},
   "outputs": [],
   "source": [
    "def pv_constant_growth(c, r, g):\n",
    "    '''\n",
    "    Present value of cashflow with constant growth\n",
    "    Often used in calculating present value of dividend paying company with constant growth\n",
    "    -----\n",
    "    \n",
    "    c : first cash flow\n",
    "    r : discount rate / interest rates\n",
    "    g : growth rate\n",
    "    '''\n",
    "    if r < g:\n",
    "        print(\"Unable to compute because the required rate of return is lower than the growth rate\")\n",
    "    else:\n",
    "        return c / (r - g)    "
   ]
  },
  {
   "cell_type": "code",
   "execution_count": 10,
   "metadata": {},
   "outputs": [
    {
     "name": "stdout",
     "output_type": "stream",
     "text": [
      "Unable to compute because the required rate of return is lower than the growth rate\n"
     ]
    }
   ],
   "source": [
    "pv_constant_growth(c=100, r=0.02, g=0.05)"
   ]
  },
  {
   "cell_type": "code",
   "execution_count": 11,
   "metadata": {},
   "outputs": [
    {
     "data": {
      "text/plain": [
       "4999.999999999999"
      ]
     },
     "execution_count": 11,
     "metadata": {},
     "output_type": "execute_result"
    }
   ],
   "source": [
    "pv_constant_growth(c=100, r=0.07, g=0.05)"
   ]
  },
  {
   "cell_type": "markdown",
   "metadata": {},
   "source": [
    "# Call Option (Scipy and Numpy)"
   ]
  },
  {
   "cell_type": "markdown",
   "metadata": {},
   "source": [
    "[The Complete Guide to Option Pricing Formulas / Edition 2 by Espen Haug](https://www.amazon.com/Complete-Guide-Option-Pricing-Formulas/dp/0071389970)"
   ]
  },
  {
   "cell_type": "code",
   "execution_count": 12,
   "metadata": {},
   "outputs": [],
   "source": [
    "def BlackScholes(S, X, T, r, sigma):\n",
    "    '''\n",
    "    Valuation of European call option\n",
    "    Black-Scholes (1973)\n",
    "    \n",
    "    \n",
    "    Parameters    \n",
    "    ==========    \n",
    "    S : float        \n",
    "        stock price\n",
    "    X : float        \n",
    "        strike price of option  \n",
    "    T : float        \n",
    "        time to expiration in years    \n",
    "    r : float       \n",
    "        risk-free interest rate \n",
    "    sigma : float        \n",
    "            volatility of the relative price change of the\n",
    "            underlying stock price\n",
    "    N(x) : The cumulative normal distribution function\n",
    "    \n",
    "    Returns    \n",
    "    =======    \n",
    "    call value : float        \n",
    "                 present value of the European call option   \n",
    "       \n",
    "    Example\n",
    "    =======\n",
    "    BlackScholes(S=60, X=65, T=0.25, r=0.08, sigma=0.3)\n",
    "    >>> 2.1333684449162007\n",
    "    \n",
    "    '''\n",
    "    import numpy as np\n",
    "    from scipy import stats\n",
    "    \n",
    "    d1 = (np.log(S/X) + (r + 0.5 * sigma ** 2) * T) / (sigma * np.sqrt(T))\n",
    "    d2 = d1 - sigma * np.sqrt(T)\n",
    "    n_d1 = stats.norm.cdf(d1)\n",
    "    n_d2 = stats.norm.cdf(d2)\n",
    "    call = S * n_d1 - X * np.exp(-r * T) * n_d2\n",
    "    return call"
   ]
  },
  {
   "cell_type": "code",
   "execution_count": 13,
   "metadata": {},
   "outputs": [
    {
     "data": {
      "text/plain": [
       "2.1333684449162007"
      ]
     },
     "execution_count": 13,
     "metadata": {},
     "output_type": "execute_result"
    }
   ],
   "source": [
    "BlackScholes(S=60, X=65, T=0.25, r=0.08, sigma=0.3)"
   ]
  },
  {
   "cell_type": "markdown",
   "metadata": {},
   "source": [
    "# Intro to Numpy and Scipy - Linear Regression, CAPM (Numpy, matplotlib, scipy, statsmodel)"
   ]
  },
  {
   "cell_type": "markdown",
   "metadata": {},
   "source": [
    "## Interpolation"
   ]
  },
  {
   "cell_type": "markdown",
   "metadata": {},
   "source": [
    "[doc](https://docs.scipy.org/doc/scipy/reference/generated/scipy.interpolate.interp1d.html#scipy.interpolate.interp1d)"
   ]
  },
  {
   "cell_type": "code",
   "execution_count": 14,
   "metadata": {},
   "outputs": [
    {
     "data": {
      "image/png": "[encoded data removed]",
      "text/plain": [
       "<Figure size 432x288 with 1 Axes>"
      ]
     },
     "metadata": {},
     "output_type": "display_data"
    }
   ],
   "source": [
    "import matplotlib.pyplot as plt\n",
    "%matplotlib inline\n",
    "import numpy as np; import seaborn as sns; sns.set()\n",
    "from scipy import interpolate\n",
    "x = np.arange(0, 10)\n",
    "y = np.exp(-x/3.0)\n",
    "plt.scatter(x, y);"
   ]
  },
  {
   "cell_type": "code",
   "execution_count": 15,
   "metadata": {},
   "outputs": [
    {
     "data": {
      "image/png": "[encoded data removed]",
      "text/plain": [
       "<Figure size 432x288 with 1 Axes>"
      ]
     },
     "metadata": {},
     "output_type": "display_data"
    }
   ],
   "source": [
    "f = interpolate.interp1d(x, y)\n",
    "xnew = np.arange(0, 9, 0.1)\n",
    "ynew = f(xnew)   # use interpolation function returned by `interp1d`\n",
    "plt.scatter(x, y, s=50, c=\"green\");\n",
    "plt.scatter(xnew, ynew, s=1, c='black');"
   ]
  },
  {
   "cell_type": "code",
   "execution_count": 16,
   "metadata": {},
   "outputs": [
    {
     "data": {
      "image/png": "[encoded data removed]",
      "text/plain": [
       "<Figure size 432x288 with 1 Axes>"
      ]
     },
     "metadata": {},
     "output_type": "display_data"
    }
   ],
   "source": [
    "f = interpolate.interp1d(x, y, kind='cubic')\n",
    "xnew = np.arange(0, 9, 0.1)\n",
    "ynew = f(xnew)   # use interpolation function returned by `interp1d`\n",
    "plt.scatter(x, y, s=50, c=\"green\");\n",
    "plt.scatter(xnew, ynew, s=1, c='black');"
   ]
  },
  {
   "cell_type": "markdown",
   "metadata": {},
   "source": [
    "## Optimisation"
   ]
  },
  {
   "cell_type": "code",
   "execution_count": 17,
   "metadata": {},
   "outputs": [],
   "source": [
    "import scipy.optimize as optimize"
   ]
  },
  {
   "cell_type": "markdown",
   "metadata": {},
   "source": [
    "Estimate the value of $x$ that minimise the equation $x^2+x-18$"
   ]
  },
  {
   "cell_type": "code",
   "execution_count": 18,
   "metadata": {},
   "outputs": [],
   "source": [
    "def func(x):\n",
    "    return x**2 + x - 18"
   ]
  },
  {
   "cell_type": "code",
   "execution_count": 19,
   "metadata": {},
   "outputs": [
    {
     "name": "stdout",
     "output_type": "stream",
     "text": [
      "Optimization terminated successfully.\n",
      "         Current function value: -18.250000\n",
      "         Iterations: 18\n",
      "         Function evaluations: 36\n"
     ]
    },
    {
     "data": {
      "text/plain": [
       "array([-0.5])"
      ]
     },
     "execution_count": 19,
     "metadata": {},
     "output_type": "execute_result"
    }
   ],
   "source": [
    "optimize.fmin(func, 1)    # Setting 1 as the initial value"
   ]
  },
  {
   "cell_type": "markdown",
   "metadata": {},
   "source": [
    "## CAPM"
   ]
  },
  {
   "cell_type": "markdown",
   "metadata": {},
   "source": [
    "$$r_i-r_f=\\alpha+\\beta_i(r_{mkt}-r_f)$$"
   ]
  },
  {
   "cell_type": "markdown",
   "metadata": {},
   "source": [
    "### Scipy"
   ]
  },
  {
   "cell_type": "code",
   "execution_count": 20,
   "metadata": {},
   "outputs": [],
   "source": [
    "stock_rtns =  [0.20, 0.10, 0.12, 0.06, 0.04, 0.05, 0.07, 0.10, 0.11, 0.12, 0.14, 0.11, 0.07, 0.04, 0.04, 0.05, 0.07, 0.10, 0.11, 0.12]\n",
    "market_rtns = [0.15, 0.12, 0.10, 0.05, 0.03, 0.04, 0.06, 0.09, 0.15, 0.12, 0.10, 0.05, 0.03, 0.06, 0.12, 0.10, 0.05, 0.03, 0.04, 0.06]"
   ]
  },
  {
   "cell_type": "code",
   "execution_count": 21,
   "metadata": {},
   "outputs": [],
   "source": [
    "from scipy import stats"
   ]
  },
  {
   "cell_type": "raw",
   "metadata": {},
   "source": [
    "'''Signature: stats.linregress(x, y=None)\n",
    "Docstring:\n",
    "Calculate a linear least-squares regression for two sets of measurements.\n",
    "\n",
    "Parameters\n",
    "----------\n",
    "x, y : array_like\n",
    "    Two sets of measurements.  Both arrays should have the same length.\n",
    "    If only x is given (and y=None), then it must be a two-dimensional\n",
    "    array where one dimension has length 2.  The two sets of measurements\n",
    "    are then found by splitting the array along the length-2 dimension.\n",
    "\n",
    "Returns\n",
    "-------\n",
    "slope : float\n",
    "    slope of the regression line\n",
    "intercept : float\n",
    "    intercept of the regression line\n",
    "rvalue : float\n",
    "    correlation coefficient\n",
    "pvalue : float\n",
    "    two-sided p-value for a hypothesis test whose null hypothesis is\n",
    "    that the slope is zero, using Wald Test with t-distribution of\n",
    "    the test statistic.\n",
    "stderr : float\n",
    "    Standard error of the estimated gradient.\n",
    "'''"
   ]
  },
  {
   "cell_type": "code",
   "execution_count": 22,
   "metadata": {},
   "outputs": [],
   "source": [
    "beta, alpha, rho, p_value, std_error = stats.linregress(market_rtns, stock_rtns)"
   ]
  },
  {
   "cell_type": "code",
   "execution_count": 23,
   "metadata": {},
   "outputs": [
    {
     "data": {
      "text/plain": [
       "\u001b[1;31mSignature:\u001b[0m \u001b[0mstats\u001b[0m\u001b[1;33m.\u001b[0m\u001b[0mlinregress\u001b[0m\u001b[1;33m(\u001b[0m\u001b[0mx\u001b[0m\u001b[1;33m,\u001b[0m \u001b[0my\u001b[0m\u001b[1;33m=\u001b[0m\u001b[1;32mNone\u001b[0m\u001b[1;33m)\u001b[0m\u001b[1;33m\u001b[0m\u001b[1;33m\u001b[0m\u001b[0m\n",
       "\u001b[1;31mDocstring:\u001b[0m\n",
       "Calculate a linear least-squares regression for two sets of measurements.\n",
       "\n",
       "Parameters\n",
       "----------\n",
       "x, y : array_like\n",
       "    Two sets of measurements.  Both arrays should have the same length.  If\n",
       "    only `x` is given (and ``y=None``), then it must be a two-dimensional\n",
       "    array where one dimension has length 2.  The two sets of measurements\n",
       "    are then found by splitting the array along the length-2 dimension.  In\n",
       "    the case where ``y=None`` and `x` is a 2x2 array, ``linregress(x)`` is\n",
       "    equivalent to ``linregress(x[0], x[1])``.\n",
       "\n",
       "Returns\n",
       "-------\n",
       "slope : float\n",
       "    Slope of the regression line.\n",
       "intercept : float\n",
       "    Intercept of the regression line.\n",
       "rvalue : float\n",
       "    Correlation coefficient.\n",
       "pvalue : float\n",
       "    Two-sided p-value for a hypothesis test whose null hypothesis is\n",
       "    that the slope is zero, using Wald Test with t-distribution of\n",
       "    the test statistic.\n",
       "stderr : float\n",
       "    Standard error of the estimated gradient.\n",
       "\n",
       "See also\n",
       "--------\n",
       ":func:`scipy.optimize.curve_fit` : Use non-linear\n",
       " least squares to fit a function to data.\n",
       ":func:`scipy.optimize.leastsq` : Minimize the sum of\n",
       " squares of a set of equations.\n",
       "\n",
       "Notes\n",
       "-----\n",
       "Missing values are considered pair-wise: if a value is missing in `x`,\n",
       "the corresponding value in `y` is masked.\n",
       "\n",
       "Examples\n",
       "--------\n",
       ">>> import matplotlib.pyplot as plt\n",
       ">>> from scipy import stats\n",
       "\n",
       "Generate some data:\n",
       "\n",
       ">>> np.random.seed(12345678)\n",
       ">>> x = np.random.random(10)\n",
       ">>> y = 1.6*x + np.random.random(10)\n",
       "\n",
       "Perform the linear regression:\n",
       "\n",
       ">>> slope, intercept, r_value, p_value, std_err = stats.linregress(x, y)\n",
       ">>> print(\"slope: %f    intercept: %f\" % (slope, intercept))\n",
       "slope: 1.944864    intercept: 0.268578\n",
       "\n",
       "To get coefficient of determination (R-squared):\n",
       "\n",
       ">>> print(\"R-squared: %f\" % r_value**2)\n",
       "R-squared: 0.735498\n",
       "\n",
       "Plot the data along with the fitted line:\n",
       "\n",
       ">>> plt.plot(x, y, 'o', label='original data')\n",
       ">>> plt.plot(x, intercept + slope*x, 'r', label='fitted line')\n",
       ">>> plt.legend()\n",
       ">>> plt.show()\n",
       "\n",
       "Example for the case where only x is provided as a 2x2 array:\n",
       "\n",
       ">>> x = np.array([[0, 1], [0, 2]])\n",
       ">>> r = stats.linregress(x)\n",
       ">>> r.slope, r.intercept\n",
       "(2.0, 0.0)\n",
       "\u001b[1;31mFile:\u001b[0m      c:\\users\\anthonyn\\anaconda3\\envs\\ds\\lib\\site-packages\\scipy\\stats\\_stats_mstats_common.py\n",
       "\u001b[1;31mType:\u001b[0m      function\n"
      ]
     },
     "metadata": {},
     "output_type": "display_data"
    }
   ],
   "source": [
    "stats.linregress?"
   ]
  },
  {
   "cell_type": "code",
   "execution_count": 24,
   "metadata": {},
   "outputs": [
    {
     "data": {
      "text/plain": [
       "0.49876543209876534"
      ]
     },
     "execution_count": 24,
     "metadata": {},
     "output_type": "execute_result"
    }
   ],
   "source": [
    "beta"
   ]
  },
  {
   "cell_type": "code",
   "execution_count": 25,
   "metadata": {},
   "outputs": [
    {
     "data": {
      "text/plain": [
       "0.05234567901234569"
      ]
     },
     "execution_count": 25,
     "metadata": {},
     "output_type": "execute_result"
    }
   ],
   "source": [
    "alpha"
   ]
  },
  {
   "cell_type": "code",
   "execution_count": 26,
   "metadata": {},
   "outputs": [
    {
     "data": {
      "text/plain": [
       "0.23927474022470835"
      ]
     },
     "execution_count": 26,
     "metadata": {},
     "output_type": "execute_result"
    }
   ],
   "source": [
    "rho**2"
   ]
  },
  {
   "cell_type": "code",
   "execution_count": 27,
   "metadata": {},
   "outputs": [
    {
     "data": {
      "text/plain": [
       "0.02860864960270171"
      ]
     },
     "execution_count": 27,
     "metadata": {},
     "output_type": "execute_result"
    }
   ],
   "source": [
    "p_value"
   ]
  },
  {
   "cell_type": "markdown",
   "metadata": {},
   "source": [
    "### Statsmodels"
   ]
  },
  {
   "cell_type": "code",
   "execution_count": 28,
   "metadata": {},
   "outputs": [],
   "source": [
    "import statsmodels.api as sm"
   ]
  },
  {
   "cell_type": "code",
   "execution_count": 29,
   "metadata": {},
   "outputs": [],
   "source": [
    "X = sm.add_constant(market_rtns)"
   ]
  },
  {
   "cell_type": "code",
   "execution_count": 30,
   "metadata": {},
   "outputs": [
    {
     "data": {
      "text/plain": [
       "array([[1.  , 0.15],\n",
       "       [1.  , 0.12],\n",
       "       [1.  , 0.1 ],\n",
       "       [1.  , 0.05],\n",
       "       [1.  , 0.03],\n",
       "       [1.  , 0.04],\n",
       "       [1.  , 0.06],\n",
       "       [1.  , 0.09],\n",
       "       [1.  , 0.15],\n",
       "       [1.  , 0.12],\n",
       "       [1.  , 0.1 ],\n",
       "       [1.  , 0.05],\n",
       "       [1.  , 0.03],\n",
       "       [1.  , 0.06],\n",
       "       [1.  , 0.12],\n",
       "       [1.  , 0.1 ],\n",
       "       [1.  , 0.05],\n",
       "       [1.  , 0.03],\n",
       "       [1.  , 0.04],\n",
       "       [1.  , 0.06]])"
      ]
     },
     "execution_count": 30,
     "metadata": {},
     "output_type": "execute_result"
    }
   ],
   "source": [
    "np.c_[np.ones(len(stock_rtns)), market_rtns]"
   ]
  },
  {
   "cell_type": "code",
   "execution_count": 31,
   "metadata": {},
   "outputs": [],
   "source": [
    "model = sm.OLS(stock_rtns, np.c_[np.ones(len(stock_rtns)), market_rtns])"
   ]
  },
  {
   "cell_type": "code",
   "execution_count": 32,
   "metadata": {},
   "outputs": [],
   "source": [
    "results = model.fit()"
   ]
  },
  {
   "cell_type": "code",
   "execution_count": 33,
   "metadata": {},
   "outputs": [
    {
     "data": {
      "text/html": [
       "<table class=\"simpletable\">\n",
       "<caption>OLS Regression Results</caption>\n",
       "<tr>\n",
       "  <th>Dep. Variable:</th>            <td>y</td>        <th>  R-squared:         </th> <td>   0.239</td>\n",
       "</tr>\n",
       "<tr>\n",
       "  <th>Model:</th>                   <td>OLS</td>       <th>  Adj. R-squared:    </th> <td>   0.197</td>\n",
       "</tr>\n",
       "<tr>\n",
       "  <th>Method:</th>             <td>Least Squares</td>  <th>  F-statistic:       </th> <td>   5.662</td>\n",
       "</tr>\n",
       "<tr>\n",
       "  <th>Date:</th>             <td>Fri, 02 Oct 2020</td> <th>  Prob (F-statistic):</th>  <td>0.0286</td> \n",
       "</tr>\n",
       "<tr>\n",
       "  <th>Time:</th>                 <td>18:36:22</td>     <th>  Log-Likelihood:    </th> <td>  38.866</td>\n",
       "</tr>\n",
       "<tr>\n",
       "  <th>No. Observations:</th>      <td>    20</td>      <th>  AIC:               </th> <td>  -73.73</td>\n",
       "</tr>\n",
       "<tr>\n",
       "  <th>Df Residuals:</th>          <td>    18</td>      <th>  BIC:               </th> <td>  -71.74</td>\n",
       "</tr>\n",
       "<tr>\n",
       "  <th>Df Model:</th>              <td>     1</td>      <th>                     </th>     <td> </td>   \n",
       "</tr>\n",
       "<tr>\n",
       "  <th>Covariance Type:</th>      <td>nonrobust</td>    <th>                     </th>     <td> </td>   \n",
       "</tr>\n",
       "</table>\n",
       "<table class=\"simpletable\">\n",
       "<tr>\n",
       "    <td></td>       <th>coef</th>     <th>std err</th>      <th>t</th>      <th>P>|t|</th>  <th>[0.025</th>    <th>0.975]</th>  \n",
       "</tr>\n",
       "<tr>\n",
       "  <th>const</th> <td>    0.0523</td> <td>    0.018</td> <td>    2.879</td> <td> 0.010</td> <td>    0.014</td> <td>    0.091</td>\n",
       "</tr>\n",
       "<tr>\n",
       "  <th>x1</th>    <td>    0.4988</td> <td>    0.210</td> <td>    2.379</td> <td> 0.029</td> <td>    0.058</td> <td>    0.939</td>\n",
       "</tr>\n",
       "</table>\n",
       "<table class=\"simpletable\">\n",
       "<tr>\n",
       "  <th>Omnibus:</th>       <td> 0.009</td> <th>  Durbin-Watson:     </th> <td>   0.817</td>\n",
       "</tr>\n",
       "<tr>\n",
       "  <th>Prob(Omnibus):</th> <td> 0.995</td> <th>  Jarque-Bera (JB):  </th> <td>   0.125</td>\n",
       "</tr>\n",
       "<tr>\n",
       "  <th>Skew:</th>          <td>-0.019</td> <th>  Prob(JB):          </th> <td>   0.939</td>\n",
       "</tr>\n",
       "<tr>\n",
       "  <th>Kurtosis:</th>      <td> 2.615</td> <th>  Cond. No.          </th> <td>    25.8</td>\n",
       "</tr>\n",
       "</table><br/><br/>Warnings:<br/>[1] Standard Errors assume that the covariance matrix of the errors is correctly specified."
      ],
      "text/plain": [
       "<class 'statsmodels.iolib.summary.Summary'>\n",
       "\"\"\"\n",
       "                            OLS Regression Results                            \n",
       "==============================================================================\n",
       "Dep. Variable:                      y   R-squared:                       0.239\n",
       "Model:                            OLS   Adj. R-squared:                  0.197\n",
       "Method:                 Least Squares   F-statistic:                     5.662\n",
       "Date:                Fri, 02 Oct 2020   Prob (F-statistic):             0.0286\n",
       "Time:                        18:36:22   Log-Likelihood:                 38.866\n",
       "No. Observations:                  20   AIC:                            -73.73\n",
       "Df Residuals:                      18   BIC:                            -71.74\n",
       "Df Model:                           1                                         \n",
       "Covariance Type:            nonrobust                                         \n",
       "==============================================================================\n",
       "                 coef    std err          t      P>|t|      [0.025      0.975]\n",
       "------------------------------------------------------------------------------\n",
       "const          0.0523      0.018      2.879      0.010       0.014       0.091\n",
       "x1             0.4988      0.210      2.379      0.029       0.058       0.939\n",
       "==============================================================================\n",
       "Omnibus:                        0.009   Durbin-Watson:                   0.817\n",
       "Prob(Omnibus):                  0.995   Jarque-Bera (JB):                0.125\n",
       "Skew:                          -0.019   Prob(JB):                        0.939\n",
       "Kurtosis:                       2.615   Cond. No.                         25.8\n",
       "==============================================================================\n",
       "\n",
       "Warnings:\n",
       "[1] Standard Errors assume that the covariance matrix of the errors is correctly specified.\n",
       "\"\"\""
      ]
     },
     "execution_count": 33,
     "metadata": {},
     "output_type": "execute_result"
    }
   ],
   "source": [
    "results.summary()"
   ]
  },
  {
   "cell_type": "code",
   "execution_count": 1,
   "metadata": {},
   "outputs": [],
   "source": [
    "TIINGO_API_KEY = \"\""
   ]
  },
  {
   "cell_type": "markdown",
   "metadata": {},
   "source": [
    "# Risk and Returns (Pandas, Matplotlib, Bokeh)"
   ]
  },
  {
   "cell_type": "markdown",
   "metadata": {},
   "source": [
    "### Return Distribution"
   ]
  },
  {
   "cell_type": "code",
   "execution_count": 34,
   "metadata": {},
   "outputs": [
    {
     "name": "stdout",
     "output_type": "stream",
     "text": [
      "Requirement already satisfied: pandas_datareader in c:\\users\\anthonyn\\anaconda3\\envs\\ds\\lib\\site-packages (0.9.0)\n",
      "Requirement already satisfied: lxml in c:\\users\\anthonyn\\anaconda3\\envs\\ds\\lib\\site-packages (from pandas_datareader) (4.5.2)\n",
      "Requirement already satisfied: requests>=2.19.0 in c:\\users\\anthonyn\\anaconda3\\envs\\ds\\lib\\site-packages (from pandas_datareader) (2.24.0)\n",
      "Requirement already satisfied: pandas>=0.23 in c:\\users\\anthonyn\\anaconda3\\envs\\ds\\lib\\site-packages (from pandas_datareader) (1.1.1)\n",
      "Requirement already satisfied: certifi>=2017.4.17 in c:\\users\\anthonyn\\anaconda3\\envs\\ds\\lib\\site-packages (from requests>=2.19.0->pandas_datareader) (2020.6.20)\n",
      "Requirement already satisfied: idna<3,>=2.5 in c:\\users\\anthonyn\\anaconda3\\envs\\ds\\lib\\site-packages (from requests>=2.19.0->pandas_datareader) (2.10)\n",
      "Requirement already satisfied: chardet<4,>=3.0.2 in c:\\users\\anthonyn\\anaconda3\\envs\\ds\\lib\\site-packages (from requests>=2.19.0->pandas_datareader) (3.0.4)\n",
      "Requirement already satisfied: urllib3!=1.25.0,!=1.25.1,<1.26,>=1.21.1 in c:\\users\\anthonyn\\anaconda3\\envs\\ds\\lib\\site-packages (from requests>=2.19.0->pandas_datareader) (1.25.10)\n",
      "Requirement already satisfied: numpy>=1.15.4 in c:\\users\\anthonyn\\anaconda3\\envs\\ds\\lib\\site-packages (from pandas>=0.23->pandas_datareader) (1.18.5)\n",
      "Requirement already satisfied: python-dateutil>=2.7.3 in c:\\users\\anthonyn\\anaconda3\\envs\\ds\\lib\\site-packages (from pandas>=0.23->pandas_datareader) (2.8.1)\n",
      "Requirement already satisfied: pytz>=2017.2 in c:\\users\\anthonyn\\anaconda3\\envs\\ds\\lib\\site-packages (from pandas>=0.23->pandas_datareader) (2020.1)\n",
      "Requirement already satisfied: six>=1.5 in c:\\users\\anthonyn\\anaconda3\\envs\\ds\\lib\\site-packages (from python-dateutil>=2.7.3->pandas>=0.23->pandas_datareader) (1.15.0)\n"
     ]
    }
   ],
   "source": [
    "!pip install pandas_datareader"
   ]
  },
  {
   "cell_type": "code",
   "execution_count": 35,
   "metadata": {},
   "outputs": [],
   "source": [
    "TIINGO_API_KEY = \"\""
   ]
  },
  {
   "cell_type": "code",
   "execution_count": 36,
   "metadata": {},
   "outputs": [],
   "source": [
    "import os\n",
    "import pandas_datareader as pdr\n",
    "from datetime import datetime"
   ]
  },
  {
   "cell_type": "code",
   "execution_count": 37,
   "metadata": {},
   "outputs": [],
   "source": [
    "start = datetime(2016, 1, 1)\n",
    "end = datetime(2020, 1, 1)\n",
    "df = pdr.get_data_tiingo('GOOG', start=start, end=end, api_key=TIINGO_API_KEY)"
   ]
  },
  {
   "cell_type": "code",
   "execution_count": 38,
   "metadata": {},
   "outputs": [
    {
     "data": {
      "text/html": [
       "<div>\n",
       "<style scoped>\n",
       "    .dataframe tbody tr th:only-of-type {\n",
       "        vertical-align: middle;\n",
       "    }\n",
       "\n",
       "    .dataframe tbody tr th {\n",
       "        vertical-align: top;\n",
       "    }\n",
       "\n",
       "    .dataframe thead th {\n",
       "        text-align: right;\n",
       "    }\n",
       "</style>\n",
       "<table border=\"1\" class=\"dataframe\">\n",
       "  <thead>\n",
       "    <tr style=\"text-align: right;\">\n",
       "      <th></th>\n",
       "      <th></th>\n",
       "      <th>close</th>\n",
       "      <th>high</th>\n",
       "      <th>low</th>\n",
       "      <th>open</th>\n",
       "      <th>volume</th>\n",
       "      <th>adjClose</th>\n",
       "      <th>adjHigh</th>\n",
       "      <th>adjLow</th>\n",
       "      <th>adjOpen</th>\n",
       "      <th>adjVolume</th>\n",
       "      <th>divCash</th>\n",
       "      <th>splitFactor</th>\n",
       "    </tr>\n",
       "    <tr>\n",
       "      <th>symbol</th>\n",
       "      <th>date</th>\n",
       "      <th></th>\n",
       "      <th></th>\n",
       "      <th></th>\n",
       "      <th></th>\n",
       "      <th></th>\n",
       "      <th></th>\n",
       "      <th></th>\n",
       "      <th></th>\n",
       "      <th></th>\n",
       "      <th></th>\n",
       "      <th></th>\n",
       "      <th></th>\n",
       "    </tr>\n",
       "  </thead>\n",
       "  <tbody>\n",
       "    <tr>\n",
       "      <th rowspan=\"5\" valign=\"top\">GOOG</th>\n",
       "      <th>2016-01-04 00:00:00+00:00</th>\n",
       "      <td>741.84</td>\n",
       "      <td>744.06</td>\n",
       "      <td>731.2577</td>\n",
       "      <td>743.00</td>\n",
       "      <td>3272776</td>\n",
       "      <td>741.84</td>\n",
       "      <td>744.06</td>\n",
       "      <td>731.2577</td>\n",
       "      <td>743.00</td>\n",
       "      <td>3272776</td>\n",
       "      <td>0.0</td>\n",
       "      <td>1.0</td>\n",
       "    </tr>\n",
       "    <tr>\n",
       "      <th>2016-01-05 00:00:00+00:00</th>\n",
       "      <td>742.58</td>\n",
       "      <td>752.00</td>\n",
       "      <td>738.6400</td>\n",
       "      <td>746.45</td>\n",
       "      <td>1950691</td>\n",
       "      <td>742.58</td>\n",
       "      <td>752.00</td>\n",
       "      <td>738.6400</td>\n",
       "      <td>746.45</td>\n",
       "      <td>1950691</td>\n",
       "      <td>0.0</td>\n",
       "      <td>1.0</td>\n",
       "    </tr>\n",
       "    <tr>\n",
       "      <th>2016-01-06 00:00:00+00:00</th>\n",
       "      <td>743.62</td>\n",
       "      <td>747.18</td>\n",
       "      <td>728.9200</td>\n",
       "      <td>730.00</td>\n",
       "      <td>1947034</td>\n",
       "      <td>743.62</td>\n",
       "      <td>747.18</td>\n",
       "      <td>728.9200</td>\n",
       "      <td>730.00</td>\n",
       "      <td>1947034</td>\n",
       "      <td>0.0</td>\n",
       "      <td>1.0</td>\n",
       "    </tr>\n",
       "    <tr>\n",
       "      <th>2016-01-07 00:00:00+00:00</th>\n",
       "      <td>726.39</td>\n",
       "      <td>738.50</td>\n",
       "      <td>719.0600</td>\n",
       "      <td>730.31</td>\n",
       "      <td>2963741</td>\n",
       "      <td>726.39</td>\n",
       "      <td>738.50</td>\n",
       "      <td>719.0600</td>\n",
       "      <td>730.31</td>\n",
       "      <td>2963741</td>\n",
       "      <td>0.0</td>\n",
       "      <td>1.0</td>\n",
       "    </tr>\n",
       "    <tr>\n",
       "      <th>2016-01-08 00:00:00+00:00</th>\n",
       "      <td>714.47</td>\n",
       "      <td>733.23</td>\n",
       "      <td>713.0000</td>\n",
       "      <td>731.45</td>\n",
       "      <td>2450857</td>\n",
       "      <td>714.47</td>\n",
       "      <td>733.23</td>\n",
       "      <td>713.0000</td>\n",
       "      <td>731.45</td>\n",
       "      <td>2450857</td>\n",
       "      <td>0.0</td>\n",
       "      <td>1.0</td>\n",
       "    </tr>\n",
       "  </tbody>\n",
       "</table>\n",
       "</div>"
      ],
      "text/plain": [
       "                                   close    high       low    open   volume  \\\n",
       "symbol date                                                                   \n",
       "GOOG   2016-01-04 00:00:00+00:00  741.84  744.06  731.2577  743.00  3272776   \n",
       "       2016-01-05 00:00:00+00:00  742.58  752.00  738.6400  746.45  1950691   \n",
       "       2016-01-06 00:00:00+00:00  743.62  747.18  728.9200  730.00  1947034   \n",
       "       2016-01-07 00:00:00+00:00  726.39  738.50  719.0600  730.31  2963741   \n",
       "       2016-01-08 00:00:00+00:00  714.47  733.23  713.0000  731.45  2450857   \n",
       "\n",
       "                                  adjClose  adjHigh    adjLow  adjOpen  \\\n",
       "symbol date                                                              \n",
       "GOOG   2016-01-04 00:00:00+00:00    741.84   744.06  731.2577   743.00   \n",
       "       2016-01-05 00:00:00+00:00    742.58   752.00  738.6400   746.45   \n",
       "       2016-01-06 00:00:00+00:00    743.62   747.18  728.9200   730.00   \n",
       "       2016-01-07 00:00:00+00:00    726.39   738.50  719.0600   730.31   \n",
       "       2016-01-08 00:00:00+00:00    714.47   733.23  713.0000   731.45   \n",
       "\n",
       "                                  adjVolume  divCash  splitFactor  \n",
       "symbol date                                                        \n",
       "GOOG   2016-01-04 00:00:00+00:00    3272776      0.0          1.0  \n",
       "       2016-01-05 00:00:00+00:00    1950691      0.0          1.0  \n",
       "       2016-01-06 00:00:00+00:00    1947034      0.0          1.0  \n",
       "       2016-01-07 00:00:00+00:00    2963741      0.0          1.0  \n",
       "       2016-01-08 00:00:00+00:00    2450857      0.0          1.0  "
      ]
     },
     "execution_count": 38,
     "metadata": {},
     "output_type": "execute_result"
    }
   ],
   "source": [
    "df.head()"
   ]
  },
  {
   "cell_type": "code",
   "execution_count": 39,
   "metadata": {},
   "outputs": [],
   "source": [
    "goog = df['close'].copy()\n",
    "goog = goog.pct_change()\n",
    "mu = goog.mean()\n",
    "sigma = goog.std()"
   ]
  },
  {
   "cell_type": "code",
   "execution_count": 40,
   "metadata": {},
   "outputs": [
    {
     "name": "stderr",
     "output_type": "stream",
     "text": [
      "C:\\Users\\anthonyn\\Anaconda3\\envs\\ds\\lib\\site-packages\\numpy\\lib\\histograms.py:839: RuntimeWarning: invalid value encountered in greater_equal\n",
      "  keep = (tmp_a >= first_edge)\n",
      "C:\\Users\\anthonyn\\Anaconda3\\envs\\ds\\lib\\site-packages\\numpy\\lib\\histograms.py:840: RuntimeWarning: invalid value encountered in less_equal\n",
      "  keep &= (tmp_a <= last_edge)\n"
     ]
    },
    {
     "data": {
      "image/png": "[encoded data removed]",
      "text/plain": [
       "<Figure size 432x288 with 1 Axes>"
      ]
     },
     "metadata": {},
     "output_type": "display_data"
    }
   ],
   "source": [
    "from scipy.stats import norm\n",
    "import matplotlib.pyplot as plt\n",
    "\n",
    "x = np.linspace(goog.min(), goog.max(), 100)\n",
    "plt.hist(goog, 100, density=True);\n",
    "plt.plot(x, norm.pdf(x, mu, sigma))\n",
    "plt.show()"
   ]
  },
  {
   "cell_type": "code",
   "execution_count": 41,
   "metadata": {},
   "outputs": [
    {
     "name": "stderr",
     "output_type": "stream",
     "text": [
      "C:\\Users\\anthonyn\\Anaconda3\\envs\\ds\\lib\\site-packages\\seaborn\\distributions.py:2551: FutureWarning: `distplot` is a deprecated function and will be removed in a future version. Please adapt your code to use either `displot` (a figure-level function with similar flexibility) or `histplot` (an axes-level function for histograms).\n",
      "  warnings.warn(msg, FutureWarning)\n"
     ]
    },
    {
     "data": {
      "image/png": "[encoded data removed]",
      "text/plain": [
       "<Figure size 432x288 with 1 Axes>"
      ]
     },
     "metadata": {},
     "output_type": "display_data"
    }
   ],
   "source": [
    "from scipy.stats import norm\n",
    "plt.xlim(goog.min(), goog.max())\n",
    "sns.distplot(goog, bins=100, fit=norm, kde=False);\n",
    "plt.title(\"Google return distribution\") \n",
    "plt.xlabel(\"Returns\") \n",
    "plt.ylabel(\"Frequency\");"
   ]
  },
  {
   "cell_type": "code",
   "execution_count": 42,
   "metadata": {},
   "outputs": [
    {
     "data": {
      "image/png": "[encoded data removed]",
      "text/plain": [
       "<Figure size 432x288 with 1 Axes>"
      ]
     },
     "metadata": {},
     "output_type": "display_data"
    }
   ],
   "source": [
    "from scipy.stats import norm\n",
    "plt.xlim(goog.min(), goog.max())\n",
    "sns.histplot(goog, bins=100, stat='density', common_norm=True, kde=True);\n",
    "plt.title(\"Google return distribution\") \n",
    "plt.xlabel(\"Returns\") \n",
    "plt.ylabel(\"Frequency\");"
   ]
  },
  {
   "cell_type": "markdown",
   "metadata": {},
   "source": [
    "### Candlesticks"
   ]
  },
  {
   "cell_type": "code",
   "execution_count": 43,
   "metadata": {},
   "outputs": [],
   "source": [
    "from bokeh.plotting import figure, show, output_file\n",
    "from bokeh.io import output_notebook\n",
    "from math import pi"
   ]
  },
  {
   "cell_type": "code",
   "execution_count": 44,
   "metadata": {},
   "outputs": [],
   "source": [
    "start = datetime(2016, 1, 1)\n",
    "end = datetime(2016, 4, 1)\n",
    "df = pdr.get_data_tiingo('GOOG', start=start, end=end, api_key=TIINGO_API_KEY)\n",
    "f = df.reset_index().set_index('date')[['close', 'high', 'low', 'open', 'volume']]\n",
    "f.columns = ['Close', 'High', 'Low', 'Open', 'Volume']"
   ]
  },
  {
   "cell_type": "code",
   "execution_count": 45,
   "metadata": {},
   "outputs": [
    {
     "data": {
      "text/html": [
       "\n",
       "    <div class=\"bk-root\">\n",
       "        <a href=\"https://bokeh.org\" target=\"_blank\" class=\"bk-logo bk-logo-small bk-logo-notebook\"></a>\n",
       "        <span id=\"1001\">Loading BokehJS ...</span>\n",
       "    </div>"
      ]
     },
     "metadata": {},
     "output_type": "display_data"
    },
    {
     "data": {
      "application/javascript": [
       "\n",
       "(function(root) {\n",
       "  function now() {\n",
       "    return new Date();\n",
       "  }\n",
       "\n",
       "  var force = true;\n",
       "\n",
       "  if (typeof root._bokeh_onload_callbacks === \"undefined\" || force === true) {\n",
       "    root._bokeh_onload_callbacks = [];\n",
       "    root._bokeh_is_loading = undefined;\n",
       "  }\n",
       "\n",
       "  var JS_MIME_TYPE = 'application/javascript';\n",
       "  var HTML_MIME_TYPE = 'text/html';\n",
       "  var EXEC_MIME_TYPE = 'application/vnd.bokehjs_exec.v0+json';\n",
       "  var CLASS_NAME = 'output_bokeh rendered_html';\n",
       "\n",
       "  /**\n",
       "   * Render data to the DOM node\n",
       "   */\n",
       "  function render(props, node) {\n",
       "    var script = document.createElement(\"script\");\n",
       "    node.appendChild(script);\n",
       "  }\n",
       "\n",
       "  /**\n",
       "   * Handle when an output is cleared or removed\n",
       "   */\n",
       "  function handleClearOutput(event, handle) {\n",
       "    var cell = handle.cell;\n",
       "\n",
       "    var id = cell.output_area._bokeh_element_id;\n",
       "    var server_id = cell.output_area._bokeh_server_id;\n",
       "    // Clean up Bokeh references\n",
       "    if (id != null && id in Bokeh.index) {\n",
       "      Bokeh.index[id].model.document.clear();\n",
       "      delete Bokeh.index[id];\n",
       "    }\n",
       "\n",
       "    if (server_id !== undefined) {\n",
       "      // Clean up Bokeh references\n",
       "      var cmd = \"from bokeh.io.state import curstate; print(curstate().uuid_to_server['\" + server_id + \"'].get_sessions()[0].document.roots[0]._id)\";\n",
       "      cell.notebook.kernel.execute(cmd, {\n",
       "        iopub: {\n",
       "          output: function(msg) {\n",
       "            var id = msg.content.text.trim();\n",
       "            if (id in Bokeh.index) {\n",
       "              Bokeh.index[id].model.document.clear();\n",
       "              delete Bokeh.index[id];\n",
       "            }\n",
       "          }\n",
       "        }\n",
       "      });\n",
       "      // Destroy server and session\n",
       "      var cmd = \"import bokeh.io.notebook as ion; ion.destroy_server('\" + server_id + \"')\";\n",
       "      cell.notebook.kernel.execute(cmd);\n",
       "    }\n",
       "  }\n",
       "\n",
       "  /**\n",
       "   * Handle when a new output is added\n",
       "   */\n",
       "  function handleAddOutput(event, handle) {\n",
       "    var output_area = handle.output_area;\n",
       "    var output = handle.output;\n",
       "\n",
       "    // limit handleAddOutput to display_data with EXEC_MIME_TYPE content only\n",
       "    if ((output.output_type != \"display_data\") || (!output.data.hasOwnProperty(EXEC_MIME_TYPE))) {\n",
       "      return\n",
       "    }\n",
       "\n",
       "    var toinsert = output_area.element.find(\".\" + CLASS_NAME.split(' ')[0]);\n",
       "\n",
       "    if (output.metadata[EXEC_MIME_TYPE][\"id\"] !== undefined) {\n",
       "      toinsert[toinsert.length - 1].firstChild.textContent = output.data[JS_MIME_TYPE];\n",
       "      // store reference to embed id on output_area\n",
       "      output_area._bokeh_element_id = output.metadata[EXEC_MIME_TYPE][\"id\"];\n",
       "    }\n",
       "    if (output.metadata[EXEC_MIME_TYPE][\"server_id\"] !== undefined) {\n",
       "      var bk_div = document.createElement(\"div\");\n",
       "      bk_div.innerHTML = output.data[HTML_MIME_TYPE];\n",
       "      var script_attrs = bk_div.children[0].attributes;\n",
       "      for (var i = 0; i < script_attrs.length; i++) {\n",
       "        toinsert[toinsert.length - 1].firstChild.setAttribute(script_attrs[i].name, script_attrs[i].value);\n",
       "        toinsert[toinsert.length - 1].firstChild.textContent = bk_div.children[0].textContent\n",
       "      }\n",
       "      // store reference to server id on output_area\n",
       "      output_area._bokeh_server_id = output.metadata[EXEC_MIME_TYPE][\"server_id\"];\n",
       "    }\n",
       "  }\n",
       "\n",
       "  function register_renderer(events, OutputArea) {\n",
       "\n",
       "    function append_mime(data, metadata, element) {\n",
       "      // create a DOM node to render to\n",
       "      var toinsert = this.create_output_subarea(\n",
       "        metadata,\n",
       "        CLASS_NAME,\n",
       "        EXEC_MIME_TYPE\n",
       "      );\n",
       "      this.keyboard_manager.register_events(toinsert);\n",
       "      // Render to node\n",
       "      var props = {data: data, metadata: metadata[EXEC_MIME_TYPE]};\n",
       "      render(props, toinsert[toinsert.length - 1]);\n",
       "      element.append(toinsert);\n",
       "      return toinsert\n",
       "    }\n",
       "\n",
       "    /* Handle when an output is cleared or removed */\n",
       "    events.on('clear_output.CodeCell', handleClearOutput);\n",
       "    events.on('delete.Cell', handleClearOutput);\n",
       "\n",
       "    /* Handle when a new output is added */\n",
       "    events.on('output_added.OutputArea', handleAddOutput);\n",
       "\n",
       "    /**\n",
       "     * Register the mime type and append_mime function with output_area\n",
       "     */\n",
       "    OutputArea.prototype.register_mime_type(EXEC_MIME_TYPE, append_mime, {\n",
       "      /* Is output safe? */\n",
       "      safe: true,\n",
       "      /* Index of renderer in `output_area.display_order` */\n",
       "      index: 0\n",
       "    });\n",
       "  }\n",
       "\n",
       "  // register the mime type if in Jupyter Notebook environment and previously unregistered\n",
       "  if (root.Jupyter !== undefined) {\n",
       "    var events = require('base/js/events');\n",
       "    var OutputArea = require('notebook/js/outputarea').OutputArea;\n",
       "\n",
       "    if (OutputArea.prototype.mime_types().indexOf(EXEC_MIME_TYPE) == -1) {\n",
       "      register_renderer(events, OutputArea);\n",
       "    }\n",
       "  }\n",
       "\n",
       "  \n",
       "  if (typeof (root._bokeh_timeout) === \"undefined\" || force === true) {\n",
       "    root._bokeh_timeout = Date.now() + 5000;\n",
       "    root._bokeh_failed_load = false;\n",
       "  }\n",
       "\n",
       "  var NB_LOAD_WARNING = {'data': {'text/html':\n",
       "     \"<div style='background-color: #fdd'>\\n\"+\n",
       "     \"<p>\\n\"+\n",
       "     \"BokehJS does not appear to have successfully loaded. If loading BokehJS from CDN, this \\n\"+\n",
       "     \"may be due to a slow or bad network connection. Possible fixes:\\n\"+\n",
       "     \"</p>\\n\"+\n",
       "     \"<ul>\\n\"+\n",
       "     \"<li>re-rerun `output_notebook()` to attempt to load from CDN again, or</li>\\n\"+\n",
       "     \"<li>use INLINE resources instead, as so:</li>\\n\"+\n",
       "     \"</ul>\\n\"+\n",
       "     \"<code>\\n\"+\n",
       "     \"from bokeh.resources import INLINE\\n\"+\n",
       "     \"output_notebook(resources=INLINE)\\n\"+\n",
       "     \"</code>\\n\"+\n",
       "     \"</div>\"}};\n",
       "\n",
       "  function display_loaded() {\n",
       "    var el = document.getElementById(\"1001\");\n",
       "    if (el != null) {\n",
       "      el.textContent = \"BokehJS is loading...\";\n",
       "    }\n",
       "    if (root.Bokeh !== undefined) {\n",
       "      if (el != null) {\n",
       "        el.textContent = \"BokehJS \" + root.Bokeh.version + \" successfully loaded.\";\n",
       "      }\n",
       "    } else if (Date.now() < root._bokeh_timeout) {\n",
       "      setTimeout(display_loaded, 100)\n",
       "    }\n",
       "  }\n",
       "\n",
       "\n",
       "  function run_callbacks() {\n",
       "    try {\n",
       "      root._bokeh_onload_callbacks.forEach(function(callback) {\n",
       "        if (callback != null)\n",
       "          callback();\n",
       "      });\n",
       "    } finally {\n",
       "      delete root._bokeh_onload_callbacks\n",
       "    }\n",
       "    console.debug(\"Bokeh: all callbacks have finished\");\n",
       "  }\n",
       "\n",
       "  function load_libs(css_urls, js_urls, callback) {\n",
       "    if (css_urls == null) css_urls = [];\n",
       "    if (js_urls == null) js_urls = [];\n",
       "\n",
       "    root._bokeh_onload_callbacks.push(callback);\n",
       "    if (root._bokeh_is_loading > 0) {\n",
       "      console.debug(\"Bokeh: BokehJS is being loaded, scheduling callback at\", now());\n",
       "      return null;\n",
       "    }\n",
       "    if (js_urls == null || js_urls.length === 0) {\n",
       "      run_callbacks();\n",
       "      return null;\n",
       "    }\n",
       "    console.debug(\"Bokeh: BokehJS not loaded, scheduling load and callback at\", now());\n",
       "    root._bokeh_is_loading = css_urls.length + js_urls.length;\n",
       "\n",
       "    function on_load() {\n",
       "      root._bokeh_is_loading--;\n",
       "      if (root._bokeh_is_loading === 0) {\n",
       "        console.debug(\"Bokeh: all BokehJS libraries/stylesheets loaded\");\n",
       "        run_callbacks()\n",
       "      }\n",
       "    }\n",
       "\n",
       "    function on_error() {\n",
       "      console.error(\"failed to load \" + url);\n",
       "    }\n",
       "\n",
       "    for (var i = 0; i < css_urls.length; i++) {\n",
       "      var url = css_urls[i];\n",
       "      const element = document.createElement(\"link\");\n",
       "      element.onload = on_load;\n",
       "      element.onerror = on_error;\n",
       "      element.rel = \"stylesheet\";\n",
       "      element.type = \"text/css\";\n",
       "      element.href = url;\n",
       "      console.debug(\"Bokeh: injecting link tag for BokehJS stylesheet: \", url);\n",
       "      document.body.appendChild(element);\n",
       "    }\n",
       "\n",
       "    const hashes = {\"https://cdn.bokeh.org/bokeh/release/bokeh-2.2.1.min.js\": \"qkRvDQVAIfzsJo40iRBbxt6sttt0hv4lh74DG7OK4MCHv4C5oohXYoHUM5W11uqS\", \"https://cdn.bokeh.org/bokeh/release/bokeh-widgets-2.2.1.min.js\": \"Sb7Mr06a9TNlet/GEBeKaf5xH3eb6AlCzwjtU82wNPyDrnfoiVl26qnvlKjmcAd+\", \"https://cdn.bokeh.org/bokeh/release/bokeh-tables-2.2.1.min.js\": \"HaJ15vgfmcfRtB4c4YBOI4f1MUujukqInOWVqZJZZGK7Q+ivud0OKGSTn/Vm2iso\"};\n",
       "\n",
       "    for (var i = 0; i < js_urls.length; i++) {\n",
       "      var url = js_urls[i];\n",
       "      var element = document.createElement('script');\n",
       "      element.onload = on_load;\n",
       "      element.onerror = on_error;\n",
       "      element.async = false;\n",
       "      element.src = url;\n",
       "      if (url in hashes) {\n",
       "        element.crossOrigin = \"anonymous\";\n",
       "        element.integrity = \"sha384-\" + hashes[url];\n",
       "      }\n",
       "      console.debug(\"Bokeh: injecting script tag for BokehJS library: \", url);\n",
       "      document.head.appendChild(element);\n",
       "    }\n",
       "  };\n",
       "\n",
       "  function inject_raw_css(css) {\n",
       "    const element = document.createElement(\"style\");\n",
       "    element.appendChild(document.createTextNode(css));\n",
       "    document.body.appendChild(element);\n",
       "  }\n",
       "\n",
       "  \n",
       "  var js_urls = [\"https://cdn.bokeh.org/bokeh/release/bokeh-2.2.1.min.js\", \"https://cdn.bokeh.org/bokeh/release/bokeh-widgets-2.2.1.min.js\", \"https://cdn.bokeh.org/bokeh/release/bokeh-tables-2.2.1.min.js\"];\n",
       "  var css_urls = [];\n",
       "  \n",
       "\n",
       "  var inline_js = [\n",
       "    function(Bokeh) {\n",
       "      Bokeh.set_log_level(\"info\");\n",
       "    },\n",
       "    function(Bokeh) {\n",
       "    \n",
       "    \n",
       "    }\n",
       "  ];\n",
       "\n",
       "  function run_inline_js() {\n",
       "    \n",
       "    if (root.Bokeh !== undefined || force === true) {\n",
       "      \n",
       "    for (var i = 0; i < inline_js.length; i++) {\n",
       "      inline_js[i].call(root, root.Bokeh);\n",
       "    }\n",
       "    if (force === true) {\n",
       "        display_loaded();\n",
       "      }} else if (Date.now() < root._bokeh_timeout) {\n",
       "      setTimeout(run_inline_js, 100);\n",
       "    } else if (!root._bokeh_failed_load) {\n",
       "      console.log(\"Bokeh: BokehJS failed to load within specified timeout.\");\n",
       "      root._bokeh_failed_load = true;\n",
       "    } else if (force !== true) {\n",
       "      var cell = $(document.getElementById(\"1001\")).parents('.cell').data().cell;\n",
       "      cell.output_area.append_execute_result(NB_LOAD_WARNING)\n",
       "    }\n",
       "\n",
       "  }\n",
       "\n",
       "  if (root._bokeh_is_loading === 0) {\n",
       "    console.debug(\"Bokeh: BokehJS loaded, going straight to plotting\");\n",
       "    run_inline_js();\n",
       "  } else {\n",
       "    load_libs(css_urls, js_urls, function() {\n",
       "      console.debug(\"Bokeh: BokehJS plotting callback run at\", now());\n",
       "      run_inline_js();\n",
       "    });\n",
       "  }\n",
       "}(window));"
      ],
      "application/vnd.bokehjs_load.v0+json": "\n(function(root) {\n  function now() {\n    return new Date();\n  }\n\n  var force = true;\n\n  if (typeof root._bokeh_onload_callbacks === \"undefined\" || force === true) {\n    root._bokeh_onload_callbacks = [];\n    root._bokeh_is_loading = undefined;\n  }\n\n  \n\n  \n  if (typeof (root._bokeh_timeout) === \"undefined\" || force === true) {\n    root._bokeh_timeout = Date.now() + 5000;\n    root._bokeh_failed_load = false;\n  }\n\n  var NB_LOAD_WARNING = {'data': {'text/html':\n     \"<div style='background-color: #fdd'>\\n\"+\n     \"<p>\\n\"+\n     \"BokehJS does not appear to have successfully loaded. If loading BokehJS from CDN, this \\n\"+\n     \"may be due to a slow or bad network connection. Possible fixes:\\n\"+\n     \"</p>\\n\"+\n     \"<ul>\\n\"+\n     \"<li>re-rerun `output_notebook()` to attempt to load from CDN again, or</li>\\n\"+\n     \"<li>use INLINE resources instead, as so:</li>\\n\"+\n     \"</ul>\\n\"+\n     \"<code>\\n\"+\n     \"from bokeh.resources import INLINE\\n\"+\n     \"output_notebook(resources=INLINE)\\n\"+\n     \"</code>\\n\"+\n     \"</div>\"}};\n\n  function display_loaded() {\n    var el = document.getElementById(\"1001\");\n    if (el != null) {\n      el.textContent = \"BokehJS is loading...\";\n    }\n    if (root.Bokeh !== undefined) {\n      if (el != null) {\n        el.textContent = \"BokehJS \" + root.Bokeh.version + \" successfully loaded.\";\n      }\n    } else if (Date.now() < root._bokeh_timeout) {\n      setTimeout(display_loaded, 100)\n    }\n  }\n\n\n  function run_callbacks() {\n    try {\n      root._bokeh_onload_callbacks.forEach(function(callback) {\n        if (callback != null)\n          callback();\n      });\n    } finally {\n      delete root._bokeh_onload_callbacks\n    }\n    console.debug(\"Bokeh: all callbacks have finished\");\n  }\n\n  function load_libs(css_urls, js_urls, callback) {\n    if (css_urls == null) css_urls = [];\n    if (js_urls == null) js_urls = [];\n\n    root._bokeh_onload_callbacks.push(callback);\n    if (root._bokeh_is_loading > 0) {\n      console.debug(\"Bokeh: BokehJS is being loaded, scheduling callback at\", now());\n      return null;\n    }\n    if (js_urls == null || js_urls.length === 0) {\n      run_callbacks();\n      return null;\n    }\n    console.debug(\"Bokeh: BokehJS not loaded, scheduling load and callback at\", now());\n    root._bokeh_is_loading = css_urls.length + js_urls.length;\n\n    function on_load() {\n      root._bokeh_is_loading--;\n      if (root._bokeh_is_loading === 0) {\n        console.debug(\"Bokeh: all BokehJS libraries/stylesheets loaded\");\n        run_callbacks()\n      }\n    }\n\n    function on_error() {\n      console.error(\"failed to load \" + url);\n    }\n\n    for (var i = 0; i < css_urls.length; i++) {\n      var url = css_urls[i];\n      const element = document.createElement(\"link\");\n      element.onload = on_load;\n      element.onerror = on_error;\n      element.rel = \"stylesheet\";\n      element.type = \"text/css\";\n      element.href = url;\n      console.debug(\"Bokeh: injecting link tag for BokehJS stylesheet: \", url);\n      document.body.appendChild(element);\n    }\n\n    const hashes = {\"https://cdn.bokeh.org/bokeh/release/bokeh-2.2.1.min.js\": \"qkRvDQVAIfzsJo40iRBbxt6sttt0hv4lh74DG7OK4MCHv4C5oohXYoHUM5W11uqS\", \"https://cdn.bokeh.org/bokeh/release/bokeh-widgets-2.2.1.min.js\": \"Sb7Mr06a9TNlet/GEBeKaf5xH3eb6AlCzwjtU82wNPyDrnfoiVl26qnvlKjmcAd+\", \"https://cdn.bokeh.org/bokeh/release/bokeh-tables-2.2.1.min.js\": \"HaJ15vgfmcfRtB4c4YBOI4f1MUujukqInOWVqZJZZGK7Q+ivud0OKGSTn/Vm2iso\"};\n\n    for (var i = 0; i < js_urls.length; i++) {\n      var url = js_urls[i];\n      var element = document.createElement('script');\n      element.onload = on_load;\n      element.onerror = on_error;\n      element.async = false;\n      element.src = url;\n      if (url in hashes) {\n        element.crossOrigin = \"anonymous\";\n        element.integrity = \"sha384-\" + hashes[url];\n      }\n      console.debug(\"Bokeh: injecting script tag for BokehJS library: \", url);\n      document.head.appendChild(element);\n    }\n  };\n\n  function inject_raw_css(css) {\n    const element = document.createElement(\"style\");\n    element.appendChild(document.createTextNode(css));\n    document.body.appendChild(element);\n  }\n\n  \n  var js_urls = [\"https://cdn.bokeh.org/bokeh/release/bokeh-2.2.1.min.js\", \"https://cdn.bokeh.org/bokeh/release/bokeh-widgets-2.2.1.min.js\", \"https://cdn.bokeh.org/bokeh/release/bokeh-tables-2.2.1.min.js\"];\n  var css_urls = [];\n  \n\n  var inline_js = [\n    function(Bokeh) {\n      Bokeh.set_log_level(\"info\");\n    },\n    function(Bokeh) {\n    \n    \n    }\n  ];\n\n  function run_inline_js() {\n    \n    if (root.Bokeh !== undefined || force === true) {\n      \n    for (var i = 0; i < inline_js.length; i++) {\n      inline_js[i].call(root, root.Bokeh);\n    }\n    if (force === true) {\n        display_loaded();\n      }} else if (Date.now() < root._bokeh_timeout) {\n      setTimeout(run_inline_js, 100);\n    } else if (!root._bokeh_failed_load) {\n      console.log(\"Bokeh: BokehJS failed to load within specified timeout.\");\n      root._bokeh_failed_load = true;\n    } else if (force !== true) {\n      var cell = $(document.getElementById(\"1001\")).parents('.cell').data().cell;\n      cell.output_area.append_execute_result(NB_LOAD_WARNING)\n    }\n\n  }\n\n  if (root._bokeh_is_loading === 0) {\n    console.debug(\"Bokeh: BokehJS loaded, going straight to plotting\");\n    run_inline_js();\n  } else {\n    load_libs(css_urls, js_urls, function() {\n      console.debug(\"Bokeh: BokehJS plotting callback run at\", now());\n      run_inline_js();\n    });\n  }\n}(window));"
     },
     "metadata": {},
     "output_type": "display_data"
    },
    {
     "data": {
      "text/html": [
       "\n",
       "\n",
       "\n",
       "\n",
       "\n",
       "\n",
       "  <div class=\"bk-root\" id=\"39bf5415-204c-4d5f-837a-b54a8fa8f59d\" data-root-id=\"1002\"></div>\n"
      ]
     },
     "metadata": {},
     "output_type": "display_data"
    },
    {
     "data": {
      "application/javascript": [
       "(function(root) {\n",
       "  function embed_document(root) {\n",
       "    \n",
       "  var docs_json = {\"14e0b803-9e31-4fda-a6fc-da11cf24804a\":{\"roots\":{\"references\":[{\"attributes\":{\"below\":[{\"id\":\"1013\"}],\"center\":[{\"id\":\"1016\"},{\"id\":\"1020\"}],\"left\":[{\"id\":\"1017\"}],\"plot_width\":800,\"renderers\":[{\"id\":\"1036\"},{\"id\":\"1041\"},{\"id\":\"1046\"}],\"title\":{\"id\":\"1003\"},\"toolbar\":{\"id\":\"1027\"},\"x_range\":{\"id\":\"1005\"},\"x_scale\":{\"id\":\"1009\"},\"y_range\":{\"id\":\"1007\"},\"y_scale\":{\"id\":\"1011\"}},\"id\":\"1002\",\"subtype\":\"Figure\",\"type\":\"Plot\"},{\"attributes\":{\"days\":[1,4,7,10,13,16,19,22,25,28]},\"id\":\"1057\",\"type\":\"DaysTicker\"},{\"attributes\":{\"axis\":{\"id\":\"1017\"},\"dimension\":1,\"grid_line_alpha\":0.3,\"ticker\":null},\"id\":\"1020\",\"type\":\"Grid\"},{\"attributes\":{\"source\":{\"id\":\"1033\"}},\"id\":\"1037\",\"type\":\"CDSView\"},{\"attributes\":{},\"id\":\"1070\",\"type\":\"UnionRenderers\"},{\"attributes\":{\"data_source\":{\"id\":\"1033\"},\"glyph\":{\"id\":\"1034\"},\"hover_glyph\":null,\"muted_glyph\":null,\"nonselection_glyph\":{\"id\":\"1035\"},\"selection_glyph\":null,\"view\":{\"id\":\"1037\"}},\"id\":\"1036\",\"type\":\"GlyphRenderer\"},{\"attributes\":{\"data\":{\"bottom\":{\"__ndarray__\":\"H4XrUbguh0BxPQrXozSHQIXrUbges4ZA9ihcj8JThkAK16NwPWCGQBSuR+F65IVAuB6F61HuhUCPwvUoXD2GQLgehetRSIZAUrgehevfhUAzMzMzM+WHQJqZmZmZt4ZArkfhehQghkDD9Shcj1yFQClcj8L1YIVAMzMzMzNThUAAAAAAAJiFQM3MzMzMyoVASOF6FK4ThkDNzMzMzL6FQMP1KFyPCIZAXI/C9SjOhUDNzMzMzHaGQI/C9ShcQ4ZAhetRuB43hkDhehSuR7mFQM3MzMzMDIdAFK5H4XoQh0AK16NwPeyGQJqZmZmZR4dA\",\"dtype\":\"float64\",\"order\":\"little\",\"shape\":[30]},\"top\":{\"__ndarray__\":\"AAAAAAA4h0CamZmZmVOHQBSuR+F60oZAmpmZmZnbhkB7FK5H4WSGQM3MzMzM1oZAZmZmZmb6hUBxPQrXo5yGQM3MzMzMToZAj8L1KFxNhkAAAAAAAISIQPYoXI/CEYhAFK5H4XqWhkApXI/C9f6FQHsUrkfhdoVArkfhehSShUCkcD0K16eFQAAAAAAAMIZAmpmZmZkbhkCamZmZmeuFQHE9CtejJIZAw/UoXI/ihUAAAAAAAHiGQD0K16NwdYZAUrgehetXhkAzMzMzMxeGQHsUrkfhLodAexSuR+Eyh0C4HoXrUQaHQAAAAAAAaodA\",\"dtype\":\"float64\",\"order\":\"little\",\"shape\":[30]},\"x\":{\"__ndarray__\":\"AAAA754gdUIAAMBU8SB1QgAAQCCWIXVCAAAAhughdUIAAEC33yJ1QgAAwIKEI3VCAABA5XIldUIAAMBHYSd1QgAAgK2zJ3VCAABAEwYodUIAAMB19Cl1QgAAgNtGKnVCAABAQZkqdUIAAACn6yp1QgAAwKOHLHVCAABAbywtdUIAAEAGdi51QgAAwNEaL3VCAADAaGQwdUIAAIDOtjB1QgAAwP+tMXVCAAAAMaUydUIAAID8STN1QgAAQGKcM3VCAAAAyO4zdUIAAED55TR1QgAAgFhwOHVCAABAVQw6dUIAAABSqDt1QgAAQIOfPHVC\",\"dtype\":\"float64\",\"order\":\"little\",\"shape\":[30]}},\"selected\":{\"id\":\"1069\"},\"selection_policy\":{\"id\":\"1070\"}},\"id\":\"1043\",\"type\":\"ColumnDataSource\"},{\"attributes\":{\"months\":[0,1,2,3,4,5,6,7,8,9,10,11]},\"id\":\"1060\",\"type\":\"MonthsTicker\"},{\"attributes\":{\"data\":{\"bottom\":{\"__ndarray__\":\"KVyPwvU8h0DD9Shcj7CGQPYoXI/CVYZAmpmZmZmzhUCamZmZmdOFQB+F61G4FIZAAAAAAACqhkBI4XoUrteGQJqZmZmZN4dAAAAAAACAh0BSuB6F61WFQHsUrkfhMIVAexSuR+FYhUAzMzMzMyOGQOF6FK5H54VAFK5H4XrchUAAAAAAAA6GQBSuR+F6doZA9ihcj8KvhUBSuB6F6wmGQMP1KFyPRoZAw/UoXI+2hkBSuB6F69OGQHE9CtejwoZAH4XrUbgAh0AK16NwPQ6HQB+F61G4MIdAAAAAAAAmh0BmZmZmZvqGQFyPwvUoRodACtejcD10h0DhehSuR2+HQA==\",\"dtype\":\"float64\",\"order\":\"little\",\"shape\":[32]},\"top\":{\"__ndarray__\":\"AAAAAADQhkA9CtejcI2GQNejcD0KC4ZAuB6F61GihUB7FK5H4YSFQD0K16Nw8YVAzczMzMychkD2KFyPwpGGQArXo3A93IZASOF6FK5zh0DNzMzMzN6EQMP1KFyPAoVAAAAAAAAYhUAAAAAAANiFQArXo3A9uIVAj8L1KFyHhUCuR+F6FOCFQClcj8L1/IVAH4XrUbiEhUD2KFyPwtOFQClcj8L1IIZAAAAAAACAhkAUrkfheraGQI/C9Shct4ZAKVyPwvWyhkCamZmZmQOHQAAAAAAABIdASOF6FK4Lh0CuR+F6FOCGQB+F61G49IZAzczMzMxwh0DNzMzMzBSHQA==\",\"dtype\":\"float64\",\"order\":\"little\",\"shape\":[32]},\"x\":{\"__ndarray__\":\"AACAukMhdUIAAAAdMiN1QgAAgOjWI3VCAABATikkdUIAAABLxSV1QgAAwLAXJnVCAACAFmomdUIAAAB5WCh1QgAAwN6qKHVCAAAAEKIpdUIAAEDY4it1QgAAAD41LHVCAACACdosdUIAAABsyC51QgAAgDdtL3VCAABANAkxdUIAAACaWzF1QgAAwJb3MnVCAAAAXzg1dUIAAMDEijV1QgAAgCrdNXVCAABAkC82dUIAAIDBJjd1QgAAQCd5N3VCAAAAjcs3dUIAAMDyHTh1QgAAwIlnOXVCAACA77k5dUIAAAC7Xjp1QgAAwLf6O3VCAACAHU08dUIAAADp8Tx1Qg==\",\"dtype\":\"float64\",\"order\":\"little\",\"shape\":[32]}},\"selected\":{\"id\":\"1067\"},\"selection_policy\":{\"id\":\"1068\"}},\"id\":\"1038\",\"type\":\"ColumnDataSource\"},{\"attributes\":{\"bottom\":{\"field\":\"bottom\"},\"fill_alpha\":{\"value\":0.1},\"fill_color\":{\"value\":\"#F2583E\"},\"line_alpha\":{\"value\":0.1},\"top\":{\"field\":\"top\"},\"width\":{\"value\":43200000},\"x\":{\"field\":\"x\"}},\"id\":\"1045\",\"type\":\"VBar\"},{\"attributes\":{\"data_source\":{\"id\":\"1043\"},\"glyph\":{\"id\":\"1044\"},\"hover_glyph\":null,\"muted_glyph\":null,\"nonselection_glyph\":{\"id\":\"1045\"},\"selection_glyph\":null,\"view\":{\"id\":\"1047\"}},\"id\":\"1046\",\"type\":\"GlyphRenderer\"},{\"attributes\":{\"days\":[1,8,15,22]},\"id\":\"1058\",\"type\":\"DaysTicker\"},{\"attributes\":{\"days\":[1,15]},\"id\":\"1059\",\"type\":\"DaysTicker\"},{\"attributes\":{},\"id\":\"1011\",\"type\":\"LinearScale\"},{\"attributes\":{},\"id\":\"1021\",\"type\":\"PanTool\"},{\"attributes\":{\"data_source\":{\"id\":\"1038\"},\"glyph\":{\"id\":\"1039\"},\"hover_glyph\":null,\"muted_glyph\":null,\"nonselection_glyph\":{\"id\":\"1040\"},\"selection_glyph\":null,\"view\":{\"id\":\"1042\"}},\"id\":\"1041\",\"type\":\"GlyphRenderer\"},{\"attributes\":{},\"id\":\"1025\",\"type\":\"SaveTool\"},{\"attributes\":{\"overlay\":{\"id\":\"1026\"}},\"id\":\"1023\",\"type\":\"BoxZoomTool\"},{\"attributes\":{\"months\":[0,2,4,6,8,10]},\"id\":\"1061\",\"type\":\"MonthsTicker\"},{\"attributes\":{},\"id\":\"1018\",\"type\":\"BasicTicker\"},{\"attributes\":{\"bottom\":{\"field\":\"bottom\"},\"fill_alpha\":{\"value\":0.1},\"fill_color\":{\"value\":\"#2aff04\"},\"line_alpha\":{\"value\":0.1},\"top\":{\"field\":\"top\"},\"width\":{\"value\":43200000},\"x\":{\"field\":\"x\"}},\"id\":\"1040\",\"type\":\"VBar\"},{\"attributes\":{},\"id\":\"1024\",\"type\":\"ResetTool\"},{\"attributes\":{},\"id\":\"1007\",\"type\":\"DataRange1d\"},{\"attributes\":{\"months\":[0,4,8]},\"id\":\"1062\",\"type\":\"MonthsTicker\"},{\"attributes\":{\"source\":{\"id\":\"1043\"}},\"id\":\"1047\",\"type\":\"CDSView\"},{\"attributes\":{},\"id\":\"1009\",\"type\":\"LinearScale\"},{\"attributes\":{\"bottom\":{\"field\":\"bottom\"},\"fill_color\":{\"value\":\"#F2583E\"},\"top\":{\"field\":\"top\"},\"width\":{\"value\":43200000},\"x\":{\"field\":\"x\"}},\"id\":\"1044\",\"type\":\"VBar\"},{\"attributes\":{\"months\":[0,6]},\"id\":\"1063\",\"type\":\"MonthsTicker\"},{\"attributes\":{},\"id\":\"1069\",\"type\":\"Selection\"},{\"attributes\":{\"text\":\"F Candlestick\"},\"id\":\"1003\",\"type\":\"Title\"},{\"attributes\":{\"x0\":{\"field\":\"x0\"},\"x1\":{\"field\":\"x1\"},\"y0\":{\"field\":\"y0\"},\"y1\":{\"field\":\"y1\"}},\"id\":\"1034\",\"type\":\"Segment\"},{\"attributes\":{\"source\":{\"id\":\"1038\"}},\"id\":\"1042\",\"type\":\"CDSView\"},{\"attributes\":{\"formatter\":{\"id\":\"1050\"},\"major_label_orientation\":0.7853981633974483,\"ticker\":{\"id\":\"1014\"}},\"id\":\"1013\",\"type\":\"DatetimeAxis\"},{\"attributes\":{\"bottom\":{\"field\":\"bottom\"},\"fill_color\":{\"value\":\"#2aff04\"},\"top\":{\"field\":\"top\"},\"width\":{\"value\":43200000},\"x\":{\"field\":\"x\"}},\"id\":\"1039\",\"type\":\"VBar\"},{\"attributes\":{},\"id\":\"1066\",\"type\":\"UnionRenderers\"},{\"attributes\":{\"num_minor_ticks\":5,\"tickers\":[{\"id\":\"1053\"},{\"id\":\"1054\"},{\"id\":\"1055\"},{\"id\":\"1056\"},{\"id\":\"1057\"},{\"id\":\"1058\"},{\"id\":\"1059\"},{\"id\":\"1060\"},{\"id\":\"1061\"},{\"id\":\"1062\"},{\"id\":\"1063\"},{\"id\":\"1064\"}]},\"id\":\"1014\",\"type\":\"DatetimeTicker\"},{\"attributes\":{\"base\":60,\"mantissas\":[1,2,5,10,15,20,30],\"max_interval\":1800000.0,\"min_interval\":1000.0,\"num_minor_ticks\":0},\"id\":\"1054\",\"type\":\"AdaptiveTicker\"},{\"attributes\":{},\"id\":\"1064\",\"type\":\"YearsTicker\"},{\"attributes\":{},\"id\":\"1050\",\"type\":\"DatetimeTickFormatter\"},{\"attributes\":{\"line_alpha\":{\"value\":0.1},\"x0\":{\"field\":\"x0\"},\"x1\":{\"field\":\"x1\"},\"y0\":{\"field\":\"y0\"},\"y1\":{\"field\":\"y1\"}},\"id\":\"1035\",\"type\":\"Segment\"},{\"attributes\":{\"formatter\":{\"id\":\"1052\"},\"ticker\":{\"id\":\"1018\"}},\"id\":\"1017\",\"type\":\"LinearAxis\"},{\"attributes\":{},\"id\":\"1065\",\"type\":\"Selection\"},{\"attributes\":{},\"id\":\"1052\",\"type\":\"BasicTickFormatter\"},{\"attributes\":{},\"id\":\"1005\",\"type\":\"DataRange1d\"},{\"attributes\":{},\"id\":\"1068\",\"type\":\"UnionRenderers\"},{\"attributes\":{\"axis\":{\"id\":\"1013\"},\"grid_line_alpha\":0.3,\"ticker\":null},\"id\":\"1016\",\"type\":\"Grid\"},{\"attributes\":{\"mantissas\":[1,2,5],\"max_interval\":500.0,\"num_minor_ticks\":0},\"id\":\"1053\",\"type\":\"AdaptiveTicker\"},{\"attributes\":{},\"id\":\"1067\",\"type\":\"Selection\"},{\"attributes\":{\"bottom_units\":\"screen\",\"fill_alpha\":0.5,\"fill_color\":\"lightgrey\",\"left_units\":\"screen\",\"level\":\"overlay\",\"line_alpha\":1.0,\"line_color\":\"black\",\"line_dash\":[4,4],\"line_width\":2,\"right_units\":\"screen\",\"top_units\":\"screen\"},\"id\":\"1026\",\"type\":\"BoxAnnotation\"},{\"attributes\":{\"active_drag\":\"auto\",\"active_inspect\":\"auto\",\"active_multi\":null,\"active_scroll\":\"auto\",\"active_tap\":\"auto\",\"tools\":[{\"id\":\"1021\"},{\"id\":\"1022\"},{\"id\":\"1023\"},{\"id\":\"1024\"},{\"id\":\"1025\"}]},\"id\":\"1027\",\"type\":\"Toolbar\"},{\"attributes\":{\"days\":[1,2,3,4,5,6,7,8,9,10,11,12,13,14,15,16,17,18,19,20,21,22,23,24,25,26,27,28,29,30,31]},\"id\":\"1056\",\"type\":\"DaysTicker\"},{\"attributes\":{},\"id\":\"1022\",\"type\":\"WheelZoomTool\"},{\"attributes\":{\"base\":24,\"mantissas\":[1,2,4,6,8,12],\"max_interval\":43200000.0,\"min_interval\":3600000.0,\"num_minor_ticks\":0},\"id\":\"1055\",\"type\":\"AdaptiveTicker\"},{\"attributes\":{\"data\":{\"x0\":{\"__ndarray__\":\"AAAA754gdUIAAMBU8SB1QgAAgLpDIXVCAABAIJYhdUIAAACG6CF1QgAAQLffInVCAAAAHTIjdUIAAMCChCN1QgAAgOjWI3VCAABATikkdUIAAEDlciV1QgAAAEvFJXVCAADAsBcmdUIAAIAWaiZ1QgAAwEdhJ3VCAACArbMndUIAAEATBih1QgAAAHlYKHVCAADA3qoodUIAAAAQoil1QgAAwHX0KXVCAACA20YqdUIAAEBBmSp1QgAAAKfrKnVCAABA2OIrdUIAAAA+NSx1QgAAwKOHLHVCAACACdosdUIAAEBvLC11QgAAQAZ2LnVCAAAAbMgudUIAAMDRGi91QgAAgDdtL3VCAADAaGQwdUIAAIDOtjB1QgAAQDQJMXVCAAAAmlsxdUIAAMD/rTF1QgAAADGlMnVCAADAlvcydUIAAID8STN1QgAAQGKcM3VCAAAAyO4zdUIAAED55TR1QgAAAF84NXVCAADAxIo1dUIAAIAq3TV1QgAAQJAvNnVCAACAwSY3dUIAAEAneTd1QgAAAI3LN3VCAADA8h04dUIAAIBYcDh1QgAAwIlnOXVCAACA77k5dUIAAEBVDDp1QgAAALteOnVCAAAAUqg7dUIAAMC3+jt1QgAAgB1NPHVCAABAg588dUIAAADp8Tx1Qg==\",\"dtype\":\"float64\",\"order\":\"little\",\"shape\":[62]},\"x1\":{\"__ndarray__\":\"AAAA754gdUIAAMBU8SB1QgAAgLpDIXVCAABAIJYhdUIAAACG6CF1QgAAQLffInVCAAAAHTIjdUIAAMCChCN1QgAAgOjWI3VCAABATikkdUIAAEDlciV1QgAAAEvFJXVCAADAsBcmdUIAAIAWaiZ1QgAAwEdhJ3VCAACArbMndUIAAEATBih1QgAAAHlYKHVCAADA3qoodUIAAAAQoil1QgAAwHX0KXVCAACA20YqdUIAAEBBmSp1QgAAAKfrKnVCAABA2OIrdUIAAAA+NSx1QgAAwKOHLHVCAACACdosdUIAAEBvLC11QgAAQAZ2LnVCAAAAbMgudUIAAMDRGi91QgAAgDdtL3VCAADAaGQwdUIAAIDOtjB1QgAAQDQJMXVCAAAAmlsxdUIAAMD/rTF1QgAAADGlMnVCAADAlvcydUIAAID8STN1QgAAQGKcM3VCAAAAyO4zdUIAAED55TR1QgAAAF84NXVCAADAxIo1dUIAAIAq3TV1QgAAQJAvNnVCAACAwSY3dUIAAEAneTd1QgAAAI3LN3VCAADA8h04dUIAAIBYcDh1QgAAwIlnOXVCAACA77k5dUIAAEBVDDp1QgAAALteOnVCAAAAUqg7dUIAAMC3+jt1QgAAgB1NPHVCAABAg588dUIAAADp8Tx1Qg==\",\"dtype\":\"float64\",\"order\":\"little\",\"shape\":[62]},\"y0\":{\"__ndarray__\":\"FK5H4XpAh0AAAAAAAICHQD0K16NwWYdAAAAAAAAUh0CkcD0K1+mGQKRwPQrXdoZAAAAAAADGhkBSuB6F6/WGQGZmZmZmj4ZAUrgehesVhkCkcD0K1y+GQM3MzMzMFoZA7FG4HoV5hkDXo3A9CsGGQD0K16NwzYZACtejcD1yhkB7FK5H4XGGQOxRuB6F7YZAfPKwUOtHh0B7FK5H4a6HQFOWIY71rohAAAAAAAA0iEAAAAAAALiGQFK4HoXr/4VACtejcD1ghUAzMzMzM9+FQBSuR+F66oVAzczMzMyKhUAAAAAAAK6FQAAAAAAA0IVAAAAAAAAuhkDNzMzMzEKGQKAaL92k+IVAUrgehetJhkAzMzMzMyOGQAAAAAAA4IVApHA9CtcPhkA9CtejcEuGQIXrUbgeN4ZAFK5H4Xp2hkAAAAAAAICGQJqZmZmZe4ZAUrgehetjhkApyxDHuiCGQLgehetR/oVAPQrXo3ANhkDsUbgehWOGQI/C9Shct4ZAAAAAAAD8hkC4HoXrUeKGQPYoXI/CC4dAw/UoXI84h0AAAAAAADCHQAAAAAAANIdAAAAAAABIh0AgY+5awk2HQOXQItv5DYdAUrgehesXh0AAAAAAAFqHQNejcD0Kr4dAzczMzMx2h0AfhetRuHKHQA==\",\"dtype\":\"float64\",\"order\":\"little\",\"shape\":[62]},\"y1\":{\"__ndarray__\":\"b4EExQ/ahkCF61G4HhWHQI/C9Shcx4ZAFK5H4Xp4hkAAAAAAAEiGQLgehetR/IVAeekmMYhqhkB7FK5H4dSFQM3MzMzMiIVAKVyPwvVqhUC4QILiR6uFQK5H4XoUCoVASOF6FK6zhUCHFtnO94CGQK5H4XoUMIZApHA9CtcThkCF61G4HrOFQM3MzMzMQoZAZmZmZma2hkBcj8L1KDqHQDMzMzMz5YdAAAAAAACEhkB7FK5H4e6FQDMzMzMzQYVAFK5H4Xq4hEBcj8L1KOaEQNejcD0KUYVAPQrXo/DmhEDNzMzMzDSFQGZmZmZmaIVA16NwPQqbhUAK16NwPcCFQGZmZmZmsIVArkfhehT0hUBxPQrXo6yFQArXo3A9RoVASOF6FK6UhUB7FK5H4eaFQD0K16NwzYVAXI/C9SjehUAAAAAAAECGQFyPwvUoEIZAXI/C9SgQhkAzMzMzM3eFQB+F61G4aoVAAAAAAACwhUB7FK5H4fqFQAAAAAAAaYZAMzMzMzOphkBcj8L1KKaGQK5H4XoUpIZAAAAAAAAAh0BxPQrXo96GQGFUUicg7IZASOF6FK4Lh0AzMzMzMwGHQAAAAAAA2IZAAAAAAADkhkCuR+F6FMaGQFK4HoXrZYdA7FG4HoUnh0AAAAAAAAiHQA==\",\"dtype\":\"float64\",\"order\":\"little\",\"shape\":[62]}},\"selected\":{\"id\":\"1065\"},\"selection_policy\":{\"id\":\"1066\"}},\"id\":\"1033\",\"type\":\"ColumnDataSource\"}],\"root_ids\":[\"1002\"]},\"title\":\"Bokeh Application\",\"version\":\"2.2.1\"}};\n",
       "  var render_items = [{\"docid\":\"14e0b803-9e31-4fda-a6fc-da11cf24804a\",\"root_ids\":[\"1002\"],\"roots\":{\"1002\":\"39bf5415-204c-4d5f-837a-b54a8fa8f59d\"}}];\n",
       "  root.Bokeh.embed.embed_items_notebook(docs_json, render_items);\n",
       "\n",
       "  }\n",
       "  if (root.Bokeh !== undefined) {\n",
       "    embed_document(root);\n",
       "  } else {\n",
       "    var attempts = 0;\n",
       "    var timer = setInterval(function(root) {\n",
       "      if (root.Bokeh !== undefined) {\n",
       "        clearInterval(timer);\n",
       "        embed_document(root);\n",
       "      } else {\n",
       "        attempts++;\n",
       "        if (attempts > 100) {\n",
       "          clearInterval(timer);\n",
       "          console.log(\"Bokeh: ERROR: Unable to run BokehJS code because BokehJS library is missing\");\n",
       "        }\n",
       "      }\n",
       "    }, 10, root)\n",
       "  }\n",
       "})(window);"
      ],
      "application/vnd.bokehjs_exec.v0+json": ""
     },
     "metadata": {
      "application/vnd.bokehjs_exec.v0+json": {
       "id": "1002"
      }
     },
     "output_type": "display_data"
    }
   ],
   "source": [
    "inc = f.Close > f.Open\n",
    "dec = f.Open > f.Close\n",
    "w = 12*60*60*1000 # half day in ms\n",
    "\n",
    "TOOLS = \"pan,wheel_zoom,box_zoom,reset,save\"\n",
    "output_notebook()\n",
    "p = figure(x_axis_type=\"datetime\", tools=TOOLS, plot_width=800, title = \"F Candlestick\")\n",
    "p.xaxis.major_label_orientation = pi/4\n",
    "p.grid.grid_line_alpha=0.3\n",
    "p.segment(f.index, f.High, f.index, f.Low, color=\"black\")\n",
    "p.vbar(f.index[inc], w, f.Open[inc], f.Close[inc], fill_color=\"#2aff04\", line_color=\"black\")\n",
    "p.vbar(f.index[dec], w, f.Open[dec], f.Close[dec], fill_color=\"#F2583E\", line_color=\"black\")\n",
    "#output_file(\"candlestick.html\", title=\"candlestick.py example\")\n",
    "show(p);  # open a browser"
   ]
  },
  {
   "cell_type": "markdown",
   "metadata": {},
   "source": [
    "### Comparing return versus volatility for several stocks "
   ]
  },
  {
   "cell_type": "code",
   "execution_count": 46,
   "metadata": {},
   "outputs": [],
   "source": [
    "import matplotlib.pyplot as plt\n",
    "%matplotlib inline\n",
    "import seaborn as sns\n",
    "sns.set()"
   ]
  },
  {
   "cell_type": "code",
   "execution_count": 47,
   "metadata": {},
   "outputs": [],
   "source": [
    "start = datetime(2016, 1, 1)\n",
    "end = datetime(2017, 1, 1)\n",
    "\n",
    "df = pdr.get_data_tiingo(['SPY', 'KO', 'V', 'DIS'], start=start, end=end, api_key=TIINGO_API_KEY)"
   ]
  },
  {
   "cell_type": "code",
   "execution_count": 48,
   "metadata": {},
   "outputs": [
    {
     "data": {
      "text/html": [
       "<div>\n",
       "<style scoped>\n",
       "    .dataframe tbody tr th:only-of-type {\n",
       "        vertical-align: middle;\n",
       "    }\n",
       "\n",
       "    .dataframe tbody tr th {\n",
       "        vertical-align: top;\n",
       "    }\n",
       "\n",
       "    .dataframe thead th {\n",
       "        text-align: right;\n",
       "    }\n",
       "</style>\n",
       "<table border=\"1\" class=\"dataframe\">\n",
       "  <thead>\n",
       "    <tr style=\"text-align: right;\">\n",
       "      <th></th>\n",
       "      <th></th>\n",
       "      <th>close</th>\n",
       "      <th>high</th>\n",
       "      <th>low</th>\n",
       "      <th>open</th>\n",
       "      <th>volume</th>\n",
       "      <th>adjClose</th>\n",
       "      <th>adjHigh</th>\n",
       "      <th>adjLow</th>\n",
       "      <th>adjOpen</th>\n",
       "      <th>adjVolume</th>\n",
       "      <th>divCash</th>\n",
       "      <th>splitFactor</th>\n",
       "    </tr>\n",
       "    <tr>\n",
       "      <th>symbol</th>\n",
       "      <th>date</th>\n",
       "      <th></th>\n",
       "      <th></th>\n",
       "      <th></th>\n",
       "      <th></th>\n",
       "      <th></th>\n",
       "      <th></th>\n",
       "      <th></th>\n",
       "      <th></th>\n",
       "      <th></th>\n",
       "      <th></th>\n",
       "      <th></th>\n",
       "      <th></th>\n",
       "    </tr>\n",
       "  </thead>\n",
       "  <tbody>\n",
       "    <tr>\n",
       "      <th rowspan=\"5\" valign=\"top\">SPY</th>\n",
       "      <th>2016-01-04 00:00:00+00:00</th>\n",
       "      <td>201.020004</td>\n",
       "      <td>201.029999</td>\n",
       "      <td>198.589996</td>\n",
       "      <td>200.490005</td>\n",
       "      <td>222353500</td>\n",
       "      <td>183.212522</td>\n",
       "      <td>183.221632</td>\n",
       "      <td>180.997778</td>\n",
       "      <td>182.729474</td>\n",
       "      <td>222353500</td>\n",
       "      <td>0.0</td>\n",
       "      <td>1.0</td>\n",
       "    </tr>\n",
       "    <tr>\n",
       "      <th>2016-01-05 00:00:00+00:00</th>\n",
       "      <td>201.360001</td>\n",
       "      <td>201.899994</td>\n",
       "      <td>200.050003</td>\n",
       "      <td>201.399994</td>\n",
       "      <td>110845800</td>\n",
       "      <td>183.522401</td>\n",
       "      <td>184.014558</td>\n",
       "      <td>182.328450</td>\n",
       "      <td>183.558851</td>\n",
       "      <td>110845800</td>\n",
       "      <td>0.0</td>\n",
       "      <td>1.0</td>\n",
       "    </tr>\n",
       "    <tr>\n",
       "      <th>2016-01-06 00:00:00+00:00</th>\n",
       "      <td>198.820007</td>\n",
       "      <td>200.059998</td>\n",
       "      <td>197.600006</td>\n",
       "      <td>198.339996</td>\n",
       "      <td>152112600</td>\n",
       "      <td>181.207414</td>\n",
       "      <td>182.337559</td>\n",
       "      <td>180.095487</td>\n",
       "      <td>180.769925</td>\n",
       "      <td>152112600</td>\n",
       "      <td>0.0</td>\n",
       "      <td>1.0</td>\n",
       "    </tr>\n",
       "    <tr>\n",
       "      <th>2016-01-07 00:00:00+00:00</th>\n",
       "      <td>194.050003</td>\n",
       "      <td>197.440002</td>\n",
       "      <td>193.589996</td>\n",
       "      <td>195.330002</td>\n",
       "      <td>213436100</td>\n",
       "      <td>176.859963</td>\n",
       "      <td>179.949657</td>\n",
       "      <td>176.440706</td>\n",
       "      <td>178.026573</td>\n",
       "      <td>213436100</td>\n",
       "      <td>0.0</td>\n",
       "      <td>1.0</td>\n",
       "    </tr>\n",
       "    <tr>\n",
       "      <th>2016-01-08 00:00:00+00:00</th>\n",
       "      <td>191.919998</td>\n",
       "      <td>195.850006</td>\n",
       "      <td>191.580002</td>\n",
       "      <td>195.190002</td>\n",
       "      <td>209817200</td>\n",
       "      <td>174.918646</td>\n",
       "      <td>178.500512</td>\n",
       "      <td>174.608769</td>\n",
       "      <td>177.898975</td>\n",
       "      <td>209817200</td>\n",
       "      <td>0.0</td>\n",
       "      <td>1.0</td>\n",
       "    </tr>\n",
       "    <tr>\n",
       "      <th>...</th>\n",
       "      <th>...</th>\n",
       "      <td>...</td>\n",
       "      <td>...</td>\n",
       "      <td>...</td>\n",
       "      <td>...</td>\n",
       "      <td>...</td>\n",
       "      <td>...</td>\n",
       "      <td>...</td>\n",
       "      <td>...</td>\n",
       "      <td>...</td>\n",
       "      <td>...</td>\n",
       "      <td>...</td>\n",
       "      <td>...</td>\n",
       "    </tr>\n",
       "    <tr>\n",
       "      <th rowspan=\"5\" valign=\"top\">DIS</th>\n",
       "      <th>2016-12-23 00:00:00+00:00</th>\n",
       "      <td>105.150000</td>\n",
       "      <td>105.340000</td>\n",
       "      <td>104.750000</td>\n",
       "      <td>105.240000</td>\n",
       "      <td>3238753</td>\n",
       "      <td>100.672961</td>\n",
       "      <td>100.854871</td>\n",
       "      <td>100.289992</td>\n",
       "      <td>100.759129</td>\n",
       "      <td>3238753</td>\n",
       "      <td>0.0</td>\n",
       "      <td>1.0</td>\n",
       "    </tr>\n",
       "    <tr>\n",
       "      <th>2016-12-27 00:00:00+00:00</th>\n",
       "      <td>105.170000</td>\n",
       "      <td>105.556000</td>\n",
       "      <td>104.780000</td>\n",
       "      <td>104.850000</td>\n",
       "      <td>3639539</td>\n",
       "      <td>100.692110</td>\n",
       "      <td>101.061675</td>\n",
       "      <td>100.318715</td>\n",
       "      <td>100.385734</td>\n",
       "      <td>3639539</td>\n",
       "      <td>0.0</td>\n",
       "      <td>1.0</td>\n",
       "    </tr>\n",
       "    <tr>\n",
       "      <th>2016-12-28 00:00:00+00:00</th>\n",
       "      <td>104.300000</td>\n",
       "      <td>105.320000</td>\n",
       "      <td>104.060000</td>\n",
       "      <td>104.990000</td>\n",
       "      <td>5178595</td>\n",
       "      <td>99.859152</td>\n",
       "      <td>100.835723</td>\n",
       "      <td>99.629371</td>\n",
       "      <td>100.519774</td>\n",
       "      <td>5178595</td>\n",
       "      <td>0.0</td>\n",
       "      <td>1.0</td>\n",
       "    </tr>\n",
       "    <tr>\n",
       "      <th>2016-12-29 00:00:00+00:00</th>\n",
       "      <td>104.560000</td>\n",
       "      <td>104.770000</td>\n",
       "      <td>103.870000</td>\n",
       "      <td>104.230000</td>\n",
       "      <td>5896763</td>\n",
       "      <td>100.108082</td>\n",
       "      <td>100.309141</td>\n",
       "      <td>99.447460</td>\n",
       "      <td>99.792133</td>\n",
       "      <td>5896763</td>\n",
       "      <td>0.0</td>\n",
       "      <td>1.0</td>\n",
       "    </tr>\n",
       "    <tr>\n",
       "      <th>2016-12-30 00:00:00+00:00</th>\n",
       "      <td>104.220000</td>\n",
       "      <td>105.000000</td>\n",
       "      <td>103.960000</td>\n",
       "      <td>104.570000</td>\n",
       "      <td>6982680</td>\n",
       "      <td>99.782558</td>\n",
       "      <td>100.529348</td>\n",
       "      <td>99.533628</td>\n",
       "      <td>100.117656</td>\n",
       "      <td>6982680</td>\n",
       "      <td>0.0</td>\n",
       "      <td>1.0</td>\n",
       "    </tr>\n",
       "  </tbody>\n",
       "</table>\n",
       "<p>1008 rows × 12 columns</p>\n",
       "</div>"
      ],
      "text/plain": [
       "                                       close        high         low  \\\n",
       "symbol date                                                            \n",
       "SPY    2016-01-04 00:00:00+00:00  201.020004  201.029999  198.589996   \n",
       "       2016-01-05 00:00:00+00:00  201.360001  201.899994  200.050003   \n",
       "       2016-01-06 00:00:00+00:00  198.820007  200.059998  197.600006   \n",
       "       2016-01-07 00:00:00+00:00  194.050003  197.440002  193.589996   \n",
       "       2016-01-08 00:00:00+00:00  191.919998  195.850006  191.580002   \n",
       "...                                      ...         ...         ...   \n",
       "DIS    2016-12-23 00:00:00+00:00  105.150000  105.340000  104.750000   \n",
       "       2016-12-27 00:00:00+00:00  105.170000  105.556000  104.780000   \n",
       "       2016-12-28 00:00:00+00:00  104.300000  105.320000  104.060000   \n",
       "       2016-12-29 00:00:00+00:00  104.560000  104.770000  103.870000   \n",
       "       2016-12-30 00:00:00+00:00  104.220000  105.000000  103.960000   \n",
       "\n",
       "                                        open     volume    adjClose  \\\n",
       "symbol date                                                           \n",
       "SPY    2016-01-04 00:00:00+00:00  200.490005  222353500  183.212522   \n",
       "       2016-01-05 00:00:00+00:00  201.399994  110845800  183.522401   \n",
       "       2016-01-06 00:00:00+00:00  198.339996  152112600  181.207414   \n",
       "       2016-01-07 00:00:00+00:00  195.330002  213436100  176.859963   \n",
       "       2016-01-08 00:00:00+00:00  195.190002  209817200  174.918646   \n",
       "...                                      ...        ...         ...   \n",
       "DIS    2016-12-23 00:00:00+00:00  105.240000    3238753  100.672961   \n",
       "       2016-12-27 00:00:00+00:00  104.850000    3639539  100.692110   \n",
       "       2016-12-28 00:00:00+00:00  104.990000    5178595   99.859152   \n",
       "       2016-12-29 00:00:00+00:00  104.230000    5896763  100.108082   \n",
       "       2016-12-30 00:00:00+00:00  104.570000    6982680   99.782558   \n",
       "\n",
       "                                     adjHigh      adjLow     adjOpen  \\\n",
       "symbol date                                                            \n",
       "SPY    2016-01-04 00:00:00+00:00  183.221632  180.997778  182.729474   \n",
       "       2016-01-05 00:00:00+00:00  184.014558  182.328450  183.558851   \n",
       "       2016-01-06 00:00:00+00:00  182.337559  180.095487  180.769925   \n",
       "       2016-01-07 00:00:00+00:00  179.949657  176.440706  178.026573   \n",
       "       2016-01-08 00:00:00+00:00  178.500512  174.608769  177.898975   \n",
       "...                                      ...         ...         ...   \n",
       "DIS    2016-12-23 00:00:00+00:00  100.854871  100.289992  100.759129   \n",
       "       2016-12-27 00:00:00+00:00  101.061675  100.318715  100.385734   \n",
       "       2016-12-28 00:00:00+00:00  100.835723   99.629371  100.519774   \n",
       "       2016-12-29 00:00:00+00:00  100.309141   99.447460   99.792133   \n",
       "       2016-12-30 00:00:00+00:00  100.529348   99.533628  100.117656   \n",
       "\n",
       "                                  adjVolume  divCash  splitFactor  \n",
       "symbol date                                                        \n",
       "SPY    2016-01-04 00:00:00+00:00  222353500      0.0          1.0  \n",
       "       2016-01-05 00:00:00+00:00  110845800      0.0          1.0  \n",
       "       2016-01-06 00:00:00+00:00  152112600      0.0          1.0  \n",
       "       2016-01-07 00:00:00+00:00  213436100      0.0          1.0  \n",
       "       2016-01-08 00:00:00+00:00  209817200      0.0          1.0  \n",
       "...                                     ...      ...          ...  \n",
       "DIS    2016-12-23 00:00:00+00:00    3238753      0.0          1.0  \n",
       "       2016-12-27 00:00:00+00:00    3639539      0.0          1.0  \n",
       "       2016-12-28 00:00:00+00:00    5178595      0.0          1.0  \n",
       "       2016-12-29 00:00:00+00:00    5896763      0.0          1.0  \n",
       "       2016-12-30 00:00:00+00:00    6982680      0.0          1.0  \n",
       "\n",
       "[1008 rows x 12 columns]"
      ]
     },
     "execution_count": 48,
     "metadata": {},
     "output_type": "execute_result"
    }
   ],
   "source": [
    "df"
   ]
  },
  {
   "cell_type": "code",
   "execution_count": 49,
   "metadata": {},
   "outputs": [],
   "source": [
    "returns = df['close'].unstack(level=-1).T.dropna().pct_change().dropna()\n",
    "rtn = np.array(returns.mean()) * 250\n",
    "vol = np.array(returns.std()) * np.sqrt(250)"
   ]
  },
  {
   "cell_type": "code",
   "execution_count": 50,
   "metadata": {},
   "outputs": [
    {
     "data": {
      "image/png": "[encoded data removed]",
      "text/plain": [
       "<Figure size 432x288 with 1 Axes>"
      ]
     },
     "metadata": {},
     "output_type": "display_data"
    }
   ],
   "source": [
    "labels = ['{0}'.format(i) for i in returns.columns]\n",
    "plt.xlabel('Volatility (annualized)')\n",
    "plt.ylabel('Annual return')\n",
    "plt.title('Return vs. volatility')\n",
    "\n",
    "\n",
    "color = np.array([ 0.18, 0.96, 0.75, 0.3])\n",
    "plt.scatter(vol, rtn, marker = 'o', c=color,s = 1000, \n",
    "            cmap=plt.get_cmap('Spectral'));\n",
    "\n",
    "\n",
    "for label, x, y in zip(labels, vol, rtn):\n",
    "    plt.annotate(label, \n",
    "                 xy = (x,y), \n",
    "                 xytext = (40, 30), \n",
    "                 textcoords = 'offset points',\n",
    "                 bbox = dict(boxstyle = 'square, pad=0.3',\n",
    "                             fc = 'yellow', \n",
    "                             alpha = 0.5),\n",
    "                 arrowprops = dict(arrowstyle = '->', \n",
    "                                   connectionstyle = 'arc3, rad = 0.3'))"
   ]
  },
  {
   "cell_type": "markdown",
   "metadata": {},
   "source": [
    "[matplotlib doc on annotation](https://matplotlib.org/2.0.2/users/annotations.html)"
   ]
  },
  {
   "cell_type": "markdown",
   "metadata": {},
   "source": [
    "# Time Series Analysis (Pandas, Scipy)"
   ]
  },
  {
   "cell_type": "markdown",
   "metadata": {},
   "source": [
    "### Data"
   ]
  },
  {
   "cell_type": "code",
   "execution_count": 51,
   "metadata": {},
   "outputs": [],
   "source": [
    "start = datetime(2016, 1, 1)\n",
    "end = datetime(2017, 1, 1)\n",
    "\n",
    "prices = pdr.get_data_tiingo(['SPY', 'IBM', 'MSFT', 'XOM'], start=start, end=end, api_key=TIINGO_API_KEY)"
   ]
  },
  {
   "cell_type": "code",
   "execution_count": 52,
   "metadata": {},
   "outputs": [
    {
     "data": {
      "text/html": [
       "<div>\n",
       "<style scoped>\n",
       "    .dataframe tbody tr th:only-of-type {\n",
       "        vertical-align: middle;\n",
       "    }\n",
       "\n",
       "    .dataframe tbody tr th {\n",
       "        vertical-align: top;\n",
       "    }\n",
       "\n",
       "    .dataframe thead th {\n",
       "        text-align: right;\n",
       "    }\n",
       "</style>\n",
       "<table border=\"1\" class=\"dataframe\">\n",
       "  <thead>\n",
       "    <tr style=\"text-align: right;\">\n",
       "      <th>symbol</th>\n",
       "      <th>IBM</th>\n",
       "      <th>MSFT</th>\n",
       "      <th>SPY</th>\n",
       "      <th>XOM</th>\n",
       "    </tr>\n",
       "    <tr>\n",
       "      <th>date</th>\n",
       "      <th></th>\n",
       "      <th></th>\n",
       "      <th></th>\n",
       "      <th></th>\n",
       "    </tr>\n",
       "  </thead>\n",
       "  <tbody>\n",
       "    <tr>\n",
       "      <th>2016-01-05 00:00:00+00:00</th>\n",
       "      <td>-0.000736</td>\n",
       "      <td>0.004562</td>\n",
       "      <td>0.001691</td>\n",
       "      <td>0.008521</td>\n",
       "    </tr>\n",
       "    <tr>\n",
       "      <th>2016-01-06 00:00:00+00:00</th>\n",
       "      <td>-0.005006</td>\n",
       "      <td>-0.018165</td>\n",
       "      <td>-0.012614</td>\n",
       "      <td>-0.008321</td>\n",
       "    </tr>\n",
       "    <tr>\n",
       "      <th>2016-01-07 00:00:00+00:00</th>\n",
       "      <td>-0.017090</td>\n",
       "      <td>-0.034783</td>\n",
       "      <td>-0.023992</td>\n",
       "      <td>-0.016006</td>\n",
       "    </tr>\n",
       "    <tr>\n",
       "      <th>2016-01-08 00:00:00+00:00</th>\n",
       "      <td>-0.009258</td>\n",
       "      <td>0.003067</td>\n",
       "      <td>-0.010977</td>\n",
       "      <td>-0.020202</td>\n",
       "    </tr>\n",
       "    <tr>\n",
       "      <th>2016-01-11 00:00:00+00:00</th>\n",
       "      <td>0.012155</td>\n",
       "      <td>-0.000573</td>\n",
       "      <td>0.000990</td>\n",
       "      <td>-0.013389</td>\n",
       "    </tr>\n",
       "    <tr>\n",
       "      <th>...</th>\n",
       "      <td>...</td>\n",
       "      <td>...</td>\n",
       "      <td>...</td>\n",
       "      <td>...</td>\n",
       "    </tr>\n",
       "    <tr>\n",
       "      <th>2016-12-23 00:00:00+00:00</th>\n",
       "      <td>-0.002095</td>\n",
       "      <td>-0.004878</td>\n",
       "      <td>0.001464</td>\n",
       "      <td>-0.001761</td>\n",
       "    </tr>\n",
       "    <tr>\n",
       "      <th>2016-12-27 00:00:00+00:00</th>\n",
       "      <td>0.002579</td>\n",
       "      <td>0.000633</td>\n",
       "      <td>0.002481</td>\n",
       "      <td>0.000441</td>\n",
       "    </tr>\n",
       "    <tr>\n",
       "      <th>2016-12-28 00:00:00+00:00</th>\n",
       "      <td>-0.005684</td>\n",
       "      <td>-0.004583</td>\n",
       "      <td>-0.008265</td>\n",
       "      <td>-0.004959</td>\n",
       "    </tr>\n",
       "    <tr>\n",
       "      <th>2016-12-29 00:00:00+00:00</th>\n",
       "      <td>0.002467</td>\n",
       "      <td>-0.001429</td>\n",
       "      <td>-0.000223</td>\n",
       "      <td>0.000554</td>\n",
       "    </tr>\n",
       "    <tr>\n",
       "      <th>2016-12-30 00:00:00+00:00</th>\n",
       "      <td>-0.003661</td>\n",
       "      <td>-0.012083</td>\n",
       "      <td>-0.003655</td>\n",
       "      <td>-0.000996</td>\n",
       "    </tr>\n",
       "  </tbody>\n",
       "</table>\n",
       "<p>251 rows × 4 columns</p>\n",
       "</div>"
      ],
      "text/plain": [
       "symbol                          IBM      MSFT       SPY       XOM\n",
       "date                                                             \n",
       "2016-01-05 00:00:00+00:00 -0.000736  0.004562  0.001691  0.008521\n",
       "2016-01-06 00:00:00+00:00 -0.005006 -0.018165 -0.012614 -0.008321\n",
       "2016-01-07 00:00:00+00:00 -0.017090 -0.034783 -0.023992 -0.016006\n",
       "2016-01-08 00:00:00+00:00 -0.009258  0.003067 -0.010977 -0.020202\n",
       "2016-01-11 00:00:00+00:00  0.012155 -0.000573  0.000990 -0.013389\n",
       "...                             ...       ...       ...       ...\n",
       "2016-12-23 00:00:00+00:00 -0.002095 -0.004878  0.001464 -0.001761\n",
       "2016-12-27 00:00:00+00:00  0.002579  0.000633  0.002481  0.000441\n",
       "2016-12-28 00:00:00+00:00 -0.005684 -0.004583 -0.008265 -0.004959\n",
       "2016-12-29 00:00:00+00:00  0.002467 -0.001429 -0.000223  0.000554\n",
       "2016-12-30 00:00:00+00:00 -0.003661 -0.012083 -0.003655 -0.000996\n",
       "\n",
       "[251 rows x 4 columns]"
      ]
     },
     "execution_count": 52,
     "metadata": {},
     "output_type": "execute_result"
    }
   ],
   "source": [
    "prices['returns'] = prices['close'].pct_change()\n",
    "returns = prices[\"returns\"].unstack(level=-1).T.dropna()\n",
    "returns"
   ]
  },
  {
   "cell_type": "code",
   "execution_count": 53,
   "metadata": {},
   "outputs": [
    {
     "data": {
      "image/png": "[encoded data removed]",
      "text/plain": [
       "<Figure size 432x288 with 1 Axes>"
      ]
     },
     "metadata": {
      "needs_background": "light"
     },
     "output_type": "display_data"
    }
   ],
   "source": [
    "%matplotlib inline\n",
    "returns.plot();"
   ]
  },
  {
   "cell_type": "markdown",
   "metadata": {},
   "source": [
    "T-Test with p-value. Is the returns significantly different from zero?"
   ]
  },
  {
   "cell_type": "code",
   "execution_count": 54,
   "metadata": {},
   "outputs": [
    {
     "name": "stdout",
     "output_type": "stream",
     "text": [
      "IBM \t Ttest_1sampResult(statistic=1.1107797169351117, pvalue=0.2677303526761802)\n",
      "MSFT \t Ttest_1sampResult(statistic=0.667960384828841, pvalue=0.5047750588306804)\n",
      "SPY \t Ttest_1sampResult(statistic=0.8783414806426296, pvalue=0.38060180556009304)\n",
      "XOM \t Ttest_1sampResult(statistic=0.8889983416972157, pvalue=0.3748585599475992)\n"
     ]
    }
   ],
   "source": [
    "from scipy import stats\n",
    "for oo in returns.columns:\n",
    "    print(\"{} \\t {}\".format(oo, stats.ttest_1samp(returns[oo], 0)))"
   ]
  },
  {
   "cell_type": "markdown",
   "metadata": {},
   "source": [
    "### Bartlett’s test for equal variances\n"
   ]
  },
  {
   "cell_type": "markdown",
   "metadata": {},
   "source": [
    "[doc](https://docs.scipy.org/doc/scipy-0.18.1/reference/generated/scipy.stats.bartlett.html)\n",
    "\n",
    "\n",
    "Bartlett’s test tests the null hypothesis that all input samples are from populations with equal variances. For samples from significantly non-normal populations, Levene’s test levene is more robust."
   ]
  },
  {
   "cell_type": "code",
   "execution_count": 55,
   "metadata": {},
   "outputs": [
    {
     "name": "stdout",
     "output_type": "stream",
     "text": [
      "BartlettResult(statistic=4.738377488895217, pvalue=0.029496877606962707)\n"
     ]
    }
   ],
   "source": [
    "import scipy as sp \n",
    "print(sp.stats.bartlett(returns[\"IBM\"], returns[\"MSFT\"]))"
   ]
  },
  {
   "cell_type": "markdown",
   "metadata": {},
   "source": [
    "### Levene test for equal variances."
   ]
  },
  {
   "cell_type": "markdown",
   "metadata": {},
   "source": [
    "[doc](https://docs.scipy.org/doc/scipy-0.18.1/reference/generated/scipy.stats.levene.html)\n",
    "\n",
    "The Levene test tests the null hypothesis that all input samples are from populations with equal variances. Levene’s test is an alternative to Bartlett’s test bartlett in the case where there are significant deviations from normality."
   ]
  },
  {
   "cell_type": "code",
   "execution_count": 56,
   "metadata": {},
   "outputs": [
    {
     "name": "stdout",
     "output_type": "stream",
     "text": [
      "LeveneResult(statistic=1.525082817111583, pvalue=0.21743193385514079)\n"
     ]
    }
   ],
   "source": [
    "print(sp.stats.levene(returns[\"IBM\"], returns[\"MSFT\"]))"
   ]
  },
  {
   "cell_type": "markdown",
   "metadata": {},
   "source": [
    "### Jan Month Effect"
   ]
  },
  {
   "cell_type": "code",
   "execution_count": 57,
   "metadata": {},
   "outputs": [],
   "source": [
    "start = datetime(2015, 1, 1)\n",
    "end = datetime(2020, 1, 1)\n",
    "\n",
    "prices = pdr.get_data_tiingo(['SPY', 'IBM', 'MSFT', 'XOM'], start=start, end=end, api_key=TIINGO_API_KEY)"
   ]
  },
  {
   "cell_type": "code",
   "execution_count": 58,
   "metadata": {},
   "outputs": [
    {
     "data": {
      "text/html": [
       "<div>\n",
       "<style scoped>\n",
       "    .dataframe tbody tr th:only-of-type {\n",
       "        vertical-align: middle;\n",
       "    }\n",
       "\n",
       "    .dataframe tbody tr th {\n",
       "        vertical-align: top;\n",
       "    }\n",
       "\n",
       "    .dataframe thead th {\n",
       "        text-align: right;\n",
       "    }\n",
       "</style>\n",
       "<table border=\"1\" class=\"dataframe\">\n",
       "  <thead>\n",
       "    <tr style=\"text-align: right;\">\n",
       "      <th></th>\n",
       "      <th></th>\n",
       "      <th>close</th>\n",
       "      <th>high</th>\n",
       "      <th>low</th>\n",
       "      <th>open</th>\n",
       "      <th>volume</th>\n",
       "      <th>adjClose</th>\n",
       "      <th>adjHigh</th>\n",
       "      <th>adjLow</th>\n",
       "      <th>adjOpen</th>\n",
       "      <th>adjVolume</th>\n",
       "      <th>divCash</th>\n",
       "      <th>splitFactor</th>\n",
       "    </tr>\n",
       "    <tr>\n",
       "      <th>symbol</th>\n",
       "      <th>date</th>\n",
       "      <th></th>\n",
       "      <th></th>\n",
       "      <th></th>\n",
       "      <th></th>\n",
       "      <th></th>\n",
       "      <th></th>\n",
       "      <th></th>\n",
       "      <th></th>\n",
       "      <th></th>\n",
       "      <th></th>\n",
       "      <th></th>\n",
       "      <th></th>\n",
       "    </tr>\n",
       "  </thead>\n",
       "  <tbody>\n",
       "    <tr>\n",
       "      <th rowspan=\"5\" valign=\"top\">SPY</th>\n",
       "      <th>2015-01-02 00:00:00+00:00</th>\n",
       "      <td>205.43</td>\n",
       "      <td>206.88</td>\n",
       "      <td>204.18</td>\n",
       "      <td>206.38</td>\n",
       "      <td>121465865</td>\n",
       "      <td>183.413750</td>\n",
       "      <td>184.708351</td>\n",
       "      <td>182.297715</td>\n",
       "      <td>184.261937</td>\n",
       "      <td>121465865</td>\n",
       "      <td>0.0</td>\n",
       "      <td>1.0</td>\n",
       "    </tr>\n",
       "    <tr>\n",
       "      <th>2015-01-05 00:00:00+00:00</th>\n",
       "      <td>201.72</td>\n",
       "      <td>204.37</td>\n",
       "      <td>201.35</td>\n",
       "      <td>204.17</td>\n",
       "      <td>169632646</td>\n",
       "      <td>180.101357</td>\n",
       "      <td>182.467352</td>\n",
       "      <td>179.771010</td>\n",
       "      <td>182.288786</td>\n",
       "      <td>169632646</td>\n",
       "      <td>0.0</td>\n",
       "      <td>1.0</td>\n",
       "    </tr>\n",
       "    <tr>\n",
       "      <th>2015-01-06 00:00:00+00:00</th>\n",
       "      <td>199.82</td>\n",
       "      <td>202.72</td>\n",
       "      <td>198.86</td>\n",
       "      <td>202.09</td>\n",
       "      <td>209151408</td>\n",
       "      <td>178.404982</td>\n",
       "      <td>180.994185</td>\n",
       "      <td>177.547867</td>\n",
       "      <td>180.431703</td>\n",
       "      <td>209151408</td>\n",
       "      <td>0.0</td>\n",
       "      <td>1.0</td>\n",
       "    </tr>\n",
       "    <tr>\n",
       "      <th>2015-01-07 00:00:00+00:00</th>\n",
       "      <td>202.31</td>\n",
       "      <td>202.72</td>\n",
       "      <td>200.88</td>\n",
       "      <td>201.42</td>\n",
       "      <td>125346709</td>\n",
       "      <td>180.628125</td>\n",
       "      <td>180.994185</td>\n",
       "      <td>179.351381</td>\n",
       "      <td>179.833508</td>\n",
       "      <td>125346709</td>\n",
       "      <td>0.0</td>\n",
       "      <td>1.0</td>\n",
       "    </tr>\n",
       "    <tr>\n",
       "      <th>2015-01-08 00:00:00+00:00</th>\n",
       "      <td>205.90</td>\n",
       "      <td>206.16</td>\n",
       "      <td>203.99</td>\n",
       "      <td>204.01</td>\n",
       "      <td>147217784</td>\n",
       "      <td>183.833380</td>\n",
       "      <td>184.065515</td>\n",
       "      <td>182.128077</td>\n",
       "      <td>182.145934</td>\n",
       "      <td>147217784</td>\n",
       "      <td>0.0</td>\n",
       "      <td>1.0</td>\n",
       "    </tr>\n",
       "    <tr>\n",
       "      <th>...</th>\n",
       "      <th>...</th>\n",
       "      <td>...</td>\n",
       "      <td>...</td>\n",
       "      <td>...</td>\n",
       "      <td>...</td>\n",
       "      <td>...</td>\n",
       "      <td>...</td>\n",
       "      <td>...</td>\n",
       "      <td>...</td>\n",
       "      <td>...</td>\n",
       "      <td>...</td>\n",
       "      <td>...</td>\n",
       "      <td>...</td>\n",
       "    </tr>\n",
       "    <tr>\n",
       "      <th rowspan=\"5\" valign=\"top\">XOM</th>\n",
       "      <th>2019-12-24 00:00:00+00:00</th>\n",
       "      <td>70.02</td>\n",
       "      <td>70.50</td>\n",
       "      <td>69.91</td>\n",
       "      <td>70.35</td>\n",
       "      <td>3979400</td>\n",
       "      <td>66.374188</td>\n",
       "      <td>66.829195</td>\n",
       "      <td>66.269915</td>\n",
       "      <td>66.687005</td>\n",
       "      <td>3979400</td>\n",
       "      <td>0.0</td>\n",
       "      <td>1.0</td>\n",
       "    </tr>\n",
       "    <tr>\n",
       "      <th>2019-12-26 00:00:00+00:00</th>\n",
       "      <td>70.13</td>\n",
       "      <td>70.50</td>\n",
       "      <td>70.01</td>\n",
       "      <td>70.19</td>\n",
       "      <td>8840200</td>\n",
       "      <td>66.478460</td>\n",
       "      <td>66.829195</td>\n",
       "      <td>66.364709</td>\n",
       "      <td>66.535336</td>\n",
       "      <td>8840200</td>\n",
       "      <td>0.0</td>\n",
       "      <td>1.0</td>\n",
       "    </tr>\n",
       "    <tr>\n",
       "      <th>2019-12-27 00:00:00+00:00</th>\n",
       "      <td>69.89</td>\n",
       "      <td>70.31</td>\n",
       "      <td>69.88</td>\n",
       "      <td>70.20</td>\n",
       "      <td>10516100</td>\n",
       "      <td>66.250957</td>\n",
       "      <td>66.649088</td>\n",
       "      <td>66.241478</td>\n",
       "      <td>66.544816</td>\n",
       "      <td>10516100</td>\n",
       "      <td>0.0</td>\n",
       "      <td>1.0</td>\n",
       "    </tr>\n",
       "    <tr>\n",
       "      <th>2019-12-30 00:00:00+00:00</th>\n",
       "      <td>69.48</td>\n",
       "      <td>70.44</td>\n",
       "      <td>69.40</td>\n",
       "      <td>70.09</td>\n",
       "      <td>12689400</td>\n",
       "      <td>65.862305</td>\n",
       "      <td>66.772319</td>\n",
       "      <td>65.786470</td>\n",
       "      <td>66.440543</td>\n",
       "      <td>12689400</td>\n",
       "      <td>0.0</td>\n",
       "      <td>1.0</td>\n",
       "    </tr>\n",
       "    <tr>\n",
       "      <th>2019-12-31 00:00:00+00:00</th>\n",
       "      <td>69.78</td>\n",
       "      <td>69.80</td>\n",
       "      <td>69.01</td>\n",
       "      <td>69.02</td>\n",
       "      <td>13151800</td>\n",
       "      <td>66.146684</td>\n",
       "      <td>66.165643</td>\n",
       "      <td>65.416777</td>\n",
       "      <td>65.426256</td>\n",
       "      <td>13151800</td>\n",
       "      <td>0.0</td>\n",
       "      <td>1.0</td>\n",
       "    </tr>\n",
       "  </tbody>\n",
       "</table>\n",
       "<p>5032 rows × 12 columns</p>\n",
       "</div>"
      ],
      "text/plain": [
       "                                   close    high     low    open     volume  \\\n",
       "symbol date                                                                   \n",
       "SPY    2015-01-02 00:00:00+00:00  205.43  206.88  204.18  206.38  121465865   \n",
       "       2015-01-05 00:00:00+00:00  201.72  204.37  201.35  204.17  169632646   \n",
       "       2015-01-06 00:00:00+00:00  199.82  202.72  198.86  202.09  209151408   \n",
       "       2015-01-07 00:00:00+00:00  202.31  202.72  200.88  201.42  125346709   \n",
       "       2015-01-08 00:00:00+00:00  205.90  206.16  203.99  204.01  147217784   \n",
       "...                                  ...     ...     ...     ...        ...   \n",
       "XOM    2019-12-24 00:00:00+00:00   70.02   70.50   69.91   70.35    3979400   \n",
       "       2019-12-26 00:00:00+00:00   70.13   70.50   70.01   70.19    8840200   \n",
       "       2019-12-27 00:00:00+00:00   69.89   70.31   69.88   70.20   10516100   \n",
       "       2019-12-30 00:00:00+00:00   69.48   70.44   69.40   70.09   12689400   \n",
       "       2019-12-31 00:00:00+00:00   69.78   69.80   69.01   69.02   13151800   \n",
       "\n",
       "                                    adjClose     adjHigh      adjLow  \\\n",
       "symbol date                                                            \n",
       "SPY    2015-01-02 00:00:00+00:00  183.413750  184.708351  182.297715   \n",
       "       2015-01-05 00:00:00+00:00  180.101357  182.467352  179.771010   \n",
       "       2015-01-06 00:00:00+00:00  178.404982  180.994185  177.547867   \n",
       "       2015-01-07 00:00:00+00:00  180.628125  180.994185  179.351381   \n",
       "       2015-01-08 00:00:00+00:00  183.833380  184.065515  182.128077   \n",
       "...                                      ...         ...         ...   \n",
       "XOM    2019-12-24 00:00:00+00:00   66.374188   66.829195   66.269915   \n",
       "       2019-12-26 00:00:00+00:00   66.478460   66.829195   66.364709   \n",
       "       2019-12-27 00:00:00+00:00   66.250957   66.649088   66.241478   \n",
       "       2019-12-30 00:00:00+00:00   65.862305   66.772319   65.786470   \n",
       "       2019-12-31 00:00:00+00:00   66.146684   66.165643   65.416777   \n",
       "\n",
       "                                     adjOpen  adjVolume  divCash  splitFactor  \n",
       "symbol date                                                                    \n",
       "SPY    2015-01-02 00:00:00+00:00  184.261937  121465865      0.0          1.0  \n",
       "       2015-01-05 00:00:00+00:00  182.288786  169632646      0.0          1.0  \n",
       "       2015-01-06 00:00:00+00:00  180.431703  209151408      0.0          1.0  \n",
       "       2015-01-07 00:00:00+00:00  179.833508  125346709      0.0          1.0  \n",
       "       2015-01-08 00:00:00+00:00  182.145934  147217784      0.0          1.0  \n",
       "...                                      ...        ...      ...          ...  \n",
       "XOM    2019-12-24 00:00:00+00:00   66.687005    3979400      0.0          1.0  \n",
       "       2019-12-26 00:00:00+00:00   66.535336    8840200      0.0          1.0  \n",
       "       2019-12-27 00:00:00+00:00   66.544816   10516100      0.0          1.0  \n",
       "       2019-12-30 00:00:00+00:00   66.440543   12689400      0.0          1.0  \n",
       "       2019-12-31 00:00:00+00:00   65.426256   13151800      0.0          1.0  \n",
       "\n",
       "[5032 rows x 12 columns]"
      ]
     },
     "execution_count": 58,
     "metadata": {},
     "output_type": "execute_result"
    }
   ],
   "source": [
    "prices"
   ]
  },
  {
   "cell_type": "code",
   "execution_count": 59,
   "metadata": {},
   "outputs": [
    {
     "data": {
      "text/plain": [
       "date\n",
       "2015-01-30 00:00:00+00:00    87.42\n",
       "2015-02-27 00:00:00+00:00    88.54\n",
       "2015-03-31 00:00:00+00:00    85.00\n",
       "2015-04-30 00:00:00+00:00    87.37\n",
       "2015-05-29 00:00:00+00:00    85.20\n",
       "2015-06-30 00:00:00+00:00    83.20\n",
       "2015-07-31 00:00:00+00:00    79.21\n",
       "2015-08-31 00:00:00+00:00    75.24\n",
       "2015-09-30 00:00:00+00:00    74.35\n",
       "2015-10-30 00:00:00+00:00    82.74\n",
       "2015-11-30 00:00:00+00:00    81.66\n",
       "2015-12-31 00:00:00+00:00    77.95\n",
       "2016-01-29 00:00:00+00:00    77.85\n",
       "2016-02-29 00:00:00+00:00    80.15\n",
       "2016-03-31 00:00:00+00:00    83.59\n",
       "2016-04-29 00:00:00+00:00    88.40\n",
       "2016-05-31 00:00:00+00:00    89.02\n",
       "2016-06-30 00:00:00+00:00    93.74\n",
       "2016-07-29 00:00:00+00:00    88.95\n",
       "2016-08-31 00:00:00+00:00    87.14\n",
       "2016-09-30 00:00:00+00:00    87.28\n",
       "2016-10-31 00:00:00+00:00    83.32\n",
       "2016-11-30 00:00:00+00:00    87.30\n",
       "2016-12-30 00:00:00+00:00    90.26\n",
       "2017-01-31 00:00:00+00:00    83.89\n",
       "2017-02-28 00:00:00+00:00    81.32\n",
       "2017-03-31 00:00:00+00:00    82.01\n",
       "2017-04-28 00:00:00+00:00    81.65\n",
       "2017-05-31 00:00:00+00:00    80.50\n",
       "2017-06-30 00:00:00+00:00    80.73\n",
       "2017-07-31 00:00:00+00:00    80.04\n",
       "2017-08-31 00:00:00+00:00    76.33\n",
       "2017-09-29 00:00:00+00:00    81.98\n",
       "2017-10-31 00:00:00+00:00    83.35\n",
       "2017-11-30 00:00:00+00:00    83.29\n",
       "2017-12-29 00:00:00+00:00    83.64\n",
       "2018-01-31 00:00:00+00:00    87.30\n",
       "2018-02-28 00:00:00+00:00    75.74\n",
       "2018-03-30 00:00:00+00:00    74.61\n",
       "2018-04-30 00:00:00+00:00    77.75\n",
       "2018-05-31 00:00:00+00:00    81.24\n",
       "2018-06-29 00:00:00+00:00    82.73\n",
       "2018-07-31 00:00:00+00:00    81.51\n",
       "2018-08-31 00:00:00+00:00    80.17\n",
       "2018-09-28 00:00:00+00:00    85.02\n",
       "2018-10-31 00:00:00+00:00    79.68\n",
       "2018-11-30 00:00:00+00:00    79.50\n",
       "2018-12-31 00:00:00+00:00    68.19\n",
       "2019-01-31 00:00:00+00:00    73.28\n",
       "2019-02-28 00:00:00+00:00    79.03\n",
       "2019-03-29 00:00:00+00:00    80.80\n",
       "2019-04-30 00:00:00+00:00    80.28\n",
       "2019-05-31 00:00:00+00:00    70.77\n",
       "2019-06-28 00:00:00+00:00    76.63\n",
       "2019-07-31 00:00:00+00:00    74.36\n",
       "2019-08-30 00:00:00+00:00    68.48\n",
       "2019-09-30 00:00:00+00:00    70.61\n",
       "2019-10-31 00:00:00+00:00    67.57\n",
       "2019-11-29 00:00:00+00:00    68.13\n",
       "2019-12-31 00:00:00+00:00    69.78\n",
       "Freq: BM, Name: close, dtype: float64"
      ]
     },
     "execution_count": 59,
     "metadata": {},
     "output_type": "execute_result"
    }
   ],
   "source": [
    "mth_price = prices.reset_index().set_index(\"date\")['close'].resample('BM').last()\n",
    "mth_price"
   ]
  },
  {
   "cell_type": "code",
   "execution_count": 60,
   "metadata": {},
   "outputs": [
    {
     "data": {
      "text/plain": [
       "date\n",
       "2015-02-27 00:00:00+00:00    0.012812\n",
       "2015-03-31 00:00:00+00:00   -0.039982\n",
       "2015-04-30 00:00:00+00:00    0.027882\n",
       "2015-05-29 00:00:00+00:00   -0.024837\n",
       "2015-06-30 00:00:00+00:00   -0.023474\n",
       "Freq: BM, Name: close, dtype: float64"
      ]
     },
     "execution_count": 60,
     "metadata": {},
     "output_type": "execute_result"
    }
   ],
   "source": [
    "mth_rtns = mth_price.pct_change().dropna()\n",
    "mth_rtns.head()"
   ]
  },
  {
   "cell_type": "code",
   "execution_count": 61,
   "metadata": {},
   "outputs": [],
   "source": [
    "jan_rtns = mth_rtns[mth_rtns.index.month==1]"
   ]
  },
  {
   "cell_type": "code",
   "execution_count": 62,
   "metadata": {},
   "outputs": [],
   "source": [
    "other_rtns = mth_rtns[mth_rtns.index.month!=1]"
   ]
  },
  {
   "cell_type": "code",
   "execution_count": 63,
   "metadata": {},
   "outputs": [
    {
     "name": "stdout",
     "output_type": "stream",
     "text": [
      "BartlettResult(statistic=0.28570874958212283, pvalue=0.5929836798985927)\n"
     ]
    }
   ],
   "source": [
    "import scipy as sp\n",
    "print(sp.stats.bartlett(jan_rtns, other_rtns))"
   ]
  },
  {
   "cell_type": "markdown",
   "metadata": {},
   "source": [
    "# Fama-French"
   ]
  },
  {
   "cell_type": "code",
   "execution_count": 64,
   "metadata": {},
   "outputs": [],
   "source": [
    "from pandas_datareader.famafrench import get_available_datasets\n",
    "import pandas_datareader.data as web\n",
    "import statsmodels.api as sm\n",
    "import pandas as pd"
   ]
  },
  {
   "cell_type": "code",
   "execution_count": 65,
   "metadata": {},
   "outputs": [],
   "source": [
    "dataset = web.DataReader('F-F_Research_Data_5_Factors_2x3', 'famafrench')"
   ]
  },
  {
   "cell_type": "code",
   "execution_count": 66,
   "metadata": {},
   "outputs": [
    {
     "name": "stdout",
     "output_type": "stream",
     "text": [
      "         Mkt-RF   SMB   HML   RMW   CMA    RF\n",
      "Date                                         \n",
      "2015-10    7.75 -2.16 -0.21  0.85  0.45  0.00\n",
      "2015-11    0.56  3.36 -0.53 -2.62 -1.11  0.00\n",
      "2015-12   -2.17 -2.98 -2.52  0.42  0.10  0.01\n",
      "2016-01   -5.77 -3.41  1.98  2.81  3.04  0.01\n",
      "2016-02   -0.08  0.96 -0.56  3.36  2.06  0.02\n",
      "         Mkt-RF   SMB   HML   RMW   CMA    RF\n",
      "Date                                         \n",
      "2020-04   13.65  2.79 -1.35  2.51 -1.03  0.00\n",
      "2020-05    5.58  1.92 -4.95  0.71 -3.28  0.01\n",
      "2020-06    2.46  1.94 -2.22  0.03  0.34  0.01\n",
      "2020-07    5.77 -3.06 -1.32  0.59  1.02  0.01\n",
      "2020-08    7.62 -0.80 -3.10  4.13 -1.50  0.01\n"
     ]
    }
   ],
   "source": [
    "print(dataset[0].head())\n",
    "print(dataset[0].tail())"
   ]
  },
  {
   "cell_type": "code",
   "execution_count": 67,
   "metadata": {},
   "outputs": [],
   "source": [
    "start = datetime(2015, 1, 1)\n",
    "end = datetime(2020, 1, 1)\n",
    "\n",
    "prices = pdr.get_data_tiingo(['XOM'], start=start, end=end, api_key=TIINGO_API_KEY)"
   ]
  },
  {
   "cell_type": "code",
   "execution_count": 68,
   "metadata": {},
   "outputs": [],
   "source": [
    "prices = prices['close']"
   ]
  },
  {
   "cell_type": "code",
   "execution_count": 69,
   "metadata": {
    "scrolled": true
   },
   "outputs": [
    {
     "data": {
      "text/plain": [
       "date\n",
       "2015-01-30 00:00:00+00:00         NaN\n",
       "2015-02-27 00:00:00+00:00    0.012812\n",
       "2015-03-31 00:00:00+00:00   -0.039982\n",
       "2015-04-30 00:00:00+00:00    0.027882\n",
       "2015-05-29 00:00:00+00:00   -0.024837\n",
       "Freq: BM, Name: close, dtype: float64"
      ]
     },
     "execution_count": 69,
     "metadata": {},
     "output_type": "execute_result"
    }
   ],
   "source": [
    "xom = prices.reset_index(level=0, drop=True).resample('BM').last()\n",
    "rtns = xom.pct_change()\n",
    "rtns.head()"
   ]
  },
  {
   "cell_type": "code",
   "execution_count": 70,
   "metadata": {
    "scrolled": true
   },
   "outputs": [
    {
     "data": {
      "text/html": [
       "<div>\n",
       "<style scoped>\n",
       "    .dataframe tbody tr th:only-of-type {\n",
       "        vertical-align: middle;\n",
       "    }\n",
       "\n",
       "    .dataframe tbody tr th {\n",
       "        vertical-align: top;\n",
       "    }\n",
       "\n",
       "    .dataframe thead th {\n",
       "        text-align: right;\n",
       "    }\n",
       "</style>\n",
       "<table border=\"1\" class=\"dataframe\">\n",
       "  <thead>\n",
       "    <tr style=\"text-align: right;\">\n",
       "      <th></th>\n",
       "      <th>date</th>\n",
       "      <th>close</th>\n",
       "    </tr>\n",
       "  </thead>\n",
       "  <tbody>\n",
       "    <tr>\n",
       "      <th>0</th>\n",
       "      <td>2015-01-30 00:00:00+00:00</td>\n",
       "      <td>NaN</td>\n",
       "    </tr>\n",
       "    <tr>\n",
       "      <th>1</th>\n",
       "      <td>2015-02-27 00:00:00+00:00</td>\n",
       "      <td>0.012812</td>\n",
       "    </tr>\n",
       "    <tr>\n",
       "      <th>2</th>\n",
       "      <td>2015-03-31 00:00:00+00:00</td>\n",
       "      <td>-0.039982</td>\n",
       "    </tr>\n",
       "    <tr>\n",
       "      <th>3</th>\n",
       "      <td>2015-04-30 00:00:00+00:00</td>\n",
       "      <td>0.027882</td>\n",
       "    </tr>\n",
       "    <tr>\n",
       "      <th>4</th>\n",
       "      <td>2015-05-29 00:00:00+00:00</td>\n",
       "      <td>-0.024837</td>\n",
       "    </tr>\n",
       "    <tr>\n",
       "      <th>5</th>\n",
       "      <td>2015-06-30 00:00:00+00:00</td>\n",
       "      <td>-0.023474</td>\n",
       "    </tr>\n",
       "    <tr>\n",
       "      <th>6</th>\n",
       "      <td>2015-07-31 00:00:00+00:00</td>\n",
       "      <td>-0.047957</td>\n",
       "    </tr>\n",
       "    <tr>\n",
       "      <th>7</th>\n",
       "      <td>2015-08-31 00:00:00+00:00</td>\n",
       "      <td>-0.050120</td>\n",
       "    </tr>\n",
       "    <tr>\n",
       "      <th>8</th>\n",
       "      <td>2015-09-30 00:00:00+00:00</td>\n",
       "      <td>-0.011829</td>\n",
       "    </tr>\n",
       "    <tr>\n",
       "      <th>9</th>\n",
       "      <td>2015-10-30 00:00:00+00:00</td>\n",
       "      <td>0.112845</td>\n",
       "    </tr>\n",
       "    <tr>\n",
       "      <th>10</th>\n",
       "      <td>2015-11-30 00:00:00+00:00</td>\n",
       "      <td>-0.013053</td>\n",
       "    </tr>\n",
       "    <tr>\n",
       "      <th>11</th>\n",
       "      <td>2015-12-31 00:00:00+00:00</td>\n",
       "      <td>-0.045432</td>\n",
       "    </tr>\n",
       "    <tr>\n",
       "      <th>12</th>\n",
       "      <td>2016-01-29 00:00:00+00:00</td>\n",
       "      <td>-0.001283</td>\n",
       "    </tr>\n",
       "    <tr>\n",
       "      <th>13</th>\n",
       "      <td>2016-02-29 00:00:00+00:00</td>\n",
       "      <td>0.029544</td>\n",
       "    </tr>\n",
       "    <tr>\n",
       "      <th>14</th>\n",
       "      <td>2016-03-31 00:00:00+00:00</td>\n",
       "      <td>0.042920</td>\n",
       "    </tr>\n",
       "    <tr>\n",
       "      <th>15</th>\n",
       "      <td>2016-04-29 00:00:00+00:00</td>\n",
       "      <td>0.057543</td>\n",
       "    </tr>\n",
       "    <tr>\n",
       "      <th>16</th>\n",
       "      <td>2016-05-31 00:00:00+00:00</td>\n",
       "      <td>0.007014</td>\n",
       "    </tr>\n",
       "    <tr>\n",
       "      <th>17</th>\n",
       "      <td>2016-06-30 00:00:00+00:00</td>\n",
       "      <td>0.053022</td>\n",
       "    </tr>\n",
       "    <tr>\n",
       "      <th>18</th>\n",
       "      <td>2016-07-29 00:00:00+00:00</td>\n",
       "      <td>-0.051099</td>\n",
       "    </tr>\n",
       "    <tr>\n",
       "      <th>19</th>\n",
       "      <td>2016-08-31 00:00:00+00:00</td>\n",
       "      <td>-0.020349</td>\n",
       "    </tr>\n",
       "    <tr>\n",
       "      <th>20</th>\n",
       "      <td>2016-09-30 00:00:00+00:00</td>\n",
       "      <td>0.001607</td>\n",
       "    </tr>\n",
       "    <tr>\n",
       "      <th>21</th>\n",
       "      <td>2016-10-31 00:00:00+00:00</td>\n",
       "      <td>-0.045371</td>\n",
       "    </tr>\n",
       "    <tr>\n",
       "      <th>22</th>\n",
       "      <td>2016-11-30 00:00:00+00:00</td>\n",
       "      <td>0.047768</td>\n",
       "    </tr>\n",
       "    <tr>\n",
       "      <th>23</th>\n",
       "      <td>2016-12-30 00:00:00+00:00</td>\n",
       "      <td>0.033906</td>\n",
       "    </tr>\n",
       "    <tr>\n",
       "      <th>24</th>\n",
       "      <td>2017-01-31 00:00:00+00:00</td>\n",
       "      <td>-0.070574</td>\n",
       "    </tr>\n",
       "    <tr>\n",
       "      <th>25</th>\n",
       "      <td>2017-02-28 00:00:00+00:00</td>\n",
       "      <td>-0.030635</td>\n",
       "    </tr>\n",
       "    <tr>\n",
       "      <th>26</th>\n",
       "      <td>2017-03-31 00:00:00+00:00</td>\n",
       "      <td>0.008485</td>\n",
       "    </tr>\n",
       "    <tr>\n",
       "      <th>27</th>\n",
       "      <td>2017-04-28 00:00:00+00:00</td>\n",
       "      <td>-0.004390</td>\n",
       "    </tr>\n",
       "    <tr>\n",
       "      <th>28</th>\n",
       "      <td>2017-05-31 00:00:00+00:00</td>\n",
       "      <td>-0.014085</td>\n",
       "    </tr>\n",
       "    <tr>\n",
       "      <th>29</th>\n",
       "      <td>2017-06-30 00:00:00+00:00</td>\n",
       "      <td>0.002857</td>\n",
       "    </tr>\n",
       "    <tr>\n",
       "      <th>30</th>\n",
       "      <td>2017-07-31 00:00:00+00:00</td>\n",
       "      <td>-0.008547</td>\n",
       "    </tr>\n",
       "    <tr>\n",
       "      <th>31</th>\n",
       "      <td>2017-08-31 00:00:00+00:00</td>\n",
       "      <td>-0.046352</td>\n",
       "    </tr>\n",
       "    <tr>\n",
       "      <th>32</th>\n",
       "      <td>2017-09-29 00:00:00+00:00</td>\n",
       "      <td>0.074021</td>\n",
       "    </tr>\n",
       "    <tr>\n",
       "      <th>33</th>\n",
       "      <td>2017-10-31 00:00:00+00:00</td>\n",
       "      <td>0.016711</td>\n",
       "    </tr>\n",
       "    <tr>\n",
       "      <th>34</th>\n",
       "      <td>2017-11-30 00:00:00+00:00</td>\n",
       "      <td>-0.000720</td>\n",
       "    </tr>\n",
       "    <tr>\n",
       "      <th>35</th>\n",
       "      <td>2017-12-29 00:00:00+00:00</td>\n",
       "      <td>0.004202</td>\n",
       "    </tr>\n",
       "    <tr>\n",
       "      <th>36</th>\n",
       "      <td>2018-01-31 00:00:00+00:00</td>\n",
       "      <td>0.043759</td>\n",
       "    </tr>\n",
       "    <tr>\n",
       "      <th>37</th>\n",
       "      <td>2018-02-28 00:00:00+00:00</td>\n",
       "      <td>-0.132417</td>\n",
       "    </tr>\n",
       "    <tr>\n",
       "      <th>38</th>\n",
       "      <td>2018-03-30 00:00:00+00:00</td>\n",
       "      <td>-0.014919</td>\n",
       "    </tr>\n",
       "    <tr>\n",
       "      <th>39</th>\n",
       "      <td>2018-04-30 00:00:00+00:00</td>\n",
       "      <td>0.042086</td>\n",
       "    </tr>\n",
       "    <tr>\n",
       "      <th>40</th>\n",
       "      <td>2018-05-31 00:00:00+00:00</td>\n",
       "      <td>0.044887</td>\n",
       "    </tr>\n",
       "    <tr>\n",
       "      <th>41</th>\n",
       "      <td>2018-06-29 00:00:00+00:00</td>\n",
       "      <td>0.018341</td>\n",
       "    </tr>\n",
       "    <tr>\n",
       "      <th>42</th>\n",
       "      <td>2018-07-31 00:00:00+00:00</td>\n",
       "      <td>-0.014747</td>\n",
       "    </tr>\n",
       "    <tr>\n",
       "      <th>43</th>\n",
       "      <td>2018-08-31 00:00:00+00:00</td>\n",
       "      <td>-0.016440</td>\n",
       "    </tr>\n",
       "    <tr>\n",
       "      <th>44</th>\n",
       "      <td>2018-09-28 00:00:00+00:00</td>\n",
       "      <td>0.060496</td>\n",
       "    </tr>\n",
       "    <tr>\n",
       "      <th>45</th>\n",
       "      <td>2018-10-31 00:00:00+00:00</td>\n",
       "      <td>-0.062809</td>\n",
       "    </tr>\n",
       "    <tr>\n",
       "      <th>46</th>\n",
       "      <td>2018-11-30 00:00:00+00:00</td>\n",
       "      <td>-0.002259</td>\n",
       "    </tr>\n",
       "    <tr>\n",
       "      <th>47</th>\n",
       "      <td>2018-12-31 00:00:00+00:00</td>\n",
       "      <td>-0.142264</td>\n",
       "    </tr>\n",
       "    <tr>\n",
       "      <th>48</th>\n",
       "      <td>2019-01-31 00:00:00+00:00</td>\n",
       "      <td>0.074644</td>\n",
       "    </tr>\n",
       "    <tr>\n",
       "      <th>49</th>\n",
       "      <td>2019-02-28 00:00:00+00:00</td>\n",
       "      <td>0.078466</td>\n",
       "    </tr>\n",
       "    <tr>\n",
       "      <th>50</th>\n",
       "      <td>2019-03-29 00:00:00+00:00</td>\n",
       "      <td>0.022397</td>\n",
       "    </tr>\n",
       "    <tr>\n",
       "      <th>51</th>\n",
       "      <td>2019-04-30 00:00:00+00:00</td>\n",
       "      <td>-0.006436</td>\n",
       "    </tr>\n",
       "    <tr>\n",
       "      <th>52</th>\n",
       "      <td>2019-05-31 00:00:00+00:00</td>\n",
       "      <td>-0.118460</td>\n",
       "    </tr>\n",
       "    <tr>\n",
       "      <th>53</th>\n",
       "      <td>2019-06-28 00:00:00+00:00</td>\n",
       "      <td>0.082803</td>\n",
       "    </tr>\n",
       "    <tr>\n",
       "      <th>54</th>\n",
       "      <td>2019-07-31 00:00:00+00:00</td>\n",
       "      <td>-0.029623</td>\n",
       "    </tr>\n",
       "    <tr>\n",
       "      <th>55</th>\n",
       "      <td>2019-08-30 00:00:00+00:00</td>\n",
       "      <td>-0.079075</td>\n",
       "    </tr>\n",
       "    <tr>\n",
       "      <th>56</th>\n",
       "      <td>2019-09-30 00:00:00+00:00</td>\n",
       "      <td>0.031104</td>\n",
       "    </tr>\n",
       "    <tr>\n",
       "      <th>57</th>\n",
       "      <td>2019-10-31 00:00:00+00:00</td>\n",
       "      <td>-0.043053</td>\n",
       "    </tr>\n",
       "    <tr>\n",
       "      <th>58</th>\n",
       "      <td>2019-11-29 00:00:00+00:00</td>\n",
       "      <td>0.008288</td>\n",
       "    </tr>\n",
       "    <tr>\n",
       "      <th>59</th>\n",
       "      <td>2019-12-31 00:00:00+00:00</td>\n",
       "      <td>0.024218</td>\n",
       "    </tr>\n",
       "  </tbody>\n",
       "</table>\n",
       "</div>"
      ],
      "text/plain": [
       "                        date     close\n",
       "0  2015-01-30 00:00:00+00:00       NaN\n",
       "1  2015-02-27 00:00:00+00:00  0.012812\n",
       "2  2015-03-31 00:00:00+00:00 -0.039982\n",
       "3  2015-04-30 00:00:00+00:00  0.027882\n",
       "4  2015-05-29 00:00:00+00:00 -0.024837\n",
       "5  2015-06-30 00:00:00+00:00 -0.023474\n",
       "6  2015-07-31 00:00:00+00:00 -0.047957\n",
       "7  2015-08-31 00:00:00+00:00 -0.050120\n",
       "8  2015-09-30 00:00:00+00:00 -0.011829\n",
       "9  2015-10-30 00:00:00+00:00  0.112845\n",
       "10 2015-11-30 00:00:00+00:00 -0.013053\n",
       "11 2015-12-31 00:00:00+00:00 -0.045432\n",
       "12 2016-01-29 00:00:00+00:00 -0.001283\n",
       "13 2016-02-29 00:00:00+00:00  0.029544\n",
       "14 2016-03-31 00:00:00+00:00  0.042920\n",
       "15 2016-04-29 00:00:00+00:00  0.057543\n",
       "16 2016-05-31 00:00:00+00:00  0.007014\n",
       "17 2016-06-30 00:00:00+00:00  0.053022\n",
       "18 2016-07-29 00:00:00+00:00 -0.051099\n",
       "19 2016-08-31 00:00:00+00:00 -0.020349\n",
       "20 2016-09-30 00:00:00+00:00  0.001607\n",
       "21 2016-10-31 00:00:00+00:00 -0.045371\n",
       "22 2016-11-30 00:00:00+00:00  0.047768\n",
       "23 2016-12-30 00:00:00+00:00  0.033906\n",
       "24 2017-01-31 00:00:00+00:00 -0.070574\n",
       "25 2017-02-28 00:00:00+00:00 -0.030635\n",
       "26 2017-03-31 00:00:00+00:00  0.008485\n",
       "27 2017-04-28 00:00:00+00:00 -0.004390\n",
       "28 2017-05-31 00:00:00+00:00 -0.014085\n",
       "29 2017-06-30 00:00:00+00:00  0.002857\n",
       "30 2017-07-31 00:00:00+00:00 -0.008547\n",
       "31 2017-08-31 00:00:00+00:00 -0.046352\n",
       "32 2017-09-29 00:00:00+00:00  0.074021\n",
       "33 2017-10-31 00:00:00+00:00  0.016711\n",
       "34 2017-11-30 00:00:00+00:00 -0.000720\n",
       "35 2017-12-29 00:00:00+00:00  0.004202\n",
       "36 2018-01-31 00:00:00+00:00  0.043759\n",
       "37 2018-02-28 00:00:00+00:00 -0.132417\n",
       "38 2018-03-30 00:00:00+00:00 -0.014919\n",
       "39 2018-04-30 00:00:00+00:00  0.042086\n",
       "40 2018-05-31 00:00:00+00:00  0.044887\n",
       "41 2018-06-29 00:00:00+00:00  0.018341\n",
       "42 2018-07-31 00:00:00+00:00 -0.014747\n",
       "43 2018-08-31 00:00:00+00:00 -0.016440\n",
       "44 2018-09-28 00:00:00+00:00  0.060496\n",
       "45 2018-10-31 00:00:00+00:00 -0.062809\n",
       "46 2018-11-30 00:00:00+00:00 -0.002259\n",
       "47 2018-12-31 00:00:00+00:00 -0.142264\n",
       "48 2019-01-31 00:00:00+00:00  0.074644\n",
       "49 2019-02-28 00:00:00+00:00  0.078466\n",
       "50 2019-03-29 00:00:00+00:00  0.022397\n",
       "51 2019-04-30 00:00:00+00:00 -0.006436\n",
       "52 2019-05-31 00:00:00+00:00 -0.118460\n",
       "53 2019-06-28 00:00:00+00:00  0.082803\n",
       "54 2019-07-31 00:00:00+00:00 -0.029623\n",
       "55 2019-08-30 00:00:00+00:00 -0.079075\n",
       "56 2019-09-30 00:00:00+00:00  0.031104\n",
       "57 2019-10-31 00:00:00+00:00 -0.043053\n",
       "58 2019-11-29 00:00:00+00:00  0.008288\n",
       "59 2019-12-31 00:00:00+00:00  0.024218"
      ]
     },
     "execution_count": 70,
     "metadata": {},
     "output_type": "execute_result"
    }
   ],
   "source": [
    "rtns = rtns.reset_index()\n",
    "rtns"
   ]
  },
  {
   "cell_type": "code",
   "execution_count": 71,
   "metadata": {
    "scrolled": true
   },
   "outputs": [],
   "source": [
    "rtns_date = []\n",
    "for oo in rtns.date:\n",
    "    rtns_date.append(''.join([oo.strftime(\"%Y\"), \"-\", oo.strftime(\"%m\")]))"
   ]
  },
  {
   "cell_type": "code",
   "execution_count": 72,
   "metadata": {},
   "outputs": [
    {
     "data": {
      "text/html": [
       "<div>\n",
       "<style scoped>\n",
       "    .dataframe tbody tr th:only-of-type {\n",
       "        vertical-align: middle;\n",
       "    }\n",
       "\n",
       "    .dataframe tbody tr th {\n",
       "        vertical-align: top;\n",
       "    }\n",
       "\n",
       "    .dataframe thead th {\n",
       "        text-align: right;\n",
       "    }\n",
       "</style>\n",
       "<table border=\"1\" class=\"dataframe\">\n",
       "  <thead>\n",
       "    <tr style=\"text-align: right;\">\n",
       "      <th></th>\n",
       "      <th>close</th>\n",
       "    </tr>\n",
       "    <tr>\n",
       "      <th>mth_date</th>\n",
       "      <th></th>\n",
       "    </tr>\n",
       "  </thead>\n",
       "  <tbody>\n",
       "    <tr>\n",
       "      <th>2015-01</th>\n",
       "      <td>NaN</td>\n",
       "    </tr>\n",
       "    <tr>\n",
       "      <th>2015-02</th>\n",
       "      <td>0.012812</td>\n",
       "    </tr>\n",
       "    <tr>\n",
       "      <th>2015-03</th>\n",
       "      <td>-0.039982</td>\n",
       "    </tr>\n",
       "    <tr>\n",
       "      <th>2015-04</th>\n",
       "      <td>0.027882</td>\n",
       "    </tr>\n",
       "    <tr>\n",
       "      <th>2015-05</th>\n",
       "      <td>-0.024837</td>\n",
       "    </tr>\n",
       "    <tr>\n",
       "      <th>2015-06</th>\n",
       "      <td>-0.023474</td>\n",
       "    </tr>\n",
       "    <tr>\n",
       "      <th>2015-07</th>\n",
       "      <td>-0.047957</td>\n",
       "    </tr>\n",
       "    <tr>\n",
       "      <th>2015-08</th>\n",
       "      <td>-0.050120</td>\n",
       "    </tr>\n",
       "    <tr>\n",
       "      <th>2015-09</th>\n",
       "      <td>-0.011829</td>\n",
       "    </tr>\n",
       "    <tr>\n",
       "      <th>2015-10</th>\n",
       "      <td>0.112845</td>\n",
       "    </tr>\n",
       "    <tr>\n",
       "      <th>2015-11</th>\n",
       "      <td>-0.013053</td>\n",
       "    </tr>\n",
       "    <tr>\n",
       "      <th>2015-12</th>\n",
       "      <td>-0.045432</td>\n",
       "    </tr>\n",
       "    <tr>\n",
       "      <th>2016-01</th>\n",
       "      <td>-0.001283</td>\n",
       "    </tr>\n",
       "    <tr>\n",
       "      <th>2016-02</th>\n",
       "      <td>0.029544</td>\n",
       "    </tr>\n",
       "    <tr>\n",
       "      <th>2016-03</th>\n",
       "      <td>0.042920</td>\n",
       "    </tr>\n",
       "    <tr>\n",
       "      <th>2016-04</th>\n",
       "      <td>0.057543</td>\n",
       "    </tr>\n",
       "    <tr>\n",
       "      <th>2016-05</th>\n",
       "      <td>0.007014</td>\n",
       "    </tr>\n",
       "    <tr>\n",
       "      <th>2016-06</th>\n",
       "      <td>0.053022</td>\n",
       "    </tr>\n",
       "    <tr>\n",
       "      <th>2016-07</th>\n",
       "      <td>-0.051099</td>\n",
       "    </tr>\n",
       "    <tr>\n",
       "      <th>2016-08</th>\n",
       "      <td>-0.020349</td>\n",
       "    </tr>\n",
       "    <tr>\n",
       "      <th>2016-09</th>\n",
       "      <td>0.001607</td>\n",
       "    </tr>\n",
       "    <tr>\n",
       "      <th>2016-10</th>\n",
       "      <td>-0.045371</td>\n",
       "    </tr>\n",
       "    <tr>\n",
       "      <th>2016-11</th>\n",
       "      <td>0.047768</td>\n",
       "    </tr>\n",
       "    <tr>\n",
       "      <th>2016-12</th>\n",
       "      <td>0.033906</td>\n",
       "    </tr>\n",
       "    <tr>\n",
       "      <th>2017-01</th>\n",
       "      <td>-0.070574</td>\n",
       "    </tr>\n",
       "    <tr>\n",
       "      <th>2017-02</th>\n",
       "      <td>-0.030635</td>\n",
       "    </tr>\n",
       "    <tr>\n",
       "      <th>2017-03</th>\n",
       "      <td>0.008485</td>\n",
       "    </tr>\n",
       "    <tr>\n",
       "      <th>2017-04</th>\n",
       "      <td>-0.004390</td>\n",
       "    </tr>\n",
       "    <tr>\n",
       "      <th>2017-05</th>\n",
       "      <td>-0.014085</td>\n",
       "    </tr>\n",
       "    <tr>\n",
       "      <th>2017-06</th>\n",
       "      <td>0.002857</td>\n",
       "    </tr>\n",
       "    <tr>\n",
       "      <th>2017-07</th>\n",
       "      <td>-0.008547</td>\n",
       "    </tr>\n",
       "    <tr>\n",
       "      <th>2017-08</th>\n",
       "      <td>-0.046352</td>\n",
       "    </tr>\n",
       "    <tr>\n",
       "      <th>2017-09</th>\n",
       "      <td>0.074021</td>\n",
       "    </tr>\n",
       "    <tr>\n",
       "      <th>2017-10</th>\n",
       "      <td>0.016711</td>\n",
       "    </tr>\n",
       "    <tr>\n",
       "      <th>2017-11</th>\n",
       "      <td>-0.000720</td>\n",
       "    </tr>\n",
       "    <tr>\n",
       "      <th>2017-12</th>\n",
       "      <td>0.004202</td>\n",
       "    </tr>\n",
       "    <tr>\n",
       "      <th>2018-01</th>\n",
       "      <td>0.043759</td>\n",
       "    </tr>\n",
       "    <tr>\n",
       "      <th>2018-02</th>\n",
       "      <td>-0.132417</td>\n",
       "    </tr>\n",
       "    <tr>\n",
       "      <th>2018-03</th>\n",
       "      <td>-0.014919</td>\n",
       "    </tr>\n",
       "    <tr>\n",
       "      <th>2018-04</th>\n",
       "      <td>0.042086</td>\n",
       "    </tr>\n",
       "    <tr>\n",
       "      <th>2018-05</th>\n",
       "      <td>0.044887</td>\n",
       "    </tr>\n",
       "    <tr>\n",
       "      <th>2018-06</th>\n",
       "      <td>0.018341</td>\n",
       "    </tr>\n",
       "    <tr>\n",
       "      <th>2018-07</th>\n",
       "      <td>-0.014747</td>\n",
       "    </tr>\n",
       "    <tr>\n",
       "      <th>2018-08</th>\n",
       "      <td>-0.016440</td>\n",
       "    </tr>\n",
       "    <tr>\n",
       "      <th>2018-09</th>\n",
       "      <td>0.060496</td>\n",
       "    </tr>\n",
       "    <tr>\n",
       "      <th>2018-10</th>\n",
       "      <td>-0.062809</td>\n",
       "    </tr>\n",
       "    <tr>\n",
       "      <th>2018-11</th>\n",
       "      <td>-0.002259</td>\n",
       "    </tr>\n",
       "    <tr>\n",
       "      <th>2018-12</th>\n",
       "      <td>-0.142264</td>\n",
       "    </tr>\n",
       "    <tr>\n",
       "      <th>2019-01</th>\n",
       "      <td>0.074644</td>\n",
       "    </tr>\n",
       "    <tr>\n",
       "      <th>2019-02</th>\n",
       "      <td>0.078466</td>\n",
       "    </tr>\n",
       "    <tr>\n",
       "      <th>2019-03</th>\n",
       "      <td>0.022397</td>\n",
       "    </tr>\n",
       "    <tr>\n",
       "      <th>2019-04</th>\n",
       "      <td>-0.006436</td>\n",
       "    </tr>\n",
       "    <tr>\n",
       "      <th>2019-05</th>\n",
       "      <td>-0.118460</td>\n",
       "    </tr>\n",
       "    <tr>\n",
       "      <th>2019-06</th>\n",
       "      <td>0.082803</td>\n",
       "    </tr>\n",
       "    <tr>\n",
       "      <th>2019-07</th>\n",
       "      <td>-0.029623</td>\n",
       "    </tr>\n",
       "    <tr>\n",
       "      <th>2019-08</th>\n",
       "      <td>-0.079075</td>\n",
       "    </tr>\n",
       "    <tr>\n",
       "      <th>2019-09</th>\n",
       "      <td>0.031104</td>\n",
       "    </tr>\n",
       "    <tr>\n",
       "      <th>2019-10</th>\n",
       "      <td>-0.043053</td>\n",
       "    </tr>\n",
       "    <tr>\n",
       "      <th>2019-11</th>\n",
       "      <td>0.008288</td>\n",
       "    </tr>\n",
       "    <tr>\n",
       "      <th>2019-12</th>\n",
       "      <td>0.024218</td>\n",
       "    </tr>\n",
       "  </tbody>\n",
       "</table>\n",
       "</div>"
      ],
      "text/plain": [
       "             close\n",
       "mth_date          \n",
       "2015-01        NaN\n",
       "2015-02   0.012812\n",
       "2015-03  -0.039982\n",
       "2015-04   0.027882\n",
       "2015-05  -0.024837\n",
       "2015-06  -0.023474\n",
       "2015-07  -0.047957\n",
       "2015-08  -0.050120\n",
       "2015-09  -0.011829\n",
       "2015-10   0.112845\n",
       "2015-11  -0.013053\n",
       "2015-12  -0.045432\n",
       "2016-01  -0.001283\n",
       "2016-02   0.029544\n",
       "2016-03   0.042920\n",
       "2016-04   0.057543\n",
       "2016-05   0.007014\n",
       "2016-06   0.053022\n",
       "2016-07  -0.051099\n",
       "2016-08  -0.020349\n",
       "2016-09   0.001607\n",
       "2016-10  -0.045371\n",
       "2016-11   0.047768\n",
       "2016-12   0.033906\n",
       "2017-01  -0.070574\n",
       "2017-02  -0.030635\n",
       "2017-03   0.008485\n",
       "2017-04  -0.004390\n",
       "2017-05  -0.014085\n",
       "2017-06   0.002857\n",
       "2017-07  -0.008547\n",
       "2017-08  -0.046352\n",
       "2017-09   0.074021\n",
       "2017-10   0.016711\n",
       "2017-11  -0.000720\n",
       "2017-12   0.004202\n",
       "2018-01   0.043759\n",
       "2018-02  -0.132417\n",
       "2018-03  -0.014919\n",
       "2018-04   0.042086\n",
       "2018-05   0.044887\n",
       "2018-06   0.018341\n",
       "2018-07  -0.014747\n",
       "2018-08  -0.016440\n",
       "2018-09   0.060496\n",
       "2018-10  -0.062809\n",
       "2018-11  -0.002259\n",
       "2018-12  -0.142264\n",
       "2019-01   0.074644\n",
       "2019-02   0.078466\n",
       "2019-03   0.022397\n",
       "2019-04  -0.006436\n",
       "2019-05  -0.118460\n",
       "2019-06   0.082803\n",
       "2019-07  -0.029623\n",
       "2019-08  -0.079075\n",
       "2019-09   0.031104\n",
       "2019-10  -0.043053\n",
       "2019-11   0.008288\n",
       "2019-12   0.024218"
      ]
     },
     "execution_count": 72,
     "metadata": {},
     "output_type": "execute_result"
    }
   ],
   "source": [
    "rtns_date = pd.to_datetime(rtns_date, format=\"%Y-%m\", errors=\"ignore\").to_period()\n",
    "rtns['mth_date'] = rtns_date\n",
    "rtns = rtns.set_index('mth_date')\n",
    "rtns.pop(\"date\")\n",
    "rtns"
   ]
  },
  {
   "cell_type": "code",
   "execution_count": 73,
   "metadata": {},
   "outputs": [
    {
     "data": {
      "text/html": [
       "<div>\n",
       "<style scoped>\n",
       "    .dataframe tbody tr th:only-of-type {\n",
       "        vertical-align: middle;\n",
       "    }\n",
       "\n",
       "    .dataframe tbody tr th {\n",
       "        vertical-align: top;\n",
       "    }\n",
       "\n",
       "    .dataframe thead th {\n",
       "        text-align: right;\n",
       "    }\n",
       "</style>\n",
       "<table border=\"1\" class=\"dataframe\">\n",
       "  <thead>\n",
       "    <tr style=\"text-align: right;\">\n",
       "      <th></th>\n",
       "      <th>Mkt-RF</th>\n",
       "      <th>SMB</th>\n",
       "      <th>HML</th>\n",
       "      <th>RMW</th>\n",
       "      <th>CMA</th>\n",
       "      <th>RF</th>\n",
       "    </tr>\n",
       "    <tr>\n",
       "      <th>Date</th>\n",
       "      <th></th>\n",
       "      <th></th>\n",
       "      <th></th>\n",
       "      <th></th>\n",
       "      <th></th>\n",
       "      <th></th>\n",
       "    </tr>\n",
       "  </thead>\n",
       "  <tbody>\n",
       "    <tr>\n",
       "      <th>2015-10</th>\n",
       "      <td>7.75</td>\n",
       "      <td>-2.16</td>\n",
       "      <td>-0.21</td>\n",
       "      <td>0.85</td>\n",
       "      <td>0.45</td>\n",
       "      <td>0.00</td>\n",
       "    </tr>\n",
       "    <tr>\n",
       "      <th>2015-11</th>\n",
       "      <td>0.56</td>\n",
       "      <td>3.36</td>\n",
       "      <td>-0.53</td>\n",
       "      <td>-2.62</td>\n",
       "      <td>-1.11</td>\n",
       "      <td>0.00</td>\n",
       "    </tr>\n",
       "    <tr>\n",
       "      <th>2015-12</th>\n",
       "      <td>-2.17</td>\n",
       "      <td>-2.98</td>\n",
       "      <td>-2.52</td>\n",
       "      <td>0.42</td>\n",
       "      <td>0.10</td>\n",
       "      <td>0.01</td>\n",
       "    </tr>\n",
       "    <tr>\n",
       "      <th>2016-01</th>\n",
       "      <td>-5.77</td>\n",
       "      <td>-3.41</td>\n",
       "      <td>1.98</td>\n",
       "      <td>2.81</td>\n",
       "      <td>3.04</td>\n",
       "      <td>0.01</td>\n",
       "    </tr>\n",
       "    <tr>\n",
       "      <th>2016-02</th>\n",
       "      <td>-0.08</td>\n",
       "      <td>0.96</td>\n",
       "      <td>-0.56</td>\n",
       "      <td>3.36</td>\n",
       "      <td>2.06</td>\n",
       "      <td>0.02</td>\n",
       "    </tr>\n",
       "    <tr>\n",
       "      <th>2016-03</th>\n",
       "      <td>6.96</td>\n",
       "      <td>1.08</td>\n",
       "      <td>1.06</td>\n",
       "      <td>0.76</td>\n",
       "      <td>-0.06</td>\n",
       "      <td>0.02</td>\n",
       "    </tr>\n",
       "    <tr>\n",
       "      <th>2016-04</th>\n",
       "      <td>0.92</td>\n",
       "      <td>1.15</td>\n",
       "      <td>3.30</td>\n",
       "      <td>-2.87</td>\n",
       "      <td>1.97</td>\n",
       "      <td>0.01</td>\n",
       "    </tr>\n",
       "    <tr>\n",
       "      <th>2016-05</th>\n",
       "      <td>1.78</td>\n",
       "      <td>-0.73</td>\n",
       "      <td>-1.72</td>\n",
       "      <td>-1.17</td>\n",
       "      <td>-2.54</td>\n",
       "      <td>0.01</td>\n",
       "    </tr>\n",
       "    <tr>\n",
       "      <th>2016-06</th>\n",
       "      <td>-0.05</td>\n",
       "      <td>0.49</td>\n",
       "      <td>-1.46</td>\n",
       "      <td>1.43</td>\n",
       "      <td>1.96</td>\n",
       "      <td>0.02</td>\n",
       "    </tr>\n",
       "    <tr>\n",
       "      <th>2016-07</th>\n",
       "      <td>3.95</td>\n",
       "      <td>2.60</td>\n",
       "      <td>-1.23</td>\n",
       "      <td>1.14</td>\n",
       "      <td>-1.24</td>\n",
       "      <td>0.02</td>\n",
       "    </tr>\n",
       "    <tr>\n",
       "      <th>2016-08</th>\n",
       "      <td>0.50</td>\n",
       "      <td>1.68</td>\n",
       "      <td>3.24</td>\n",
       "      <td>-1.81</td>\n",
       "      <td>-0.35</td>\n",
       "      <td>0.02</td>\n",
       "    </tr>\n",
       "    <tr>\n",
       "      <th>2016-09</th>\n",
       "      <td>0.25</td>\n",
       "      <td>1.78</td>\n",
       "      <td>-1.20</td>\n",
       "      <td>-2.13</td>\n",
       "      <td>-0.06</td>\n",
       "      <td>0.02</td>\n",
       "    </tr>\n",
       "    <tr>\n",
       "      <th>2016-10</th>\n",
       "      <td>-2.02</td>\n",
       "      <td>-4.09</td>\n",
       "      <td>4.04</td>\n",
       "      <td>0.91</td>\n",
       "      <td>0.21</td>\n",
       "      <td>0.02</td>\n",
       "    </tr>\n",
       "    <tr>\n",
       "      <th>2016-11</th>\n",
       "      <td>4.86</td>\n",
       "      <td>6.78</td>\n",
       "      <td>8.15</td>\n",
       "      <td>-0.07</td>\n",
       "      <td>3.78</td>\n",
       "      <td>0.01</td>\n",
       "    </tr>\n",
       "    <tr>\n",
       "      <th>2016-12</th>\n",
       "      <td>1.81</td>\n",
       "      <td>0.41</td>\n",
       "      <td>3.49</td>\n",
       "      <td>1.14</td>\n",
       "      <td>-0.29</td>\n",
       "      <td>0.03</td>\n",
       "    </tr>\n",
       "    <tr>\n",
       "      <th>2017-01</th>\n",
       "      <td>1.94</td>\n",
       "      <td>-1.33</td>\n",
       "      <td>-2.77</td>\n",
       "      <td>-0.50</td>\n",
       "      <td>-0.94</td>\n",
       "      <td>0.04</td>\n",
       "    </tr>\n",
       "    <tr>\n",
       "      <th>2017-02</th>\n",
       "      <td>3.57</td>\n",
       "      <td>-2.18</td>\n",
       "      <td>-1.78</td>\n",
       "      <td>0.27</td>\n",
       "      <td>-1.74</td>\n",
       "      <td>0.04</td>\n",
       "    </tr>\n",
       "    <tr>\n",
       "      <th>2017-03</th>\n",
       "      <td>0.17</td>\n",
       "      <td>0.80</td>\n",
       "      <td>-3.25</td>\n",
       "      <td>0.80</td>\n",
       "      <td>-1.04</td>\n",
       "      <td>0.03</td>\n",
       "    </tr>\n",
       "    <tr>\n",
       "      <th>2017-04</th>\n",
       "      <td>1.09</td>\n",
       "      <td>0.48</td>\n",
       "      <td>-2.05</td>\n",
       "      <td>1.96</td>\n",
       "      <td>-1.58</td>\n",
       "      <td>0.05</td>\n",
       "    </tr>\n",
       "    <tr>\n",
       "      <th>2017-05</th>\n",
       "      <td>1.06</td>\n",
       "      <td>-3.08</td>\n",
       "      <td>-3.69</td>\n",
       "      <td>1.02</td>\n",
       "      <td>-1.93</td>\n",
       "      <td>0.06</td>\n",
       "    </tr>\n",
       "    <tr>\n",
       "      <th>2017-06</th>\n",
       "      <td>0.78</td>\n",
       "      <td>2.46</td>\n",
       "      <td>1.43</td>\n",
       "      <td>-2.23</td>\n",
       "      <td>-0.05</td>\n",
       "      <td>0.06</td>\n",
       "    </tr>\n",
       "    <tr>\n",
       "      <th>2017-07</th>\n",
       "      <td>1.87</td>\n",
       "      <td>-1.62</td>\n",
       "      <td>-0.28</td>\n",
       "      <td>-0.80</td>\n",
       "      <td>-0.15</td>\n",
       "      <td>0.07</td>\n",
       "    </tr>\n",
       "    <tr>\n",
       "      <th>2017-08</th>\n",
       "      <td>0.16</td>\n",
       "      <td>-1.81</td>\n",
       "      <td>-2.31</td>\n",
       "      <td>0.15</td>\n",
       "      <td>-2.43</td>\n",
       "      <td>0.09</td>\n",
       "    </tr>\n",
       "    <tr>\n",
       "      <th>2017-09</th>\n",
       "      <td>2.51</td>\n",
       "      <td>4.78</td>\n",
       "      <td>3.09</td>\n",
       "      <td>-1.37</td>\n",
       "      <td>1.62</td>\n",
       "      <td>0.09</td>\n",
       "    </tr>\n",
       "    <tr>\n",
       "      <th>2017-10</th>\n",
       "      <td>2.25</td>\n",
       "      <td>-1.95</td>\n",
       "      <td>0.08</td>\n",
       "      <td>0.92</td>\n",
       "      <td>-3.33</td>\n",
       "      <td>0.09</td>\n",
       "    </tr>\n",
       "    <tr>\n",
       "      <th>2017-11</th>\n",
       "      <td>3.12</td>\n",
       "      <td>-0.36</td>\n",
       "      <td>-0.10</td>\n",
       "      <td>3.32</td>\n",
       "      <td>0.01</td>\n",
       "      <td>0.08</td>\n",
       "    </tr>\n",
       "    <tr>\n",
       "      <th>2017-12</th>\n",
       "      <td>1.06</td>\n",
       "      <td>-1.04</td>\n",
       "      <td>0.25</td>\n",
       "      <td>0.74</td>\n",
       "      <td>1.65</td>\n",
       "      <td>0.09</td>\n",
       "    </tr>\n",
       "    <tr>\n",
       "      <th>2018-01</th>\n",
       "      <td>5.58</td>\n",
       "      <td>-3.21</td>\n",
       "      <td>-1.26</td>\n",
       "      <td>-0.81</td>\n",
       "      <td>-0.89</td>\n",
       "      <td>0.11</td>\n",
       "    </tr>\n",
       "    <tr>\n",
       "      <th>2018-02</th>\n",
       "      <td>-3.65</td>\n",
       "      <td>0.36</td>\n",
       "      <td>-1.03</td>\n",
       "      <td>0.59</td>\n",
       "      <td>-2.25</td>\n",
       "      <td>0.11</td>\n",
       "    </tr>\n",
       "    <tr>\n",
       "      <th>2018-03</th>\n",
       "      <td>-2.35</td>\n",
       "      <td>3.59</td>\n",
       "      <td>-0.15</td>\n",
       "      <td>-0.44</td>\n",
       "      <td>-0.01</td>\n",
       "      <td>0.12</td>\n",
       "    </tr>\n",
       "    <tr>\n",
       "      <th>2018-04</th>\n",
       "      <td>0.29</td>\n",
       "      <td>0.96</td>\n",
       "      <td>0.46</td>\n",
       "      <td>-2.32</td>\n",
       "      <td>1.18</td>\n",
       "      <td>0.14</td>\n",
       "    </tr>\n",
       "    <tr>\n",
       "      <th>2018-05</th>\n",
       "      <td>2.65</td>\n",
       "      <td>4.75</td>\n",
       "      <td>-3.13</td>\n",
       "      <td>-2.02</td>\n",
       "      <td>-1.43</td>\n",
       "      <td>0.14</td>\n",
       "    </tr>\n",
       "    <tr>\n",
       "      <th>2018-06</th>\n",
       "      <td>0.48</td>\n",
       "      <td>0.89</td>\n",
       "      <td>-2.27</td>\n",
       "      <td>0.83</td>\n",
       "      <td>0.34</td>\n",
       "      <td>0.14</td>\n",
       "    </tr>\n",
       "    <tr>\n",
       "      <th>2018-07</th>\n",
       "      <td>3.19</td>\n",
       "      <td>-1.95</td>\n",
       "      <td>0.58</td>\n",
       "      <td>1.53</td>\n",
       "      <td>0.40</td>\n",
       "      <td>0.16</td>\n",
       "    </tr>\n",
       "    <tr>\n",
       "      <th>2018-08</th>\n",
       "      <td>3.44</td>\n",
       "      <td>0.62</td>\n",
       "      <td>-3.87</td>\n",
       "      <td>-0.15</td>\n",
       "      <td>-2.47</td>\n",
       "      <td>0.16</td>\n",
       "    </tr>\n",
       "    <tr>\n",
       "      <th>2018-09</th>\n",
       "      <td>0.06</td>\n",
       "      <td>-2.48</td>\n",
       "      <td>-1.70</td>\n",
       "      <td>0.59</td>\n",
       "      <td>1.26</td>\n",
       "      <td>0.15</td>\n",
       "    </tr>\n",
       "    <tr>\n",
       "      <th>2018-10</th>\n",
       "      <td>-7.68</td>\n",
       "      <td>-4.57</td>\n",
       "      <td>3.62</td>\n",
       "      <td>0.86</td>\n",
       "      <td>3.42</td>\n",
       "      <td>0.19</td>\n",
       "    </tr>\n",
       "    <tr>\n",
       "      <th>2018-11</th>\n",
       "      <td>1.69</td>\n",
       "      <td>-0.79</td>\n",
       "      <td>0.20</td>\n",
       "      <td>-0.63</td>\n",
       "      <td>0.33</td>\n",
       "      <td>0.18</td>\n",
       "    </tr>\n",
       "    <tr>\n",
       "      <th>2018-12</th>\n",
       "      <td>-9.55</td>\n",
       "      <td>-3.01</td>\n",
       "      <td>-1.88</td>\n",
       "      <td>-0.09</td>\n",
       "      <td>0.15</td>\n",
       "      <td>0.19</td>\n",
       "    </tr>\n",
       "    <tr>\n",
       "      <th>2019-01</th>\n",
       "      <td>8.41</td>\n",
       "      <td>3.07</td>\n",
       "      <td>-0.56</td>\n",
       "      <td>-0.65</td>\n",
       "      <td>-1.36</td>\n",
       "      <td>0.21</td>\n",
       "    </tr>\n",
       "    <tr>\n",
       "      <th>2019-02</th>\n",
       "      <td>3.40</td>\n",
       "      <td>1.78</td>\n",
       "      <td>-2.72</td>\n",
       "      <td>0.09</td>\n",
       "      <td>-1.47</td>\n",
       "      <td>0.18</td>\n",
       "    </tr>\n",
       "    <tr>\n",
       "      <th>2019-03</th>\n",
       "      <td>1.10</td>\n",
       "      <td>-3.56</td>\n",
       "      <td>-4.20</td>\n",
       "      <td>0.86</td>\n",
       "      <td>-1.03</td>\n",
       "      <td>0.19</td>\n",
       "    </tr>\n",
       "    <tr>\n",
       "      <th>2019-04</th>\n",
       "      <td>3.96</td>\n",
       "      <td>-1.17</td>\n",
       "      <td>2.00</td>\n",
       "      <td>1.64</td>\n",
       "      <td>-2.18</td>\n",
       "      <td>0.21</td>\n",
       "    </tr>\n",
       "    <tr>\n",
       "      <th>2019-05</th>\n",
       "      <td>-6.94</td>\n",
       "      <td>-1.52</td>\n",
       "      <td>-2.15</td>\n",
       "      <td>-0.54</td>\n",
       "      <td>1.78</td>\n",
       "      <td>0.21</td>\n",
       "    </tr>\n",
       "    <tr>\n",
       "      <th>2019-06</th>\n",
       "      <td>6.93</td>\n",
       "      <td>0.33</td>\n",
       "      <td>-0.82</td>\n",
       "      <td>0.99</td>\n",
       "      <td>-0.38</td>\n",
       "      <td>0.18</td>\n",
       "    </tr>\n",
       "    <tr>\n",
       "      <th>2019-07</th>\n",
       "      <td>1.19</td>\n",
       "      <td>-1.90</td>\n",
       "      <td>0.30</td>\n",
       "      <td>-0.16</td>\n",
       "      <td>0.34</td>\n",
       "      <td>0.19</td>\n",
       "    </tr>\n",
       "    <tr>\n",
       "      <th>2019-08</th>\n",
       "      <td>-2.58</td>\n",
       "      <td>-3.30</td>\n",
       "      <td>-4.93</td>\n",
       "      <td>0.43</td>\n",
       "      <td>-0.88</td>\n",
       "      <td>0.16</td>\n",
       "    </tr>\n",
       "    <tr>\n",
       "      <th>2019-09</th>\n",
       "      <td>1.43</td>\n",
       "      <td>0.26</td>\n",
       "      <td>6.78</td>\n",
       "      <td>1.99</td>\n",
       "      <td>3.50</td>\n",
       "      <td>0.18</td>\n",
       "    </tr>\n",
       "    <tr>\n",
       "      <th>2019-10</th>\n",
       "      <td>2.06</td>\n",
       "      <td>0.21</td>\n",
       "      <td>-2.09</td>\n",
       "      <td>0.25</td>\n",
       "      <td>-0.99</td>\n",
       "      <td>0.15</td>\n",
       "    </tr>\n",
       "    <tr>\n",
       "      <th>2019-11</th>\n",
       "      <td>3.87</td>\n",
       "      <td>0.50</td>\n",
       "      <td>-1.87</td>\n",
       "      <td>-1.58</td>\n",
       "      <td>-1.24</td>\n",
       "      <td>0.12</td>\n",
       "    </tr>\n",
       "    <tr>\n",
       "      <th>2019-12</th>\n",
       "      <td>2.77</td>\n",
       "      <td>0.96</td>\n",
       "      <td>1.93</td>\n",
       "      <td>0.09</td>\n",
       "      <td>1.29</td>\n",
       "      <td>0.14</td>\n",
       "    </tr>\n",
       "    <tr>\n",
       "      <th>2020-01</th>\n",
       "      <td>-0.11</td>\n",
       "      <td>-4.41</td>\n",
       "      <td>-6.30</td>\n",
       "      <td>-1.36</td>\n",
       "      <td>-2.34</td>\n",
       "      <td>0.13</td>\n",
       "    </tr>\n",
       "    <tr>\n",
       "      <th>2020-02</th>\n",
       "      <td>-8.13</td>\n",
       "      <td>-0.04</td>\n",
       "      <td>-3.96</td>\n",
       "      <td>-1.61</td>\n",
       "      <td>-2.49</td>\n",
       "      <td>0.12</td>\n",
       "    </tr>\n",
       "    <tr>\n",
       "      <th>2020-03</th>\n",
       "      <td>-13.38</td>\n",
       "      <td>-8.40</td>\n",
       "      <td>-14.11</td>\n",
       "      <td>-1.38</td>\n",
       "      <td>1.21</td>\n",
       "      <td>0.12</td>\n",
       "    </tr>\n",
       "    <tr>\n",
       "      <th>2020-04</th>\n",
       "      <td>13.65</td>\n",
       "      <td>2.79</td>\n",
       "      <td>-1.35</td>\n",
       "      <td>2.51</td>\n",
       "      <td>-1.03</td>\n",
       "      <td>0.00</td>\n",
       "    </tr>\n",
       "    <tr>\n",
       "      <th>2020-05</th>\n",
       "      <td>5.58</td>\n",
       "      <td>1.92</td>\n",
       "      <td>-4.95</td>\n",
       "      <td>0.71</td>\n",
       "      <td>-3.28</td>\n",
       "      <td>0.01</td>\n",
       "    </tr>\n",
       "    <tr>\n",
       "      <th>2020-06</th>\n",
       "      <td>2.46</td>\n",
       "      <td>1.94</td>\n",
       "      <td>-2.22</td>\n",
       "      <td>0.03</td>\n",
       "      <td>0.34</td>\n",
       "      <td>0.01</td>\n",
       "    </tr>\n",
       "    <tr>\n",
       "      <th>2020-07</th>\n",
       "      <td>5.77</td>\n",
       "      <td>-3.06</td>\n",
       "      <td>-1.32</td>\n",
       "      <td>0.59</td>\n",
       "      <td>1.02</td>\n",
       "      <td>0.01</td>\n",
       "    </tr>\n",
       "    <tr>\n",
       "      <th>2020-08</th>\n",
       "      <td>7.62</td>\n",
       "      <td>-0.80</td>\n",
       "      <td>-3.10</td>\n",
       "      <td>4.13</td>\n",
       "      <td>-1.50</td>\n",
       "      <td>0.01</td>\n",
       "    </tr>\n",
       "  </tbody>\n",
       "</table>\n",
       "</div>"
      ],
      "text/plain": [
       "         Mkt-RF   SMB    HML   RMW   CMA    RF\n",
       "Date                                          \n",
       "2015-10    7.75 -2.16  -0.21  0.85  0.45  0.00\n",
       "2015-11    0.56  3.36  -0.53 -2.62 -1.11  0.00\n",
       "2015-12   -2.17 -2.98  -2.52  0.42  0.10  0.01\n",
       "2016-01   -5.77 -3.41   1.98  2.81  3.04  0.01\n",
       "2016-02   -0.08  0.96  -0.56  3.36  2.06  0.02\n",
       "2016-03    6.96  1.08   1.06  0.76 -0.06  0.02\n",
       "2016-04    0.92  1.15   3.30 -2.87  1.97  0.01\n",
       "2016-05    1.78 -0.73  -1.72 -1.17 -2.54  0.01\n",
       "2016-06   -0.05  0.49  -1.46  1.43  1.96  0.02\n",
       "2016-07    3.95  2.60  -1.23  1.14 -1.24  0.02\n",
       "2016-08    0.50  1.68   3.24 -1.81 -0.35  0.02\n",
       "2016-09    0.25  1.78  -1.20 -2.13 -0.06  0.02\n",
       "2016-10   -2.02 -4.09   4.04  0.91  0.21  0.02\n",
       "2016-11    4.86  6.78   8.15 -0.07  3.78  0.01\n",
       "2016-12    1.81  0.41   3.49  1.14 -0.29  0.03\n",
       "2017-01    1.94 -1.33  -2.77 -0.50 -0.94  0.04\n",
       "2017-02    3.57 -2.18  -1.78  0.27 -1.74  0.04\n",
       "2017-03    0.17  0.80  -3.25  0.80 -1.04  0.03\n",
       "2017-04    1.09  0.48  -2.05  1.96 -1.58  0.05\n",
       "2017-05    1.06 -3.08  -3.69  1.02 -1.93  0.06\n",
       "2017-06    0.78  2.46   1.43 -2.23 -0.05  0.06\n",
       "2017-07    1.87 -1.62  -0.28 -0.80 -0.15  0.07\n",
       "2017-08    0.16 -1.81  -2.31  0.15 -2.43  0.09\n",
       "2017-09    2.51  4.78   3.09 -1.37  1.62  0.09\n",
       "2017-10    2.25 -1.95   0.08  0.92 -3.33  0.09\n",
       "2017-11    3.12 -0.36  -0.10  3.32  0.01  0.08\n",
       "2017-12    1.06 -1.04   0.25  0.74  1.65  0.09\n",
       "2018-01    5.58 -3.21  -1.26 -0.81 -0.89  0.11\n",
       "2018-02   -3.65  0.36  -1.03  0.59 -2.25  0.11\n",
       "2018-03   -2.35  3.59  -0.15 -0.44 -0.01  0.12\n",
       "2018-04    0.29  0.96   0.46 -2.32  1.18  0.14\n",
       "2018-05    2.65  4.75  -3.13 -2.02 -1.43  0.14\n",
       "2018-06    0.48  0.89  -2.27  0.83  0.34  0.14\n",
       "2018-07    3.19 -1.95   0.58  1.53  0.40  0.16\n",
       "2018-08    3.44  0.62  -3.87 -0.15 -2.47  0.16\n",
       "2018-09    0.06 -2.48  -1.70  0.59  1.26  0.15\n",
       "2018-10   -7.68 -4.57   3.62  0.86  3.42  0.19\n",
       "2018-11    1.69 -0.79   0.20 -0.63  0.33  0.18\n",
       "2018-12   -9.55 -3.01  -1.88 -0.09  0.15  0.19\n",
       "2019-01    8.41  3.07  -0.56 -0.65 -1.36  0.21\n",
       "2019-02    3.40  1.78  -2.72  0.09 -1.47  0.18\n",
       "2019-03    1.10 -3.56  -4.20  0.86 -1.03  0.19\n",
       "2019-04    3.96 -1.17   2.00  1.64 -2.18  0.21\n",
       "2019-05   -6.94 -1.52  -2.15 -0.54  1.78  0.21\n",
       "2019-06    6.93  0.33  -0.82  0.99 -0.38  0.18\n",
       "2019-07    1.19 -1.90   0.30 -0.16  0.34  0.19\n",
       "2019-08   -2.58 -3.30  -4.93  0.43 -0.88  0.16\n",
       "2019-09    1.43  0.26   6.78  1.99  3.50  0.18\n",
       "2019-10    2.06  0.21  -2.09  0.25 -0.99  0.15\n",
       "2019-11    3.87  0.50  -1.87 -1.58 -1.24  0.12\n",
       "2019-12    2.77  0.96   1.93  0.09  1.29  0.14\n",
       "2020-01   -0.11 -4.41  -6.30 -1.36 -2.34  0.13\n",
       "2020-02   -8.13 -0.04  -3.96 -1.61 -2.49  0.12\n",
       "2020-03  -13.38 -8.40 -14.11 -1.38  1.21  0.12\n",
       "2020-04   13.65  2.79  -1.35  2.51 -1.03  0.00\n",
       "2020-05    5.58  1.92  -4.95  0.71 -3.28  0.01\n",
       "2020-06    2.46  1.94  -2.22  0.03  0.34  0.01\n",
       "2020-07    5.77 -3.06  -1.32  0.59  1.02  0.01\n",
       "2020-08    7.62 -0.80  -3.10  4.13 -1.50  0.01"
      ]
     },
     "execution_count": 73,
     "metadata": {},
     "output_type": "execute_result"
    }
   ],
   "source": [
    "dataset[0]"
   ]
  },
  {
   "cell_type": "code",
   "execution_count": 74,
   "metadata": {},
   "outputs": [
    {
     "data": {
      "text/html": [
       "<div>\n",
       "<style scoped>\n",
       "    .dataframe tbody tr th:only-of-type {\n",
       "        vertical-align: middle;\n",
       "    }\n",
       "\n",
       "    .dataframe tbody tr th {\n",
       "        vertical-align: top;\n",
       "    }\n",
       "\n",
       "    .dataframe thead th {\n",
       "        text-align: right;\n",
       "    }\n",
       "</style>\n",
       "<table border=\"1\" class=\"dataframe\">\n",
       "  <thead>\n",
       "    <tr style=\"text-align: right;\">\n",
       "      <th></th>\n",
       "      <th>close</th>\n",
       "      <th>Mkt-RF</th>\n",
       "      <th>SMB</th>\n",
       "      <th>HML</th>\n",
       "      <th>RMW</th>\n",
       "      <th>CMA</th>\n",
       "      <th>RF</th>\n",
       "    </tr>\n",
       "    <tr>\n",
       "      <th>mth_date</th>\n",
       "      <th></th>\n",
       "      <th></th>\n",
       "      <th></th>\n",
       "      <th></th>\n",
       "      <th></th>\n",
       "      <th></th>\n",
       "      <th></th>\n",
       "    </tr>\n",
       "  </thead>\n",
       "  <tbody>\n",
       "    <tr>\n",
       "      <th>2015-10</th>\n",
       "      <td>0.112845</td>\n",
       "      <td>7.75</td>\n",
       "      <td>-2.16</td>\n",
       "      <td>-0.21</td>\n",
       "      <td>0.85</td>\n",
       "      <td>0.45</td>\n",
       "      <td>0.00</td>\n",
       "    </tr>\n",
       "    <tr>\n",
       "      <th>2015-11</th>\n",
       "      <td>-0.013053</td>\n",
       "      <td>0.56</td>\n",
       "      <td>3.36</td>\n",
       "      <td>-0.53</td>\n",
       "      <td>-2.62</td>\n",
       "      <td>-1.11</td>\n",
       "      <td>0.00</td>\n",
       "    </tr>\n",
       "    <tr>\n",
       "      <th>2015-12</th>\n",
       "      <td>-0.045432</td>\n",
       "      <td>-2.17</td>\n",
       "      <td>-2.98</td>\n",
       "      <td>-2.52</td>\n",
       "      <td>0.42</td>\n",
       "      <td>0.10</td>\n",
       "      <td>0.01</td>\n",
       "    </tr>\n",
       "    <tr>\n",
       "      <th>2016-01</th>\n",
       "      <td>-0.001283</td>\n",
       "      <td>-5.77</td>\n",
       "      <td>-3.41</td>\n",
       "      <td>1.98</td>\n",
       "      <td>2.81</td>\n",
       "      <td>3.04</td>\n",
       "      <td>0.01</td>\n",
       "    </tr>\n",
       "    <tr>\n",
       "      <th>2016-02</th>\n",
       "      <td>0.029544</td>\n",
       "      <td>-0.08</td>\n",
       "      <td>0.96</td>\n",
       "      <td>-0.56</td>\n",
       "      <td>3.36</td>\n",
       "      <td>2.06</td>\n",
       "      <td>0.02</td>\n",
       "    </tr>\n",
       "    <tr>\n",
       "      <th>2016-03</th>\n",
       "      <td>0.042920</td>\n",
       "      <td>6.96</td>\n",
       "      <td>1.08</td>\n",
       "      <td>1.06</td>\n",
       "      <td>0.76</td>\n",
       "      <td>-0.06</td>\n",
       "      <td>0.02</td>\n",
       "    </tr>\n",
       "    <tr>\n",
       "      <th>2016-04</th>\n",
       "      <td>0.057543</td>\n",
       "      <td>0.92</td>\n",
       "      <td>1.15</td>\n",
       "      <td>3.30</td>\n",
       "      <td>-2.87</td>\n",
       "      <td>1.97</td>\n",
       "      <td>0.01</td>\n",
       "    </tr>\n",
       "    <tr>\n",
       "      <th>2016-05</th>\n",
       "      <td>0.007014</td>\n",
       "      <td>1.78</td>\n",
       "      <td>-0.73</td>\n",
       "      <td>-1.72</td>\n",
       "      <td>-1.17</td>\n",
       "      <td>-2.54</td>\n",
       "      <td>0.01</td>\n",
       "    </tr>\n",
       "    <tr>\n",
       "      <th>2016-06</th>\n",
       "      <td>0.053022</td>\n",
       "      <td>-0.05</td>\n",
       "      <td>0.49</td>\n",
       "      <td>-1.46</td>\n",
       "      <td>1.43</td>\n",
       "      <td>1.96</td>\n",
       "      <td>0.02</td>\n",
       "    </tr>\n",
       "    <tr>\n",
       "      <th>2016-07</th>\n",
       "      <td>-0.051099</td>\n",
       "      <td>3.95</td>\n",
       "      <td>2.60</td>\n",
       "      <td>-1.23</td>\n",
       "      <td>1.14</td>\n",
       "      <td>-1.24</td>\n",
       "      <td>0.02</td>\n",
       "    </tr>\n",
       "    <tr>\n",
       "      <th>2016-08</th>\n",
       "      <td>-0.020349</td>\n",
       "      <td>0.50</td>\n",
       "      <td>1.68</td>\n",
       "      <td>3.24</td>\n",
       "      <td>-1.81</td>\n",
       "      <td>-0.35</td>\n",
       "      <td>0.02</td>\n",
       "    </tr>\n",
       "    <tr>\n",
       "      <th>2016-09</th>\n",
       "      <td>0.001607</td>\n",
       "      <td>0.25</td>\n",
       "      <td>1.78</td>\n",
       "      <td>-1.20</td>\n",
       "      <td>-2.13</td>\n",
       "      <td>-0.06</td>\n",
       "      <td>0.02</td>\n",
       "    </tr>\n",
       "    <tr>\n",
       "      <th>2016-10</th>\n",
       "      <td>-0.045371</td>\n",
       "      <td>-2.02</td>\n",
       "      <td>-4.09</td>\n",
       "      <td>4.04</td>\n",
       "      <td>0.91</td>\n",
       "      <td>0.21</td>\n",
       "      <td>0.02</td>\n",
       "    </tr>\n",
       "    <tr>\n",
       "      <th>2016-11</th>\n",
       "      <td>0.047768</td>\n",
       "      <td>4.86</td>\n",
       "      <td>6.78</td>\n",
       "      <td>8.15</td>\n",
       "      <td>-0.07</td>\n",
       "      <td>3.78</td>\n",
       "      <td>0.01</td>\n",
       "    </tr>\n",
       "    <tr>\n",
       "      <th>2016-12</th>\n",
       "      <td>0.033906</td>\n",
       "      <td>1.81</td>\n",
       "      <td>0.41</td>\n",
       "      <td>3.49</td>\n",
       "      <td>1.14</td>\n",
       "      <td>-0.29</td>\n",
       "      <td>0.03</td>\n",
       "    </tr>\n",
       "    <tr>\n",
       "      <th>2017-01</th>\n",
       "      <td>-0.070574</td>\n",
       "      <td>1.94</td>\n",
       "      <td>-1.33</td>\n",
       "      <td>-2.77</td>\n",
       "      <td>-0.50</td>\n",
       "      <td>-0.94</td>\n",
       "      <td>0.04</td>\n",
       "    </tr>\n",
       "    <tr>\n",
       "      <th>2017-02</th>\n",
       "      <td>-0.030635</td>\n",
       "      <td>3.57</td>\n",
       "      <td>-2.18</td>\n",
       "      <td>-1.78</td>\n",
       "      <td>0.27</td>\n",
       "      <td>-1.74</td>\n",
       "      <td>0.04</td>\n",
       "    </tr>\n",
       "    <tr>\n",
       "      <th>2017-03</th>\n",
       "      <td>0.008485</td>\n",
       "      <td>0.17</td>\n",
       "      <td>0.80</td>\n",
       "      <td>-3.25</td>\n",
       "      <td>0.80</td>\n",
       "      <td>-1.04</td>\n",
       "      <td>0.03</td>\n",
       "    </tr>\n",
       "    <tr>\n",
       "      <th>2017-04</th>\n",
       "      <td>-0.004390</td>\n",
       "      <td>1.09</td>\n",
       "      <td>0.48</td>\n",
       "      <td>-2.05</td>\n",
       "      <td>1.96</td>\n",
       "      <td>-1.58</td>\n",
       "      <td>0.05</td>\n",
       "    </tr>\n",
       "    <tr>\n",
       "      <th>2017-05</th>\n",
       "      <td>-0.014085</td>\n",
       "      <td>1.06</td>\n",
       "      <td>-3.08</td>\n",
       "      <td>-3.69</td>\n",
       "      <td>1.02</td>\n",
       "      <td>-1.93</td>\n",
       "      <td>0.06</td>\n",
       "    </tr>\n",
       "    <tr>\n",
       "      <th>2017-06</th>\n",
       "      <td>0.002857</td>\n",
       "      <td>0.78</td>\n",
       "      <td>2.46</td>\n",
       "      <td>1.43</td>\n",
       "      <td>-2.23</td>\n",
       "      <td>-0.05</td>\n",
       "      <td>0.06</td>\n",
       "    </tr>\n",
       "    <tr>\n",
       "      <th>2017-07</th>\n",
       "      <td>-0.008547</td>\n",
       "      <td>1.87</td>\n",
       "      <td>-1.62</td>\n",
       "      <td>-0.28</td>\n",
       "      <td>-0.80</td>\n",
       "      <td>-0.15</td>\n",
       "      <td>0.07</td>\n",
       "    </tr>\n",
       "    <tr>\n",
       "      <th>2017-08</th>\n",
       "      <td>-0.046352</td>\n",
       "      <td>0.16</td>\n",
       "      <td>-1.81</td>\n",
       "      <td>-2.31</td>\n",
       "      <td>0.15</td>\n",
       "      <td>-2.43</td>\n",
       "      <td>0.09</td>\n",
       "    </tr>\n",
       "    <tr>\n",
       "      <th>2017-09</th>\n",
       "      <td>0.074021</td>\n",
       "      <td>2.51</td>\n",
       "      <td>4.78</td>\n",
       "      <td>3.09</td>\n",
       "      <td>-1.37</td>\n",
       "      <td>1.62</td>\n",
       "      <td>0.09</td>\n",
       "    </tr>\n",
       "    <tr>\n",
       "      <th>2017-10</th>\n",
       "      <td>0.016711</td>\n",
       "      <td>2.25</td>\n",
       "      <td>-1.95</td>\n",
       "      <td>0.08</td>\n",
       "      <td>0.92</td>\n",
       "      <td>-3.33</td>\n",
       "      <td>0.09</td>\n",
       "    </tr>\n",
       "    <tr>\n",
       "      <th>2017-11</th>\n",
       "      <td>-0.000720</td>\n",
       "      <td>3.12</td>\n",
       "      <td>-0.36</td>\n",
       "      <td>-0.10</td>\n",
       "      <td>3.32</td>\n",
       "      <td>0.01</td>\n",
       "      <td>0.08</td>\n",
       "    </tr>\n",
       "    <tr>\n",
       "      <th>2017-12</th>\n",
       "      <td>0.004202</td>\n",
       "      <td>1.06</td>\n",
       "      <td>-1.04</td>\n",
       "      <td>0.25</td>\n",
       "      <td>0.74</td>\n",
       "      <td>1.65</td>\n",
       "      <td>0.09</td>\n",
       "    </tr>\n",
       "    <tr>\n",
       "      <th>2018-01</th>\n",
       "      <td>0.043759</td>\n",
       "      <td>5.58</td>\n",
       "      <td>-3.21</td>\n",
       "      <td>-1.26</td>\n",
       "      <td>-0.81</td>\n",
       "      <td>-0.89</td>\n",
       "      <td>0.11</td>\n",
       "    </tr>\n",
       "    <tr>\n",
       "      <th>2018-02</th>\n",
       "      <td>-0.132417</td>\n",
       "      <td>-3.65</td>\n",
       "      <td>0.36</td>\n",
       "      <td>-1.03</td>\n",
       "      <td>0.59</td>\n",
       "      <td>-2.25</td>\n",
       "      <td>0.11</td>\n",
       "    </tr>\n",
       "    <tr>\n",
       "      <th>2018-03</th>\n",
       "      <td>-0.014919</td>\n",
       "      <td>-2.35</td>\n",
       "      <td>3.59</td>\n",
       "      <td>-0.15</td>\n",
       "      <td>-0.44</td>\n",
       "      <td>-0.01</td>\n",
       "      <td>0.12</td>\n",
       "    </tr>\n",
       "    <tr>\n",
       "      <th>2018-04</th>\n",
       "      <td>0.042086</td>\n",
       "      <td>0.29</td>\n",
       "      <td>0.96</td>\n",
       "      <td>0.46</td>\n",
       "      <td>-2.32</td>\n",
       "      <td>1.18</td>\n",
       "      <td>0.14</td>\n",
       "    </tr>\n",
       "    <tr>\n",
       "      <th>2018-05</th>\n",
       "      <td>0.044887</td>\n",
       "      <td>2.65</td>\n",
       "      <td>4.75</td>\n",
       "      <td>-3.13</td>\n",
       "      <td>-2.02</td>\n",
       "      <td>-1.43</td>\n",
       "      <td>0.14</td>\n",
       "    </tr>\n",
       "    <tr>\n",
       "      <th>2018-06</th>\n",
       "      <td>0.018341</td>\n",
       "      <td>0.48</td>\n",
       "      <td>0.89</td>\n",
       "      <td>-2.27</td>\n",
       "      <td>0.83</td>\n",
       "      <td>0.34</td>\n",
       "      <td>0.14</td>\n",
       "    </tr>\n",
       "    <tr>\n",
       "      <th>2018-07</th>\n",
       "      <td>-0.014747</td>\n",
       "      <td>3.19</td>\n",
       "      <td>-1.95</td>\n",
       "      <td>0.58</td>\n",
       "      <td>1.53</td>\n",
       "      <td>0.40</td>\n",
       "      <td>0.16</td>\n",
       "    </tr>\n",
       "    <tr>\n",
       "      <th>2018-08</th>\n",
       "      <td>-0.016440</td>\n",
       "      <td>3.44</td>\n",
       "      <td>0.62</td>\n",
       "      <td>-3.87</td>\n",
       "      <td>-0.15</td>\n",
       "      <td>-2.47</td>\n",
       "      <td>0.16</td>\n",
       "    </tr>\n",
       "    <tr>\n",
       "      <th>2018-09</th>\n",
       "      <td>0.060496</td>\n",
       "      <td>0.06</td>\n",
       "      <td>-2.48</td>\n",
       "      <td>-1.70</td>\n",
       "      <td>0.59</td>\n",
       "      <td>1.26</td>\n",
       "      <td>0.15</td>\n",
       "    </tr>\n",
       "    <tr>\n",
       "      <th>2018-10</th>\n",
       "      <td>-0.062809</td>\n",
       "      <td>-7.68</td>\n",
       "      <td>-4.57</td>\n",
       "      <td>3.62</td>\n",
       "      <td>0.86</td>\n",
       "      <td>3.42</td>\n",
       "      <td>0.19</td>\n",
       "    </tr>\n",
       "    <tr>\n",
       "      <th>2018-11</th>\n",
       "      <td>-0.002259</td>\n",
       "      <td>1.69</td>\n",
       "      <td>-0.79</td>\n",
       "      <td>0.20</td>\n",
       "      <td>-0.63</td>\n",
       "      <td>0.33</td>\n",
       "      <td>0.18</td>\n",
       "    </tr>\n",
       "    <tr>\n",
       "      <th>2018-12</th>\n",
       "      <td>-0.142264</td>\n",
       "      <td>-9.55</td>\n",
       "      <td>-3.01</td>\n",
       "      <td>-1.88</td>\n",
       "      <td>-0.09</td>\n",
       "      <td>0.15</td>\n",
       "      <td>0.19</td>\n",
       "    </tr>\n",
       "    <tr>\n",
       "      <th>2019-01</th>\n",
       "      <td>0.074644</td>\n",
       "      <td>8.41</td>\n",
       "      <td>3.07</td>\n",
       "      <td>-0.56</td>\n",
       "      <td>-0.65</td>\n",
       "      <td>-1.36</td>\n",
       "      <td>0.21</td>\n",
       "    </tr>\n",
       "    <tr>\n",
       "      <th>2019-02</th>\n",
       "      <td>0.078466</td>\n",
       "      <td>3.40</td>\n",
       "      <td>1.78</td>\n",
       "      <td>-2.72</td>\n",
       "      <td>0.09</td>\n",
       "      <td>-1.47</td>\n",
       "      <td>0.18</td>\n",
       "    </tr>\n",
       "    <tr>\n",
       "      <th>2019-03</th>\n",
       "      <td>0.022397</td>\n",
       "      <td>1.10</td>\n",
       "      <td>-3.56</td>\n",
       "      <td>-4.20</td>\n",
       "      <td>0.86</td>\n",
       "      <td>-1.03</td>\n",
       "      <td>0.19</td>\n",
       "    </tr>\n",
       "    <tr>\n",
       "      <th>2019-04</th>\n",
       "      <td>-0.006436</td>\n",
       "      <td>3.96</td>\n",
       "      <td>-1.17</td>\n",
       "      <td>2.00</td>\n",
       "      <td>1.64</td>\n",
       "      <td>-2.18</td>\n",
       "      <td>0.21</td>\n",
       "    </tr>\n",
       "    <tr>\n",
       "      <th>2019-05</th>\n",
       "      <td>-0.118460</td>\n",
       "      <td>-6.94</td>\n",
       "      <td>-1.52</td>\n",
       "      <td>-2.15</td>\n",
       "      <td>-0.54</td>\n",
       "      <td>1.78</td>\n",
       "      <td>0.21</td>\n",
       "    </tr>\n",
       "    <tr>\n",
       "      <th>2019-06</th>\n",
       "      <td>0.082803</td>\n",
       "      <td>6.93</td>\n",
       "      <td>0.33</td>\n",
       "      <td>-0.82</td>\n",
       "      <td>0.99</td>\n",
       "      <td>-0.38</td>\n",
       "      <td>0.18</td>\n",
       "    </tr>\n",
       "    <tr>\n",
       "      <th>2019-07</th>\n",
       "      <td>-0.029623</td>\n",
       "      <td>1.19</td>\n",
       "      <td>-1.90</td>\n",
       "      <td>0.30</td>\n",
       "      <td>-0.16</td>\n",
       "      <td>0.34</td>\n",
       "      <td>0.19</td>\n",
       "    </tr>\n",
       "    <tr>\n",
       "      <th>2019-08</th>\n",
       "      <td>-0.079075</td>\n",
       "      <td>-2.58</td>\n",
       "      <td>-3.30</td>\n",
       "      <td>-4.93</td>\n",
       "      <td>0.43</td>\n",
       "      <td>-0.88</td>\n",
       "      <td>0.16</td>\n",
       "    </tr>\n",
       "    <tr>\n",
       "      <th>2019-09</th>\n",
       "      <td>0.031104</td>\n",
       "      <td>1.43</td>\n",
       "      <td>0.26</td>\n",
       "      <td>6.78</td>\n",
       "      <td>1.99</td>\n",
       "      <td>3.50</td>\n",
       "      <td>0.18</td>\n",
       "    </tr>\n",
       "    <tr>\n",
       "      <th>2019-10</th>\n",
       "      <td>-0.043053</td>\n",
       "      <td>2.06</td>\n",
       "      <td>0.21</td>\n",
       "      <td>-2.09</td>\n",
       "      <td>0.25</td>\n",
       "      <td>-0.99</td>\n",
       "      <td>0.15</td>\n",
       "    </tr>\n",
       "    <tr>\n",
       "      <th>2019-11</th>\n",
       "      <td>0.008288</td>\n",
       "      <td>3.87</td>\n",
       "      <td>0.50</td>\n",
       "      <td>-1.87</td>\n",
       "      <td>-1.58</td>\n",
       "      <td>-1.24</td>\n",
       "      <td>0.12</td>\n",
       "    </tr>\n",
       "    <tr>\n",
       "      <th>2019-12</th>\n",
       "      <td>0.024218</td>\n",
       "      <td>2.77</td>\n",
       "      <td>0.96</td>\n",
       "      <td>1.93</td>\n",
       "      <td>0.09</td>\n",
       "      <td>1.29</td>\n",
       "      <td>0.14</td>\n",
       "    </tr>\n",
       "  </tbody>\n",
       "</table>\n",
       "</div>"
      ],
      "text/plain": [
       "             close  Mkt-RF   SMB   HML   RMW   CMA    RF\n",
       "mth_date                                                \n",
       "2015-10   0.112845    7.75 -2.16 -0.21  0.85  0.45  0.00\n",
       "2015-11  -0.013053    0.56  3.36 -0.53 -2.62 -1.11  0.00\n",
       "2015-12  -0.045432   -2.17 -2.98 -2.52  0.42  0.10  0.01\n",
       "2016-01  -0.001283   -5.77 -3.41  1.98  2.81  3.04  0.01\n",
       "2016-02   0.029544   -0.08  0.96 -0.56  3.36  2.06  0.02\n",
       "2016-03   0.042920    6.96  1.08  1.06  0.76 -0.06  0.02\n",
       "2016-04   0.057543    0.92  1.15  3.30 -2.87  1.97  0.01\n",
       "2016-05   0.007014    1.78 -0.73 -1.72 -1.17 -2.54  0.01\n",
       "2016-06   0.053022   -0.05  0.49 -1.46  1.43  1.96  0.02\n",
       "2016-07  -0.051099    3.95  2.60 -1.23  1.14 -1.24  0.02\n",
       "2016-08  -0.020349    0.50  1.68  3.24 -1.81 -0.35  0.02\n",
       "2016-09   0.001607    0.25  1.78 -1.20 -2.13 -0.06  0.02\n",
       "2016-10  -0.045371   -2.02 -4.09  4.04  0.91  0.21  0.02\n",
       "2016-11   0.047768    4.86  6.78  8.15 -0.07  3.78  0.01\n",
       "2016-12   0.033906    1.81  0.41  3.49  1.14 -0.29  0.03\n",
       "2017-01  -0.070574    1.94 -1.33 -2.77 -0.50 -0.94  0.04\n",
       "2017-02  -0.030635    3.57 -2.18 -1.78  0.27 -1.74  0.04\n",
       "2017-03   0.008485    0.17  0.80 -3.25  0.80 -1.04  0.03\n",
       "2017-04  -0.004390    1.09  0.48 -2.05  1.96 -1.58  0.05\n",
       "2017-05  -0.014085    1.06 -3.08 -3.69  1.02 -1.93  0.06\n",
       "2017-06   0.002857    0.78  2.46  1.43 -2.23 -0.05  0.06\n",
       "2017-07  -0.008547    1.87 -1.62 -0.28 -0.80 -0.15  0.07\n",
       "2017-08  -0.046352    0.16 -1.81 -2.31  0.15 -2.43  0.09\n",
       "2017-09   0.074021    2.51  4.78  3.09 -1.37  1.62  0.09\n",
       "2017-10   0.016711    2.25 -1.95  0.08  0.92 -3.33  0.09\n",
       "2017-11  -0.000720    3.12 -0.36 -0.10  3.32  0.01  0.08\n",
       "2017-12   0.004202    1.06 -1.04  0.25  0.74  1.65  0.09\n",
       "2018-01   0.043759    5.58 -3.21 -1.26 -0.81 -0.89  0.11\n",
       "2018-02  -0.132417   -3.65  0.36 -1.03  0.59 -2.25  0.11\n",
       "2018-03  -0.014919   -2.35  3.59 -0.15 -0.44 -0.01  0.12\n",
       "2018-04   0.042086    0.29  0.96  0.46 -2.32  1.18  0.14\n",
       "2018-05   0.044887    2.65  4.75 -3.13 -2.02 -1.43  0.14\n",
       "2018-06   0.018341    0.48  0.89 -2.27  0.83  0.34  0.14\n",
       "2018-07  -0.014747    3.19 -1.95  0.58  1.53  0.40  0.16\n",
       "2018-08  -0.016440    3.44  0.62 -3.87 -0.15 -2.47  0.16\n",
       "2018-09   0.060496    0.06 -2.48 -1.70  0.59  1.26  0.15\n",
       "2018-10  -0.062809   -7.68 -4.57  3.62  0.86  3.42  0.19\n",
       "2018-11  -0.002259    1.69 -0.79  0.20 -0.63  0.33  0.18\n",
       "2018-12  -0.142264   -9.55 -3.01 -1.88 -0.09  0.15  0.19\n",
       "2019-01   0.074644    8.41  3.07 -0.56 -0.65 -1.36  0.21\n",
       "2019-02   0.078466    3.40  1.78 -2.72  0.09 -1.47  0.18\n",
       "2019-03   0.022397    1.10 -3.56 -4.20  0.86 -1.03  0.19\n",
       "2019-04  -0.006436    3.96 -1.17  2.00  1.64 -2.18  0.21\n",
       "2019-05  -0.118460   -6.94 -1.52 -2.15 -0.54  1.78  0.21\n",
       "2019-06   0.082803    6.93  0.33 -0.82  0.99 -0.38  0.18\n",
       "2019-07  -0.029623    1.19 -1.90  0.30 -0.16  0.34  0.19\n",
       "2019-08  -0.079075   -2.58 -3.30 -4.93  0.43 -0.88  0.16\n",
       "2019-09   0.031104    1.43  0.26  6.78  1.99  3.50  0.18\n",
       "2019-10  -0.043053    2.06  0.21 -2.09  0.25 -0.99  0.15\n",
       "2019-11   0.008288    3.87  0.50 -1.87 -1.58 -1.24  0.12\n",
       "2019-12   0.024218    2.77  0.96  1.93  0.09  1.29  0.14"
      ]
     },
     "execution_count": 74,
     "metadata": {},
     "output_type": "execute_result"
    }
   ],
   "source": [
    "combined = rtns.join(dataset[0]).dropna()\n",
    "combined"
   ]
  },
  {
   "cell_type": "code",
   "execution_count": 75,
   "metadata": {},
   "outputs": [],
   "source": [
    "y = combined.close"
   ]
  },
  {
   "cell_type": "code",
   "execution_count": 76,
   "metadata": {},
   "outputs": [],
   "source": [
    "x = combined[['Mkt-RF', 'SMB', 'HML', 'RMW', 'CMA']]\n",
    "x = sm.add_constant(x)"
   ]
  },
  {
   "cell_type": "code",
   "execution_count": 77,
   "metadata": {},
   "outputs": [],
   "source": [
    "results=sm.OLS(y,x).fit() "
   ]
  },
  {
   "cell_type": "code",
   "execution_count": 78,
   "metadata": {},
   "outputs": [
    {
     "data": {
      "text/html": [
       "<table class=\"simpletable\">\n",
       "<caption>OLS Regression Results</caption>\n",
       "<tr>\n",
       "  <th>Dep. Variable:</th>          <td>close</td>      <th>  R-squared:         </th> <td>   0.640</td>\n",
       "</tr>\n",
       "<tr>\n",
       "  <th>Model:</th>                   <td>OLS</td>       <th>  Adj. R-squared:    </th> <td>   0.600</td>\n",
       "</tr>\n",
       "<tr>\n",
       "  <th>Method:</th>             <td>Least Squares</td>  <th>  F-statistic:       </th> <td>   15.98</td>\n",
       "</tr>\n",
       "<tr>\n",
       "  <th>Date:</th>             <td>Fri, 02 Oct 2020</td> <th>  Prob (F-statistic):</th> <td>4.90e-09</td>\n",
       "</tr>\n",
       "<tr>\n",
       "  <th>Time:</th>                 <td>18:37:08</td>     <th>  Log-Likelihood:    </th> <td>  103.61</td>\n",
       "</tr>\n",
       "<tr>\n",
       "  <th>No. Observations:</th>      <td>    51</td>      <th>  AIC:               </th> <td>  -195.2</td>\n",
       "</tr>\n",
       "<tr>\n",
       "  <th>Df Residuals:</th>          <td>    45</td>      <th>  BIC:               </th> <td>  -183.6</td>\n",
       "</tr>\n",
       "<tr>\n",
       "  <th>Df Model:</th>              <td>     5</td>      <th>                     </th>     <td> </td>   \n",
       "</tr>\n",
       "<tr>\n",
       "  <th>Covariance Type:</th>      <td>nonrobust</td>    <th>                     </th>     <td> </td>   \n",
       "</tr>\n",
       "</table>\n",
       "<table class=\"simpletable\">\n",
       "<tr>\n",
       "     <td></td>       <th>coef</th>     <th>std err</th>      <th>t</th>      <th>P>|t|</th>  <th>[0.025</th>    <th>0.975]</th>  \n",
       "</tr>\n",
       "<tr>\n",
       "  <th>const</th>  <td>   -0.0126</td> <td>    0.005</td> <td>   -2.456</td> <td> 0.018</td> <td>   -0.023</td> <td>   -0.002</td>\n",
       "</tr>\n",
       "<tr>\n",
       "  <th>Mkt-RF</th> <td>    0.0121</td> <td>    0.002</td> <td>    7.641</td> <td> 0.000</td> <td>    0.009</td> <td>    0.015</td>\n",
       "</tr>\n",
       "<tr>\n",
       "  <th>SMB</th>    <td>    0.0013</td> <td>    0.002</td> <td>    0.543</td> <td> 0.590</td> <td>   -0.003</td> <td>    0.006</td>\n",
       "</tr>\n",
       "<tr>\n",
       "  <th>HML</th>    <td>   -0.0024</td> <td>    0.002</td> <td>   -1.013</td> <td> 0.317</td> <td>   -0.007</td> <td>    0.002</td>\n",
       "</tr>\n",
       "<tr>\n",
       "  <th>RMW</th>    <td>   -0.0015</td> <td>    0.004</td> <td>   -0.410</td> <td> 0.684</td> <td>   -0.009</td> <td>    0.006</td>\n",
       "</tr>\n",
       "<tr>\n",
       "  <th>CMA</th>    <td>    0.0156</td> <td>    0.004</td> <td>    3.843</td> <td> 0.000</td> <td>    0.007</td> <td>    0.024</td>\n",
       "</tr>\n",
       "</table>\n",
       "<table class=\"simpletable\">\n",
       "<tr>\n",
       "  <th>Omnibus:</th>       <td> 0.628</td> <th>  Durbin-Watson:     </th> <td>   1.935</td>\n",
       "</tr>\n",
       "<tr>\n",
       "  <th>Prob(Omnibus):</th> <td> 0.731</td> <th>  Jarque-Bera (JB):  </th> <td>   0.750</td>\n",
       "</tr>\n",
       "<tr>\n",
       "  <th>Skew:</th>          <td>-0.212</td> <th>  Prob(JB):          </th> <td>   0.687</td>\n",
       "</tr>\n",
       "<tr>\n",
       "  <th>Kurtosis:</th>      <td> 2.585</td> <th>  Cond. No.          </th> <td>    4.40</td>\n",
       "</tr>\n",
       "</table><br/><br/>Warnings:<br/>[1] Standard Errors assume that the covariance matrix of the errors is correctly specified."
      ],
      "text/plain": [
       "<class 'statsmodels.iolib.summary.Summary'>\n",
       "\"\"\"\n",
       "                            OLS Regression Results                            \n",
       "==============================================================================\n",
       "Dep. Variable:                  close   R-squared:                       0.640\n",
       "Model:                            OLS   Adj. R-squared:                  0.600\n",
       "Method:                 Least Squares   F-statistic:                     15.98\n",
       "Date:                Fri, 02 Oct 2020   Prob (F-statistic):           4.90e-09\n",
       "Time:                        18:37:08   Log-Likelihood:                 103.61\n",
       "No. Observations:                  51   AIC:                            -195.2\n",
       "Df Residuals:                      45   BIC:                            -183.6\n",
       "Df Model:                           5                                         \n",
       "Covariance Type:            nonrobust                                         \n",
       "==============================================================================\n",
       "                 coef    std err          t      P>|t|      [0.025      0.975]\n",
       "------------------------------------------------------------------------------\n",
       "const         -0.0126      0.005     -2.456      0.018      -0.023      -0.002\n",
       "Mkt-RF         0.0121      0.002      7.641      0.000       0.009       0.015\n",
       "SMB            0.0013      0.002      0.543      0.590      -0.003       0.006\n",
       "HML           -0.0024      0.002     -1.013      0.317      -0.007       0.002\n",
       "RMW           -0.0015      0.004     -0.410      0.684      -0.009       0.006\n",
       "CMA            0.0156      0.004      3.843      0.000       0.007       0.024\n",
       "==============================================================================\n",
       "Omnibus:                        0.628   Durbin-Watson:                   1.935\n",
       "Prob(Omnibus):                  0.731   Jarque-Bera (JB):                0.750\n",
       "Skew:                          -0.212   Prob(JB):                        0.687\n",
       "Kurtosis:                       2.585   Cond. No.                         4.40\n",
       "==============================================================================\n",
       "\n",
       "Warnings:\n",
       "[1] Standard Errors assume that the covariance matrix of the errors is correctly specified.\n",
       "\"\"\""
      ]
     },
     "execution_count": 78,
     "metadata": {},
     "output_type": "execute_result"
    }
   ],
   "source": [
    "results.summary()"
   ]
  },
  {
   "cell_type": "markdown",
   "metadata": {},
   "source": [
    "### Rolling Beta"
   ]
  },
  {
   "cell_type": "code",
   "execution_count": 79,
   "metadata": {},
   "outputs": [],
   "source": [
    "import pandas_datareader.data as web\n",
    "from datetime import datetime\n",
    "#start = datetime(1990, 1, 1)\n",
    "#end = datetime(2018, 1, 1)\n",
    "#prices = web.DataReader(['SPY', 'IBM', 'MSFT', 'XOM'], 'morningstar', start, end)\n",
    "\n",
    "start = datetime(2000, 1, 1)\n",
    "end = datetime(2020, 1, 1)\n",
    "\n",
    "prices = pdr.get_data_tiingo(['SPY', 'IBM', 'MSFT', 'XOM'], start=start, end=end, api_key=TIINGO_API_KEY)\n"
   ]
  },
  {
   "cell_type": "code",
   "execution_count": 80,
   "metadata": {},
   "outputs": [
    {
     "data": {
      "text/html": [
       "<div>\n",
       "<style scoped>\n",
       "    .dataframe tbody tr th:only-of-type {\n",
       "        vertical-align: middle;\n",
       "    }\n",
       "\n",
       "    .dataframe tbody tr th {\n",
       "        vertical-align: top;\n",
       "    }\n",
       "\n",
       "    .dataframe thead th {\n",
       "        text-align: right;\n",
       "    }\n",
       "</style>\n",
       "<table border=\"1\" class=\"dataframe\">\n",
       "  <thead>\n",
       "    <tr style=\"text-align: right;\">\n",
       "      <th>symbol</th>\n",
       "      <th>IBM</th>\n",
       "      <th>MSFT</th>\n",
       "      <th>SPY</th>\n",
       "      <th>XOM</th>\n",
       "    </tr>\n",
       "    <tr>\n",
       "      <th>date</th>\n",
       "      <th></th>\n",
       "      <th></th>\n",
       "      <th></th>\n",
       "      <th></th>\n",
       "    </tr>\n",
       "  </thead>\n",
       "  <tbody>\n",
       "    <tr>\n",
       "      <th>2000-02-29 00:00:00+00:00</th>\n",
       "      <td>-0.084633</td>\n",
       "      <td>-0.086850</td>\n",
       "      <td>-0.015226</td>\n",
       "      <td>-0.091337</td>\n",
       "    </tr>\n",
       "    <tr>\n",
       "      <th>2000-03-31 00:00:00+00:00</th>\n",
       "      <td>0.152019</td>\n",
       "      <td>0.188878</td>\n",
       "      <td>0.094134</td>\n",
       "      <td>0.035719</td>\n",
       "    </tr>\n",
       "    <tr>\n",
       "      <th>2000-04-28 00:00:00+00:00</th>\n",
       "      <td>-0.058038</td>\n",
       "      <td>-0.343529</td>\n",
       "      <td>-0.035121</td>\n",
       "      <td>-0.003974</td>\n",
       "    </tr>\n",
       "    <tr>\n",
       "      <th>2000-05-31 00:00:00+00:00</th>\n",
       "      <td>-0.037578</td>\n",
       "      <td>-0.103082</td>\n",
       "      <td>-0.015722</td>\n",
       "      <td>0.072339</td>\n",
       "    </tr>\n",
       "    <tr>\n",
       "      <th>2000-06-30 00:00:00+00:00</th>\n",
       "      <td>0.020967</td>\n",
       "      <td>0.278772</td>\n",
       "      <td>0.017286</td>\n",
       "      <td>-0.057736</td>\n",
       "    </tr>\n",
       "  </tbody>\n",
       "</table>\n",
       "</div>"
      ],
      "text/plain": [
       "symbol                          IBM      MSFT       SPY       XOM\n",
       "date                                                             \n",
       "2000-02-29 00:00:00+00:00 -0.084633 -0.086850 -0.015226 -0.091337\n",
       "2000-03-31 00:00:00+00:00  0.152019  0.188878  0.094134  0.035719\n",
       "2000-04-28 00:00:00+00:00 -0.058038 -0.343529 -0.035121 -0.003974\n",
       "2000-05-31 00:00:00+00:00 -0.037578 -0.103082 -0.015722  0.072339\n",
       "2000-06-30 00:00:00+00:00  0.020967  0.278772  0.017286 -0.057736"
      ]
     },
     "execution_count": 80,
     "metadata": {},
     "output_type": "execute_result"
    }
   ],
   "source": [
    "returns = prices[\"close\"].unstack(level=-1).T.dropna().resample('BM').last().pct_change().dropna()\n",
    "returns.head()"
   ]
  },
  {
   "cell_type": "code",
   "execution_count": 81,
   "metadata": {},
   "outputs": [],
   "source": [
    "import statsmodels.api as sm"
   ]
  },
  {
   "cell_type": "code",
   "execution_count": 82,
   "metadata": {},
   "outputs": [],
   "source": [
    "ibm = returns.IBM"
   ]
  },
  {
   "cell_type": "code",
   "execution_count": 83,
   "metadata": {},
   "outputs": [],
   "source": [
    "spy = returns.SPY"
   ]
  },
  {
   "cell_type": "code",
   "execution_count": 84,
   "metadata": {},
   "outputs": [
    {
     "name": "stdout",
     "output_type": "stream",
     "text": [
      "239 239\n"
     ]
    }
   ],
   "source": [
    "print(len(ibm), len(spy))"
   ]
  },
  {
   "cell_type": "code",
   "execution_count": 85,
   "metadata": {},
   "outputs": [],
   "source": [
    "beta= []\n",
    "for oo in range(60,len(returns)):\n",
    "    model = sm.OLS(sm.add_constant(ibm[:oo]), spy[:oo]).fit()\n",
    "    beta.append([spy[:oo].index[-1], float(model.params[1])])\n",
    "# beta = pd.DataFrame(beta)\n",
    "# beta.columns = ['date', 'beta']\n",
    "# beta = beta.set_index('date')"
   ]
  },
  {
   "cell_type": "code",
   "execution_count": 86,
   "metadata": {},
   "outputs": [
    {
     "data": {
      "text/plain": [
       "[[Timestamp('2005-01-31 00:00:00+0000', tz='UTC', freq='BM'),\n",
       "  1.6553386898451956],\n",
       " [Timestamp('2005-02-28 00:00:00+0000', tz='UTC', freq='BM'),\n",
       "  1.648349146415664],\n",
       " [Timestamp('2005-03-31 00:00:00+0000', tz='UTC', freq='BM'),\n",
       "  1.6443708163082948],\n",
       " [Timestamp('2005-04-29 00:00:00+0000', tz='UTC', freq='BM'),\n",
       "  1.6634089519827193],\n",
       " [Timestamp('2005-05-31 00:00:00+0000', tz='UTC', freq='BM'),\n",
       "  1.6477010317200014],\n",
       " [Timestamp('2005-06-30 00:00:00+0000', tz='UTC', freq='BM'),\n",
       "  1.6479617140019691],\n",
       " [Timestamp('2005-07-29 00:00:00+0000', tz='UTC', freq='BM'),\n",
       "  1.6656275585144864],\n",
       " [Timestamp('2005-08-31 00:00:00+0000', tz='UTC', freq='BM'),\n",
       "  1.6669175365297113],\n",
       " [Timestamp('2005-09-30 00:00:00+0000', tz='UTC', freq='BM'),\n",
       "  1.6666030123603737],\n",
       " [Timestamp('2005-10-31 00:00:00+0000', tz='UTC', freq='BM'),\n",
       "  1.6560244985010817],\n",
       " [Timestamp('2005-11-30 00:00:00+0000', tz='UTC', freq='BM'), 1.6601994375185],\n",
       " [Timestamp('2005-12-30 00:00:00+0000', tz='UTC', freq='BM'),\n",
       "  1.663538475553163],\n",
       " [Timestamp('2006-01-31 00:00:00+0000', tz='UTC', freq='BM'),\n",
       "  1.6546136613934121],\n",
       " [Timestamp('2006-02-28 00:00:00+0000', tz='UTC', freq='BM'),\n",
       "  1.653672748436323],\n",
       " [Timestamp('2006-03-31 00:00:00+0000', tz='UTC', freq='BM'),\n",
       "  1.6543239968941728],\n",
       " [Timestamp('2006-04-28 00:00:00+0000', tz='UTC', freq='BM'),\n",
       "  1.6522563512915367],\n",
       " [Timestamp('2006-05-31 00:00:00+0000', tz='UTC', freq='BM'),\n",
       "  1.6478682227799588],\n",
       " [Timestamp('2006-06-30 00:00:00+0000', tz='UTC', freq='BM'),\n",
       "  1.6483325328535574],\n",
       " [Timestamp('2006-07-31 00:00:00+0000', tz='UTC', freq='BM'),\n",
       "  1.6483422052621777],\n",
       " [Timestamp('2006-08-31 00:00:00+0000', tz='UTC', freq='BM'),\n",
       "  1.6499183401075976],\n",
       " [Timestamp('2006-09-29 00:00:00+0000', tz='UTC', freq='BM'),\n",
       "  1.6458524779877646],\n",
       " [Timestamp('2006-10-31 00:00:00+0000', tz='UTC', freq='BM'),\n",
       "  1.6626956357697091],\n",
       " [Timestamp('2006-11-30 00:00:00+0000', tz='UTC', freq='BM'),\n",
       "  1.6573913752337508],\n",
       " [Timestamp('2006-12-29 00:00:00+0000', tz='UTC', freq='BM'),\n",
       "  1.6598199518329122],\n",
       " [Timestamp('2007-01-31 00:00:00+0000', tz='UTC', freq='BM'),\n",
       "  1.6593526396003329],\n",
       " [Timestamp('2007-02-28 00:00:00+0000', tz='UTC', freq='BM'),\n",
       "  1.6635296726371789],\n",
       " [Timestamp('2007-03-30 00:00:00+0000', tz='UTC', freq='BM'),\n",
       "  1.663614145566926],\n",
       " [Timestamp('2007-04-30 00:00:00+0000', tz='UTC', freq='BM'),\n",
       "  1.6669064495433812],\n",
       " [Timestamp('2007-05-31 00:00:00+0000', tz='UTC', freq='BM'),\n",
       "  1.663714821424469],\n",
       " [Timestamp('2007-06-29 00:00:00+0000', tz='UTC', freq='BM'),\n",
       "  1.6612809752769007],\n",
       " [Timestamp('2007-07-31 00:00:00+0000', tz='UTC', freq='BM'),\n",
       "  1.6390894945723455],\n",
       " [Timestamp('2007-08-31 00:00:00+0000', tz='UTC', freq='BM'),\n",
       "  1.642039787017209],\n",
       " [Timestamp('2007-09-28 00:00:00+0000', tz='UTC', freq='BM'),\n",
       "  1.6314648175983169],\n",
       " [Timestamp('2007-10-31 00:00:00+0000', tz='UTC', freq='BM'),\n",
       "  1.6281120787637928],\n",
       " [Timestamp('2007-11-30 00:00:00+0000', tz='UTC', freq='BM'),\n",
       "  1.636222581097824],\n",
       " [Timestamp('2007-12-31 00:00:00+0000', tz='UTC', freq='BM'),\n",
       "  1.6301709359880179],\n",
       " [Timestamp('2008-01-31 00:00:00+0000', tz='UTC', freq='BM'),\n",
       "  1.594771035649982],\n",
       " [Timestamp('2008-02-29 00:00:00+0000', tz='UTC', freq='BM'),\n",
       "  1.5772074698719707],\n",
       " [Timestamp('2008-03-31 00:00:00+0000', tz='UTC', freq='BM'),\n",
       "  1.5742323311182844],\n",
       " [Timestamp('2008-04-30 00:00:00+0000', tz='UTC', freq='BM'),\n",
       "  1.5660526979782126],\n",
       " [Timestamp('2008-05-30 00:00:00+0000', tz='UTC', freq='BM'),\n",
       "  1.5707657068931868],\n",
       " [Timestamp('2008-06-30 00:00:00+0000', tz='UTC', freq='BM'),\n",
       "  1.5415917632504603],\n",
       " [Timestamp('2008-07-31 00:00:00+0000', tz='UTC', freq='BM'),\n",
       "  1.5364614496324598],\n",
       " [Timestamp('2008-08-29 00:00:00+0000', tz='UTC', freq='BM'),\n",
       "  1.5296282467825035],\n",
       " [Timestamp('2008-09-30 00:00:00+0000', tz='UTC', freq='BM'),\n",
       "  1.4651836045086108],\n",
       " [Timestamp('2008-10-31 00:00:00+0000', tz='UTC', freq='BM'),\n",
       "  1.4348916176215993],\n",
       " [Timestamp('2008-11-28 00:00:00+0000', tz='UTC', freq='BM'),\n",
       "  1.4424615026082908],\n",
       " [Timestamp('2008-12-31 00:00:00+0000', tz='UTC', freq='BM'),\n",
       "  1.4426954866960564],\n",
       " [Timestamp('2009-01-30 00:00:00+0000', tz='UTC', freq='BM'),\n",
       "  1.3626774862667892],\n",
       " [Timestamp('2009-02-27 00:00:00+0000', tz='UTC', freq='BM'),\n",
       "  1.2905969358792715],\n",
       " [Timestamp('2009-03-31 00:00:00+0000', tz='UTC', freq='BM'),\n",
       "  1.275887268721708],\n",
       " [Timestamp('2009-04-30 00:00:00+0000', tz='UTC', freq='BM'),\n",
       "  1.2504223716837575],\n",
       " [Timestamp('2009-05-29 00:00:00+0000', tz='UTC', freq='BM'),\n",
       "  1.24001459900916],\n",
       " [Timestamp('2009-06-30 00:00:00+0000', tz='UTC', freq='BM'),\n",
       "  1.2402650397522568],\n",
       " [Timestamp('2009-07-31 00:00:00+0000', tz='UTC', freq='BM'),\n",
       "  1.251303891082498],\n",
       " [Timestamp('2009-08-31 00:00:00+0000', tz='UTC', freq='BM'),\n",
       "  1.244635578326649],\n",
       " [Timestamp('2009-09-30 00:00:00+0000', tz='UTC', freq='BM'),\n",
       "  1.2416205924138999],\n",
       " [Timestamp('2009-10-30 00:00:00+0000', tz='UTC', freq='BM'),\n",
       "  1.239158920735177],\n",
       " [Timestamp('2009-11-30 00:00:00+0000', tz='UTC', freq='BM'),\n",
       "  1.2322272543940638],\n",
       " [Timestamp('2009-12-31 00:00:00+0000', tz='UTC', freq='BM'),\n",
       "  1.23325167139831],\n",
       " [Timestamp('2010-01-29 00:00:00+0000', tz='UTC', freq='BM'),\n",
       "  1.2361067946671231],\n",
       " [Timestamp('2010-02-26 00:00:00+0000', tz='UTC', freq='BM'),\n",
       "  1.236156825408858],\n",
       " [Timestamp('2010-03-31 00:00:00+0000', tz='UTC', freq='BM'),\n",
       "  1.2228884071431994],\n",
       " [Timestamp('2010-04-30 00:00:00+0000', tz='UTC', freq='BM'),\n",
       "  1.22211497801765],\n",
       " [Timestamp('2010-05-31 00:00:00+0000', tz='UTC', freq='BM'),\n",
       "  1.2019027550151233],\n",
       " [Timestamp('2010-06-30 00:00:00+0000', tz='UTC', freq='BM'),\n",
       "  1.1908240528560279],\n",
       " [Timestamp('2010-07-30 00:00:00+0000', tz='UTC', freq='BM'),\n",
       "  1.1805407466903934],\n",
       " [Timestamp('2010-08-31 00:00:00+0000', tz='UTC', freq='BM'),\n",
       "  1.1785869477594695],\n",
       " [Timestamp('2010-09-30 00:00:00+0000', tz='UTC', freq='BM'),\n",
       "  1.1758524975280882],\n",
       " [Timestamp('2010-10-29 00:00:00+0000', tz='UTC', freq='BM'),\n",
       "  1.1792716266047032],\n",
       " [Timestamp('2010-11-30 00:00:00+0000', tz='UTC', freq='BM'),\n",
       "  1.1792716266047032],\n",
       " [Timestamp('2010-12-31 00:00:00+0000', tz='UTC', freq='BM'),\n",
       "  1.171916959555203],\n",
       " [Timestamp('2011-01-31 00:00:00+0000', tz='UTC', freq='BM'),\n",
       "  1.1780586587052202],\n",
       " [Timestamp('2011-02-28 00:00:00+0000', tz='UTC', freq='BM'),\n",
       "  1.1730949476430135],\n",
       " [Timestamp('2011-03-31 00:00:00+0000', tz='UTC', freq='BM'),\n",
       "  1.1729177539945115],\n",
       " [Timestamp('2011-04-29 00:00:00+0000', tz='UTC', freq='BM'),\n",
       "  1.1741145733751626],\n",
       " [Timestamp('2011-05-31 00:00:00+0000', tz='UTC', freq='BM'),\n",
       "  1.1739806260461902],\n",
       " [Timestamp('2011-06-30 00:00:00+0000', tz='UTC', freq='BM'),\n",
       "  1.1709410031871954],\n",
       " [Timestamp('2011-07-29 00:00:00+0000', tz='UTC', freq='BM'),\n",
       "  1.1652506975666883],\n",
       " [Timestamp('2011-08-31 00:00:00+0000', tz='UTC', freq='BM'),\n",
       "  1.163507489382802],\n",
       " [Timestamp('2011-09-30 00:00:00+0000', tz='UTC', freq='BM'),\n",
       "  1.1380552040061906],\n",
       " [Timestamp('2011-10-31 00:00:00+0000', tz='UTC', freq='BM'),\n",
       "  1.1142682773164343],\n",
       " [Timestamp('2011-11-30 00:00:00+0000', tz='UTC', freq='BM'),\n",
       "  1.113973342257422],\n",
       " [Timestamp('2011-12-30 00:00:00+0000', tz='UTC', freq='BM'),\n",
       "  1.1136293912039816],\n",
       " [Timestamp('2012-01-31 00:00:00+0000', tz='UTC', freq='BM'),\n",
       "  1.1130099263064177],\n",
       " [Timestamp('2012-02-29 00:00:00+0000', tz='UTC', freq='BM'),\n",
       "  1.1093419346260502],\n",
       " [Timestamp('2012-03-30 00:00:00+0000', tz='UTC', freq='BM'),\n",
       "  1.1119374962452817],\n",
       " [Timestamp('2012-04-30 00:00:00+0000', tz='UTC', freq='BM'),\n",
       "  1.1119396250235551],\n",
       " [Timestamp('2012-05-31 00:00:00+0000', tz='UTC', freq='BM'),\n",
       "  1.1122558899701267],\n",
       " [Timestamp('2012-06-29 00:00:00+0000', tz='UTC', freq='BM'),\n",
       "  1.1095049136182453],\n",
       " [Timestamp('2012-07-31 00:00:00+0000', tz='UTC', freq='BM'),\n",
       "  1.1091000476293151],\n",
       " [Timestamp('2012-08-31 00:00:00+0000', tz='UTC', freq='BM'),\n",
       "  1.1065086000233935],\n",
       " [Timestamp('2012-09-28 00:00:00+0000', tz='UTC', freq='BM'),\n",
       "  1.1091221977785088],\n",
       " [Timestamp('2012-10-31 00:00:00+0000', tz='UTC', freq='BM'),\n",
       "  1.1114787137283022],\n",
       " [Timestamp('2012-11-30 00:00:00+0000', tz='UTC', freq='BM'),\n",
       "  1.1109700887279923],\n",
       " [Timestamp('2012-12-31 00:00:00+0000', tz='UTC', freq='BM'),\n",
       "  1.111002462491074],\n",
       " [Timestamp('2013-01-31 00:00:00+0000', tz='UTC', freq='BM'),\n",
       "  1.1115129683599394],\n",
       " [Timestamp('2013-02-28 00:00:00+0000', tz='UTC', freq='BM'),\n",
       "  1.110531954398003],\n",
       " [Timestamp('2013-03-29 00:00:00+0000', tz='UTC', freq='BM'),\n",
       "  1.1130707655970693],\n",
       " [Timestamp('2013-04-30 00:00:00+0000', tz='UTC', freq='BM'),\n",
       "  1.1088811095129052],\n",
       " [Timestamp('2013-05-31 00:00:00+0000', tz='UTC', freq='BM'),\n",
       "  1.108943793678987],\n",
       " [Timestamp('2013-06-28 00:00:00+0000', tz='UTC', freq='BM'),\n",
       "  1.1123524767056039],\n",
       " [Timestamp('2013-07-31 00:00:00+0000', tz='UTC', freq='BM'),\n",
       "  1.1066225227835857],\n",
       " [Timestamp('2013-08-30 00:00:00+0000', tz='UTC', freq='BM'),\n",
       "  1.1095227197852737],\n",
       " [Timestamp('2013-09-30 00:00:00+0000', tz='UTC', freq='BM'),\n",
       "  1.108440145642969],\n",
       " [Timestamp('2013-10-31 00:00:00+0000', tz='UTC', freq='BM'),\n",
       "  1.0969475236287904],\n",
       " [Timestamp('2013-11-29 00:00:00+0000', tz='UTC', freq='BM'),\n",
       "  1.094323593084494],\n",
       " [Timestamp('2013-12-31 00:00:00+0000', tz='UTC', freq='BM'),\n",
       "  1.0956264866662666],\n",
       " [Timestamp('2014-01-31 00:00:00+0000', tz='UTC', freq='BM'),\n",
       "  1.097646248688367],\n",
       " [Timestamp('2014-02-28 00:00:00+0000', tz='UTC', freq='BM'),\n",
       "  1.0973919159086813],\n",
       " [Timestamp('2014-03-31 00:00:00+0000', tz='UTC', freq='BM'),\n",
       "  1.0977915014983446],\n",
       " [Timestamp('2014-04-30 00:00:00+0000', tz='UTC', freq='BM'),\n",
       "  1.0980571339367642],\n",
       " [Timestamp('2014-05-30 00:00:00+0000', tz='UTC', freq='BM'),\n",
       "  1.0921442972292985],\n",
       " [Timestamp('2014-06-30 00:00:00+0000', tz='UTC', freq='BM'),\n",
       "  1.0905769419732811],\n",
       " [Timestamp('2014-07-31 00:00:00+0000', tz='UTC', freq='BM'),\n",
       "  1.0877498148512752],\n",
       " [Timestamp('2014-08-29 00:00:00+0000', tz='UTC', freq='BM'),\n",
       "  1.0832012190725773],\n",
       " [Timestamp('2014-09-30 00:00:00+0000', tz='UTC', freq='BM'),\n",
       "  1.0828236509105753],\n",
       " [Timestamp('2014-10-31 00:00:00+0000', tz='UTC', freq='BM'),\n",
       "  1.071931910159473],\n",
       " [Timestamp('2014-11-28 00:00:00+0000', tz='UTC', freq='BM'),\n",
       "  1.0685123964980563],\n",
       " [Timestamp('2014-12-31 00:00:00+0000', tz='UTC', freq='BM'),\n",
       "  1.068561245042075],\n",
       " [Timestamp('2015-01-30 00:00:00+0000', tz='UTC', freq='BM'),\n",
       "  1.069654030131019],\n",
       " [Timestamp('2015-02-27 00:00:00+0000', tz='UTC', freq='BM'),\n",
       "  1.0690386713953233],\n",
       " [Timestamp('2015-03-31 00:00:00+0000', tz='UTC', freq='BM'),\n",
       "  1.0683174292984012],\n",
       " [Timestamp('2015-04-30 00:00:00+0000', tz='UTC', freq='BM'),\n",
       "  1.0699103990135939],\n",
       " [Timestamp('2015-05-29 00:00:00+0000', tz='UTC', freq='BM'),\n",
       "  1.0690542589763092],\n",
       " [Timestamp('2015-06-30 00:00:00+0000', tz='UTC', freq='BM'),\n",
       "  1.0700901465642285],\n",
       " [Timestamp('2015-07-31 00:00:00+0000', tz='UTC', freq='BM'),\n",
       "  1.0683369518825387],\n",
       " [Timestamp('2015-08-31 00:00:00+0000', tz='UTC', freq='BM'),\n",
       "  1.0720511038510663],\n",
       " [Timestamp('2015-09-30 00:00:00+0000', tz='UTC', freq='BM'),\n",
       "  1.070989894623641],\n",
       " [Timestamp('2015-10-30 00:00:00+0000', tz='UTC', freq='BM'),\n",
       "  1.0416349611546631],\n",
       " [Timestamp('2015-11-30 00:00:00+0000', tz='UTC', freq='BM'),\n",
       "  1.0415492763890732],\n",
       " [Timestamp('2015-12-31 00:00:00+0000', tz='UTC', freq='BM'),\n",
       "  1.0408419285852455],\n",
       " [Timestamp('2016-01-29 00:00:00+0000', tz='UTC', freq='BM'),\n",
       "  1.046468388921031],\n",
       " [Timestamp('2016-02-29 00:00:00+0000', tz='UTC', freq='BM'),\n",
       "  1.0463537210811933],\n",
       " [Timestamp('2016-03-31 00:00:00+0000', tz='UTC', freq='BM'),\n",
       "  1.0615729807097853],\n",
       " [Timestamp('2016-04-29 00:00:00+0000', tz='UTC', freq='BM'),\n",
       "  1.0611411562718955],\n",
       " [Timestamp('2016-05-31 00:00:00+0000', tz='UTC', freq='BM'),\n",
       "  1.062766204804348],\n",
       " [Timestamp('2016-06-30 00:00:00+0000', tz='UTC', freq='BM'),\n",
       "  1.06281679121873],\n",
       " [Timestamp('2016-07-29 00:00:00+0000', tz='UTC', freq='BM'),\n",
       "  1.064727344929343],\n",
       " [Timestamp('2016-08-31 00:00:00+0000', tz='UTC', freq='BM'),\n",
       "  1.0646883520881998],\n",
       " [Timestamp('2016-09-30 00:00:00+0000', tz='UTC', freq='BM'),\n",
       "  1.0646202066336263],\n",
       " [Timestamp('2016-10-31 00:00:00+0000', tz='UTC', freq='BM'),\n",
       "  1.0652735659974584],\n",
       " [Timestamp('2016-11-30 00:00:00+0000', tz='UTC', freq='BM'),\n",
       "  1.066876946717118],\n",
       " [Timestamp('2016-12-30 00:00:00+0000', tz='UTC', freq='BM'),\n",
       "  1.0671825392416352],\n",
       " [Timestamp('2017-01-31 00:00:00+0000', tz='UTC', freq='BM'),\n",
       "  1.0687273146301974],\n",
       " [Timestamp('2017-02-28 00:00:00+0000', tz='UTC', freq='BM'),\n",
       "  1.0675114778866202],\n",
       " [Timestamp('2017-03-31 00:00:00+0000', tz='UTC', freq='BM'),\n",
       "  1.0677439940424711],\n",
       " [Timestamp('2017-04-28 00:00:00+0000', tz='UTC', freq='BM'),\n",
       "  1.065362778461198],\n",
       " [Timestamp('2017-05-31 00:00:00+0000', tz='UTC', freq='BM'),\n",
       "  1.0630042226831902],\n",
       " [Timestamp('2017-06-30 00:00:00+0000', tz='UTC', freq='BM'),\n",
       "  1.0630291204478062],\n",
       " [Timestamp('2017-07-31 00:00:00+0000', tz='UTC', freq='BM'),\n",
       "  1.0585836461922296],\n",
       " [Timestamp('2017-08-31 00:00:00+0000', tz='UTC', freq='BM'),\n",
       "  1.0584718170959797],\n",
       " [Timestamp('2017-09-29 00:00:00+0000', tz='UTC', freq='BM'),\n",
       "  1.058405095966295],\n",
       " [Timestamp('2017-10-31 00:00:00+0000', tz='UTC', freq='BM'),\n",
       "  1.060714203539608],\n",
       " [Timestamp('2017-11-30 00:00:00+0000', tz='UTC', freq='BM'),\n",
       "  1.0580457847878946],\n",
       " [Timestamp('2017-12-29 00:00:00+0000', tz='UTC', freq='BM'),\n",
       "  1.0578434732101911],\n",
       " [Timestamp('2018-01-31 00:00:00+0000', tz='UTC', freq='BM'),\n",
       "  1.0589352641098202],\n",
       " [Timestamp('2018-02-28 00:00:00+0000', tz='UTC', freq='BM'),\n",
       "  1.0598449395986118],\n",
       " [Timestamp('2018-03-30 00:00:00+0000', tz='UTC', freq='BM'),\n",
       "  1.0583961248116418],\n",
       " [Timestamp('2018-04-30 00:00:00+0000', tz='UTC', freq='BM'),\n",
       "  1.0575787227705384],\n",
       " [Timestamp('2018-05-31 00:00:00+0000', tz='UTC', freq='BM'),\n",
       "  1.054359043807679],\n",
       " [Timestamp('2018-06-29 00:00:00+0000', tz='UTC', freq='BM'),\n",
       "  1.0543175103096822],\n",
       " [Timestamp('2018-07-31 00:00:00+0000', tz='UTC', freq='BM'),\n",
       "  1.054161718798823],\n",
       " [Timestamp('2018-08-31 00:00:00+0000', tz='UTC', freq='BM'),\n",
       "  1.0522665584441007],\n",
       " [Timestamp('2018-09-28 00:00:00+0000', tz='UTC', freq='BM'),\n",
       "  1.0523790892592118],\n",
       " [Timestamp('2018-10-31 00:00:00+0000', tz='UTC', freq='BM'),\n",
       "  1.0813180242097704],\n",
       " [Timestamp('2018-11-30 00:00:00+0000', tz='UTC', freq='BM'),\n",
       "  1.08399464872753],\n",
       " [Timestamp('2018-12-31 00:00:00+0000', tz='UTC', freq='BM'),\n",
       "  1.0802918057514728],\n",
       " [Timestamp('2019-01-31 00:00:00+0000', tz='UTC', freq='BM'),\n",
       "  1.0991941327703167],\n",
       " [Timestamp('2019-02-28 00:00:00+0000', tz='UTC', freq='BM'),\n",
       "  1.0985558962144077],\n",
       " [Timestamp('2019-03-29 00:00:00+0000', tz='UTC', freq='BM'),\n",
       "  1.0987738163376395],\n",
       " [Timestamp('2019-04-30 00:00:00+0000', tz='UTC', freq='BM'),\n",
       "  1.0937120945583723],\n",
       " [Timestamp('2019-05-31 00:00:00+0000', tz='UTC', freq='BM'),\n",
       "  1.097553438420515],\n",
       " [Timestamp('2019-06-28 00:00:00+0000', tz='UTC', freq='BM'),\n",
       "  1.0998987481075666],\n",
       " [Timestamp('2019-07-31 00:00:00+0000', tz='UTC', freq='BM'),\n",
       "  1.1020083797765503],\n",
       " [Timestamp('2019-08-30 00:00:00+0000', tz='UTC', freq='BM'),\n",
       "  1.1047005685430233],\n",
       " [Timestamp('2019-09-30 00:00:00+0000', tz='UTC', freq='BM'),\n",
       "  1.1066993400826086],\n",
       " [Timestamp('2019-10-31 00:00:00+0000', tz='UTC', freq='BM'),\n",
       "  1.1011703288853394],\n",
       " [Timestamp('2019-11-29 00:00:00+0000', tz='UTC', freq='BM'),\n",
       "  1.0982024627333087]]"
      ]
     },
     "execution_count": 86,
     "metadata": {},
     "output_type": "execute_result"
    }
   ],
   "source": [
    "beta"
   ]
  },
  {
   "cell_type": "code",
   "execution_count": 87,
   "metadata": {},
   "outputs": [],
   "source": [
    "beta = pd.DataFrame(beta)\n",
    "beta.columns = ['date', 'beta']\n",
    "beta = beta.set_index('date')"
   ]
  },
  {
   "cell_type": "code",
   "execution_count": 88,
   "metadata": {},
   "outputs": [
    {
     "data": {
      "image/png": "[encoded data removed]",
      "text/plain": [
       "<Figure size 432x288 with 1 Axes>"
      ]
     },
     "metadata": {
      "needs_background": "light"
     },
     "output_type": "display_data"
    }
   ],
   "source": [
    "beta.plot();"
   ]
  },
  {
   "cell_type": "markdown",
   "metadata": {},
   "source": [
    "### Efficient Frontier"
   ]
  },
  {
   "cell_type": "markdown",
   "metadata": {},
   "source": [
    "Portfolio expected return\n",
    "\n",
    "\\begin{equation}\n",
    "r_P = \\sum^n_{i=1}w_ir_i\n",
    "\\end{equation}\n",
    "\n",
    "\\begin{equation}\n",
    "r_P = w^Tr\n",
    "\\end{equation}\n",
    "\n",
    "Variance for two-stocks portfolio\n",
    "\n",
    "\\begin{equation}\n",
    "\\sigma^2_P=w^2_1\\sigma^2_1+w^2_2\\sigma^2_2+2w_1w_2\\sigma_{1,2}=w^2_1\\sigma^2_1+w^2_2\\sigma^2_2+2w_1w_2\\rho\\sigma_1\\sigma_2\n",
    "\\end{equation}\n",
    "\n",
    "Variance for multi-stocks portfolio\n",
    "\n",
    "\\begin{equation}\n",
    "\\sigma^2_P=w^T \\sum w\n",
    "\\end{equation}\n",
    "\n"
   ]
  },
  {
   "cell_type": "code",
   "execution_count": 89,
   "metadata": {},
   "outputs": [],
   "source": [
    "import numpy as np"
   ]
  },
  {
   "cell_type": "code",
   "execution_count": 90,
   "metadata": {},
   "outputs": [
    {
     "data": {
      "text/plain": [
       "array([[0.06, 0.19],\n",
       "       [0.14, 0.1 ],\n",
       "       [0.07, 0.06],\n",
       "       [0.18, 0.1 ],\n",
       "       [0.1 , 0.03],\n",
       "       [0.07, 0.02],\n",
       "       [0.01, 0.11],\n",
       "       [0.05, 0.01],\n",
       "       [0.  , 0.11],\n",
       "       [0.11, 0.16]])"
      ]
     },
     "execution_count": 90,
     "metadata": {},
     "output_type": "execute_result"
    }
   ],
   "source": [
    "np.random.seed(42)\n",
    "returns = np.random.randint(0, 20, size=(10, 2)) / 100    # simulate returns\n",
    "returns"
   ]
  },
  {
   "cell_type": "code",
   "execution_count": 91,
   "metadata": {},
   "outputs": [
    {
     "data": {
      "text/plain": [
       "array([[3.07666667e-03, 9.88888889e-05],\n",
       "       [9.88888889e-05, 3.52111111e-03]])"
      ]
     },
     "execution_count": 91,
     "metadata": {},
     "output_type": "execute_result"
    }
   ],
   "source": [
    "covariance = np.cov(returns.T)\n",
    "covariance"
   ]
  },
  {
   "cell_type": "code",
   "execution_count": 92,
   "metadata": {},
   "outputs": [],
   "source": [
    "weight = np.array([0.2, 0.8])"
   ]
  },
  {
   "cell_type": "code",
   "execution_count": 93,
   "metadata": {},
   "outputs": [
    {
     "data": {
      "text/plain": [
       "0.0024082222222222226"
      ]
     },
     "execution_count": 93,
     "metadata": {},
     "output_type": "execute_result"
    }
   ],
   "source": [
    "np.dot(weight.T, np.dot(np.cov(returns.T), weight))"
   ]
  },
  {
   "cell_type": "code",
   "execution_count": 94,
   "metadata": {},
   "outputs": [
    {
     "name": "stdout",
     "output_type": "stream",
     "text": [
      "Portfolio variance: 0.0024082222222222226\n"
     ]
    }
   ],
   "source": [
    "print(\"Portfolio variance: {}\".format(float(np.dot(np.dot(weight, covariance), weight.T))))"
   ]
  },
  {
   "cell_type": "code",
   "execution_count": 95,
   "metadata": {},
   "outputs": [
    {
     "name": "stdout",
     "output_type": "stream",
     "text": [
      "Portfolio expected return: 0.08700000000000002\n"
     ]
    }
   ],
   "source": [
    "print(\"Portfolio expected return: {}\".format(float(np.dot(weight.T, returns.mean(axis=0)))))"
   ]
  },
  {
   "cell_type": "markdown",
   "metadata": {},
   "source": [
    "### Optimization "
   ]
  },
  {
   "cell_type": "markdown",
   "metadata": {},
   "source": [
    "[wolfram](http://www.wolframalpha.com/input/?i=x%5E2+-+4)\n",
    "\n",
    "$$x^2 - 4x$$"
   ]
  },
  {
   "cell_type": "code",
   "execution_count": 96,
   "metadata": {},
   "outputs": [],
   "source": [
    "from scipy.optimize import minimize"
   ]
  },
  {
   "cell_type": "code",
   "execution_count": 97,
   "metadata": {},
   "outputs": [],
   "source": [
    "def f(x):\n",
    "    return x**2 - 4"
   ]
  },
  {
   "cell_type": "code",
   "execution_count": 98,
   "metadata": {},
   "outputs": [],
   "source": [
    "x0 = 0"
   ]
  },
  {
   "cell_type": "raw",
   "metadata": {},
   "source": [
    "result = minimize?"
   ]
  },
  {
   "cell_type": "raw",
   "metadata": {},
   "source": [
    "result = minimize"
   ]
  },
  {
   "cell_type": "raw",
   "metadata": {},
   "source": [
    "result = minimize"
   ]
  },
  {
   "cell_type": "code",
   "execution_count": 99,
   "metadata": {},
   "outputs": [
    {
     "name": "stdout",
     "output_type": "stream",
     "text": [
      "Optimization terminated successfully.\n",
      "         Current function value: -4.000000\n",
      "         Iterations: 23\n",
      "         Function evaluations: 53\n"
     ]
    }
   ],
   "source": [
    "result = minimize(f, x0, method=\"Nelder-Mead\", options={\"xtol\" : 1e-10, \n",
    "                                                        'disp' : True})"
   ]
  },
  {
   "cell_type": "code",
   "execution_count": 100,
   "metadata": {},
   "outputs": [
    {
     "name": "stdout",
     "output_type": "stream",
     "text": [
      "[0.]\n"
     ]
    }
   ],
   "source": [
    "print(result.x)"
   ]
  },
  {
   "cell_type": "code",
   "execution_count": 101,
   "metadata": {},
   "outputs": [
    {
     "data": {
      "text/plain": [
       "-4.0"
      ]
     },
     "execution_count": 101,
     "metadata": {},
     "output_type": "execute_result"
    }
   ],
   "source": [
    "result.fun"
   ]
  },
  {
   "cell_type": "markdown",
   "metadata": {},
   "source": [
    "### Portfolio Optimisation"
   ]
  },
  {
   "cell_type": "markdown",
   "metadata": {},
   "source": [
    "#### Introduction"
   ]
  },
  {
   "cell_type": "markdown",
   "metadata": {},
   "source": [
    "inspired by Yves Hilpisch excellent book `Python for Finance`"
   ]
  },
  {
   "cell_type": "markdown",
   "metadata": {},
   "source": [
    "Portfolio expected return\n",
    "\n",
    "\\begin{equation}\n",
    "r_P = \\sum^n_{i=1}w_ir_i\n",
    "\\end{equation}\n",
    "\n",
    "\\begin{equation}\n",
    "r_P = w^Tr\n",
    "\\end{equation}\n",
    "\n",
    "Variance for two-stocks portfolio\n",
    "\n",
    "\\begin{equation}\n",
    "\\sigma^2_P=w^2_1\\sigma^2_1+w^2_2\\sigma^2_2+2w^2_1w^2_2\\sigma_{1,2}w^2_1\\sigma^2_1+w^2_2\\sigma^2_2+2w^2_1w^2_2\\rho\\sigma_1\\sigma_2\n",
    "\\end{equation}\n",
    "\n",
    "Variance for multi-stocks portfolio\n",
    "\n",
    "\\begin{equation}\n",
    "\\sigma^2_P=w^T \\sum w\n",
    "\\end{equation}\n",
    "\n"
   ]
  },
  {
   "cell_type": "code",
   "execution_count": 102,
   "metadata": {},
   "outputs": [],
   "source": [
    "import matplotlib.pyplot as plt\n",
    "%matplotlib inline\n",
    "#import seaborn as sns\n",
    "#sns.set()\n",
    "\n",
    "import numpy as np\n",
    "import pandas as pd\n",
    "import pandas_datareader.data as web\n",
    "from datetime import datetime\n",
    "start = datetime(2000, 1, 1)\n",
    "end = datetime(2020, 1, 1)\n",
    "tickers = ['XOM', 'IBM', 'V', 'DIS', 'GLD']\n",
    "\n",
    "prices = pdr.get_data_tiingo(tickers, start=start, end=end, api_key=TIINGO_API_KEY)\n",
    "\n",
    "# prices = web.DataReader(tickers, 'morningstar', start, end)\n",
    "returns = prices[\"close\"].unstack(level=-1).T.dropna().pct_change().dropna()"
   ]
  },
  {
   "cell_type": "code",
   "execution_count": 103,
   "metadata": {},
   "outputs": [
    {
     "data": {
      "text/plain": [
       "Index(['DIS', 'GLD', 'IBM', 'V', 'XOM'], dtype='object', name='symbol')"
      ]
     },
     "execution_count": 103,
     "metadata": {},
     "output_type": "execute_result"
    }
   ],
   "source": [
    "returns.columns"
   ]
  },
  {
   "cell_type": "markdown",
   "metadata": {},
   "source": [
    "Annualised Mean"
   ]
  },
  {
   "cell_type": "code",
   "execution_count": 104,
   "metadata": {},
   "outputs": [
    {
     "name": "stdout",
     "output_type": "stream",
     "text": [
      "symbol\n",
      "DIS    0.164055\n",
      "GLD    0.052151\n",
      "IBM    0.035715\n",
      "V      0.197298\n",
      "XOM    0.011757\n",
      "dtype: float64\n"
     ]
    }
   ],
   "source": [
    "print(returns.mean() * 250)"
   ]
  },
  {
   "cell_type": "markdown",
   "metadata": {},
   "source": [
    "Variance - Covariance Matrix (Annualised)"
   ]
  },
  {
   "cell_type": "code",
   "execution_count": 105,
   "metadata": {},
   "outputs": [
    {
     "data": {
      "text/html": [
       "<div>\n",
       "<style scoped>\n",
       "    .dataframe tbody tr th:only-of-type {\n",
       "        vertical-align: middle;\n",
       "    }\n",
       "\n",
       "    .dataframe tbody tr th {\n",
       "        vertical-align: top;\n",
       "    }\n",
       "\n",
       "    .dataframe thead th {\n",
       "        text-align: right;\n",
       "    }\n",
       "</style>\n",
       "<table border=\"1\" class=\"dataframe\">\n",
       "  <thead>\n",
       "    <tr style=\"text-align: right;\">\n",
       "      <th>symbol</th>\n",
       "      <th>DIS</th>\n",
       "      <th>GLD</th>\n",
       "      <th>IBM</th>\n",
       "      <th>V</th>\n",
       "      <th>XOM</th>\n",
       "    </tr>\n",
       "    <tr>\n",
       "      <th>symbol</th>\n",
       "      <th></th>\n",
       "      <th></th>\n",
       "      <th></th>\n",
       "      <th></th>\n",
       "      <th></th>\n",
       "    </tr>\n",
       "  </thead>\n",
       "  <tbody>\n",
       "    <tr>\n",
       "      <th>DIS</th>\n",
       "      <td>0.070149</td>\n",
       "      <td>-0.000581</td>\n",
       "      <td>0.030867</td>\n",
       "      <td>0.038503</td>\n",
       "      <td>0.036442</td>\n",
       "    </tr>\n",
       "    <tr>\n",
       "      <th>GLD</th>\n",
       "      <td>-0.000581</td>\n",
       "      <td>0.031971</td>\n",
       "      <td>-0.001069</td>\n",
       "      <td>-0.002402</td>\n",
       "      <td>0.003514</td>\n",
       "    </tr>\n",
       "    <tr>\n",
       "      <th>IBM</th>\n",
       "      <td>0.030867</td>\n",
       "      <td>-0.001069</td>\n",
       "      <td>0.048394</td>\n",
       "      <td>0.029054</td>\n",
       "      <td>0.027033</td>\n",
       "    </tr>\n",
       "    <tr>\n",
       "      <th>V</th>\n",
       "      <td>0.038503</td>\n",
       "      <td>-0.002402</td>\n",
       "      <td>0.029054</td>\n",
       "      <td>0.132323</td>\n",
       "      <td>0.031521</td>\n",
       "    </tr>\n",
       "    <tr>\n",
       "      <th>XOM</th>\n",
       "      <td>0.036442</td>\n",
       "      <td>0.003514</td>\n",
       "      <td>0.027033</td>\n",
       "      <td>0.031521</td>\n",
       "      <td>0.055814</td>\n",
       "    </tr>\n",
       "  </tbody>\n",
       "</table>\n",
       "</div>"
      ],
      "text/plain": [
       "symbol       DIS       GLD       IBM         V       XOM\n",
       "symbol                                                  \n",
       "DIS     0.070149 -0.000581  0.030867  0.038503  0.036442\n",
       "GLD    -0.000581  0.031971 -0.001069 -0.002402  0.003514\n",
       "IBM     0.030867 -0.001069  0.048394  0.029054  0.027033\n",
       "V       0.038503 -0.002402  0.029054  0.132323  0.031521\n",
       "XOM     0.036442  0.003514  0.027033  0.031521  0.055814"
      ]
     },
     "execution_count": 105,
     "metadata": {},
     "output_type": "execute_result"
    }
   ],
   "source": [
    "returns.cov() * 250"
   ]
  },
  {
   "cell_type": "code",
   "execution_count": 106,
   "metadata": {},
   "outputs": [],
   "source": [
    "portfolio_rtns = []\n",
    "portfolio_vols = []\n",
    "for oo in range(5000):\n",
    "    weights = np.random.random(len(tickers))\n",
    "    weights /= np.sum(weights)\n",
    "    portfolio_rtns.append(np.sum(weights * returns.mean() * 250))\n",
    "    portfolio_vols.append(np.sqrt(float(np.dot(np.dot(weights, returns.cov() * 250), weights.T))))"
   ]
  },
  {
   "cell_type": "code",
   "execution_count": 107,
   "metadata": {
    "scrolled": true
   },
   "outputs": [
    {
     "data": {
      "text/html": [
       "<div>\n",
       "<style scoped>\n",
       "    .dataframe tbody tr th:only-of-type {\n",
       "        vertical-align: middle;\n",
       "    }\n",
       "\n",
       "    .dataframe tbody tr th {\n",
       "        vertical-align: top;\n",
       "    }\n",
       "\n",
       "    .dataframe thead th {\n",
       "        text-align: right;\n",
       "    }\n",
       "</style>\n",
       "<table border=\"1\" class=\"dataframe\">\n",
       "  <thead>\n",
       "    <tr style=\"text-align: right;\">\n",
       "      <th></th>\n",
       "      <th>rtns</th>\n",
       "      <th>vols</th>\n",
       "    </tr>\n",
       "  </thead>\n",
       "  <tbody>\n",
       "    <tr>\n",
       "      <th>0</th>\n",
       "      <td>0.139345</td>\n",
       "      <td>0.214788</td>\n",
       "    </tr>\n",
       "    <tr>\n",
       "      <th>1</th>\n",
       "      <td>0.102402</td>\n",
       "      <td>0.189121</td>\n",
       "    </tr>\n",
       "    <tr>\n",
       "      <th>2</th>\n",
       "      <td>0.070036</td>\n",
       "      <td>0.165281</td>\n",
       "    </tr>\n",
       "    <tr>\n",
       "      <th>3</th>\n",
       "      <td>0.112397</td>\n",
       "      <td>0.172867</td>\n",
       "    </tr>\n",
       "    <tr>\n",
       "      <th>4</th>\n",
       "      <td>0.078957</td>\n",
       "      <td>0.159573</td>\n",
       "    </tr>\n",
       "  </tbody>\n",
       "</table>\n",
       "</div>"
      ],
      "text/plain": [
       "       rtns      vols\n",
       "0  0.139345  0.214788\n",
       "1  0.102402  0.189121\n",
       "2  0.070036  0.165281\n",
       "3  0.112397  0.172867\n",
       "4  0.078957  0.159573"
      ]
     },
     "execution_count": 107,
     "metadata": {},
     "output_type": "execute_result"
    }
   ],
   "source": [
    "comb = pd.DataFrame([portfolio_rtns, portfolio_vols]).T\n",
    "comb.columns = ['rtns', 'vols']\n",
    "comb.head()"
   ]
  },
  {
   "cell_type": "code",
   "execution_count": 108,
   "metadata": {},
   "outputs": [
    {
     "data": {
      "image/png": "[encoded data removed]",
      "text/plain": [
       "<Figure size 576x288 with 2 Axes>"
      ]
     },
     "metadata": {
      "needs_background": "light"
     },
     "output_type": "display_data"
    }
   ],
   "source": [
    "#sns.set(style='whitegrid')\n",
    "plt.figure(figsize=(8, 4))\n",
    "plt.scatter(portfolio_vols, portfolio_rtns, \n",
    "            c = np.array(portfolio_rtns) / np.array(portfolio_vols))\n",
    "plt.grid(True)\n",
    "plt.xlabel('volatility')\n",
    "plt.ylabel('return')\n",
    "plt.colorbar(label='Sharpe ratio');\n",
    "#plt.axis('equal');\n",
    "#plt.xlim(0, 0.25);\n",
    "#plt.ylim(-0.10, 0.2);"
   ]
  },
  {
   "cell_type": "code",
   "execution_count": 109,
   "metadata": {},
   "outputs": [],
   "source": [
    " def portfolio_stats(weights):\n",
    "        weights = np.array(weights)\n",
    "        portfolio_rtn = np.sum(weights * returns.mean() * 250)\n",
    "        portfolio_vol = np.sqrt(float(np.dot(np.dot(weights, returns.cov() * 250), weights.T)))\n",
    "        return np.array([portfolio_rtn, portfolio_vol, portfolio_rtn / portfolio_vol])"
   ]
  },
  {
   "cell_type": "code",
   "execution_count": 110,
   "metadata": {},
   "outputs": [],
   "source": [
    "import scipy.optimize as sco"
   ]
  },
  {
   "cell_type": "markdown",
   "metadata": {},
   "source": [
    "#### Maximise Sharpe Ratio"
   ]
  },
  {
   "cell_type": "code",
   "execution_count": 111,
   "metadata": {},
   "outputs": [],
   "source": [
    "def min_func_sharpe(weights):\n",
    "    return - portfolio_stats(weights)[2]"
   ]
  },
  {
   "cell_type": "code",
   "execution_count": 112,
   "metadata": {},
   "outputs": [],
   "source": [
    "cons = ({'type': 'eq', 'fun': lambda x:  np.sum(x) - 1})"
   ]
  },
  {
   "cell_type": "code",
   "execution_count": 113,
   "metadata": {},
   "outputs": [],
   "source": [
    "bnds = tuple((0, 1) for x in range(len(tickers)))"
   ]
  },
  {
   "cell_type": "code",
   "execution_count": 114,
   "metadata": {},
   "outputs": [
    {
     "name": "stdout",
     "output_type": "stream",
     "text": [
      "Wall time: 56.8 ms\n"
     ]
    }
   ],
   "source": [
    "%%time \n",
    "opts = sco.minimize(min_func_sharpe, len(tickers) * [1. / len(tickers),], \n",
    "                    method='SLSQP',\n",
    "                    bounds=bnds, \n",
    "                    constraints=cons)"
   ]
  },
  {
   "cell_type": "code",
   "execution_count": 115,
   "metadata": {},
   "outputs": [
    {
     "data": {
      "text/plain": [
       "     fun: -0.7639826459756845\n",
       "     jac: array([-1.50516629e-04, -2.12803483e-04,  2.80192792e-01,  6.42627478e-04,\n",
       "        5.44358432e-01])\n",
       " message: 'Optimization terminated successfully'\n",
       "    nfev: 36\n",
       "     nit: 6\n",
       "    njev: 6\n",
       "  status: 0\n",
       " success: True\n",
       "       x: array([3.97452362e-01, 3.82711424e-01, 2.73761049e-17, 2.19836214e-01,\n",
       "       2.59124319e-17])"
      ]
     },
     "execution_count": 115,
     "metadata": {},
     "output_type": "execute_result"
    }
   ],
   "source": [
    "opts"
   ]
  },
  {
   "cell_type": "code",
   "execution_count": 116,
   "metadata": {},
   "outputs": [
    {
     "data": {
      "text/plain": [
       "array([0.397, 0.383, 0.   , 0.22 , 0.   ])"
      ]
     },
     "execution_count": 116,
     "metadata": {},
     "output_type": "execute_result"
    }
   ],
   "source": [
    "opts['x'].round(3)"
   ]
  },
  {
   "cell_type": "code",
   "execution_count": 117,
   "metadata": {},
   "outputs": [
    {
     "name": "stdout",
     "output_type": "stream",
     "text": [
      "Portfolio returns: 0.129\n",
      "Portfolio volatility: 0.168\n",
      "Sharpe Ratio: 0.764\n"
     ]
    }
   ],
   "source": [
    "r, vol, sr = portfolio_stats(opts['x']).round(3)\n",
    "print(\"Portfolio returns: {0}\\nPortfolio volatility: {1}\\nSharpe Ratio: {2}\".format(r, vol, sr))"
   ]
  },
  {
   "cell_type": "markdown",
   "metadata": {},
   "source": [
    "#### Minimise Variance"
   ]
  },
  {
   "cell_type": "code",
   "execution_count": 118,
   "metadata": {},
   "outputs": [],
   "source": [
    "def min_func_variance(weights):             \n",
    "    return portfolio_stats(weights)[1] ** 2"
   ]
  },
  {
   "cell_type": "code",
   "execution_count": 119,
   "metadata": {},
   "outputs": [],
   "source": [
    "optv = sco.minimize(min_func_variance, len(tickers) * [1. / len(tickers),], \n",
    "                    method='SLSQP', bounds=bnds,\n",
    "                    constraints=cons)"
   ]
  },
  {
   "cell_type": "code",
   "execution_count": 120,
   "metadata": {},
   "outputs": [
    {
     "data": {
      "text/plain": [
       "     fun: 0.017380630828671383\n",
       "     jac: array([0.03483609, 0.03468195, 0.03486967, 0.03489217, 0.03481675])\n",
       " message: 'Optimization terminated successfully'\n",
       "    nfev: 78\n",
       "     nit: 13\n",
       "    njev: 13\n",
       "  status: 0\n",
       " success: True\n",
       "       x: array([0.07503829, 0.54672036, 0.25215128, 0.04533315, 0.08075693])"
      ]
     },
     "execution_count": 120,
     "metadata": {},
     "output_type": "execute_result"
    }
   ],
   "source": [
    "optv"
   ]
  },
  {
   "cell_type": "code",
   "execution_count": 121,
   "metadata": {},
   "outputs": [
    {
     "data": {
      "text/plain": [
       "array([0.075, 0.547, 0.252, 0.045, 0.081])"
      ]
     },
     "execution_count": 121,
     "metadata": {},
     "output_type": "execute_result"
    }
   ],
   "source": [
    "optv['x'].round(3)"
   ]
  },
  {
   "cell_type": "code",
   "execution_count": 122,
   "metadata": {},
   "outputs": [
    {
     "name": "stdout",
     "output_type": "stream",
     "text": [
      "Portfolio returns: 0.06\n",
      "Portfolio volatility: 0.132\n",
      "Sharpe Ratio: 0.453\n"
     ]
    }
   ],
   "source": [
    "r, vol, sr = portfolio_stats(optv['x']).round(3)\n",
    "print(\"Portfolio returns: {0}\\nPortfolio volatility: {1}\\nSharpe Ratio: {2}\".format(r, vol, sr))"
   ]
  },
  {
   "cell_type": "markdown",
   "metadata": {},
   "source": [
    "#### Efficient Frontier"
   ]
  },
  {
   "cell_type": "markdown",
   "metadata": {},
   "source": [
    "Minimum risk portfolio for given return level"
   ]
  },
  {
   "cell_type": "code",
   "execution_count": 123,
   "metadata": {},
   "outputs": [],
   "source": [
    "cons = ({'type': 'eq', 'fun': lambda x:  statistics(x)[0] - tret},                 \n",
    "        {'type': 'eq', 'fun': lambda x:  np.sum(x) - 1})         \n",
    "bnds = tuple((0, 1) for x in weights)"
   ]
  },
  {
   "cell_type": "code",
   "execution_count": 124,
   "metadata": {},
   "outputs": [],
   "source": [
    " def min_func_port(weights):             \n",
    "        return portfolio_stats(weights)[1]"
   ]
  },
  {
   "cell_type": "code",
   "execution_count": 125,
   "metadata": {},
   "outputs": [
    {
     "name": "stdout",
     "output_type": "stream",
     "text": [
      "Wall time: 14.4 s\n"
     ]
    }
   ],
   "source": [
    "%%time\n",
    "\n",
    "trets = np.linspace(0.0, 0.18, 100)         \n",
    "tvols = []         \n",
    "for tret in trets:             \n",
    "    cons = ({'type': 'eq', 'fun': lambda x:  portfolio_stats(x)[0] - tret},                     \n",
    "            {'type': 'eq', 'fun': lambda x:  np.sum(x) - 1})             \n",
    "    res = sco.minimize(min_func_port, \n",
    "                       len(tickers) * [1. / len(tickers),], \n",
    "                       method='SLSQP',                                \n",
    "                       bounds=bnds, constraints=cons)             \n",
    "    tvols.append(res['fun'])         \n",
    "tvols = np.array(tvols)"
   ]
  },
  {
   "cell_type": "code",
   "execution_count": 126,
   "metadata": {},
   "outputs": [
    {
     "data": {
      "image/png": "[encoded data removed]",
      "text/plain": [
       "<Figure size 1440x720 with 2 Axes>"
      ]
     },
     "metadata": {
      "needs_background": "light"
     },
     "output_type": "display_data"
    }
   ],
   "source": [
    "plt.figure(figsize=(20, 10))\n",
    "plt.scatter(portfolio_vols, portfolio_rtns,                     \n",
    "            c=np.array(portfolio_rtns) / np.array(portfolio_vols), \n",
    "            marker='o')                     \n",
    "            # random portfolio composition         \n",
    "plt.scatter(tvols, trets,    \n",
    "            c=trets / tvols, marker='x')                     \n",
    "            # efficient frontier         \n",
    "plt.plot(portfolio_stats(opts['x'])[1], portfolio_stats(opts['x'])[0],                  \n",
    "         'r*', markersize=15.0)                     \n",
    "         # portfolio with highest Sharpe ratio         \n",
    "plt.plot(portfolio_stats(optv['x'])[1], portfolio_stats(optv['x'])[0],                  \n",
    "         'y*', markersize=15.0)                     \n",
    "         # minimum variance portfolio         \n",
    "plt.grid(True)         \n",
    "plt.xlabel('expected volatility')         \n",
    "plt.ylabel('expected return')         \n",
    "plt.colorbar(label='Sharpe ratio');"
   ]
  },
  {
   "cell_type": "markdown",
   "metadata": {},
   "source": [
    "#### Capital Market Line"
   ]
  },
  {
   "cell_type": "code",
   "execution_count": 127,
   "metadata": {},
   "outputs": [],
   "source": [
    "import scipy.interpolate as sci"
   ]
  },
  {
   "cell_type": "code",
   "execution_count": 128,
   "metadata": {},
   "outputs": [],
   "source": [
    "ind = np.argmin(tvols)         \n",
    "evols = tvols[ind:]         \n",
    "erets = trets[ind:] "
   ]
  },
  {
   "cell_type": "code",
   "execution_count": 129,
   "metadata": {},
   "outputs": [],
   "source": [
    "tck = sci.splrep(evols, erets)"
   ]
  },
  {
   "cell_type": "code",
   "execution_count": 130,
   "metadata": {},
   "outputs": [],
   "source": [
    "def f(x):             \n",
    "    ''' Efficient frontier function (splines approximation). '''\n",
    "    return sci.splev(x, tck, der=0)         \n",
    "    \n",
    "def df(x):             \n",
    "    ''' First derivative of efficient frontier function. '''             \n",
    "    return sci.splev(x, tck, der=1) "
   ]
  },
  {
   "cell_type": "code",
   "execution_count": 131,
   "metadata": {},
   "outputs": [],
   "source": [
    "def equations(p, rf=0.02):\n",
    "    eq1 = rf - p[0]             \n",
    "    eq2 = rf + p[1] * p[2] - f(p[2])             \n",
    "    eq3 = p[1] - df(p[2])             \n",
    "    return eq1, eq2, eq3"
   ]
  },
  {
   "cell_type": "code",
   "execution_count": 132,
   "metadata": {},
   "outputs": [],
   "source": [
    "opt = sco.fsolve(equations, [-0.1, 0.5, 0.20])"
   ]
  },
  {
   "cell_type": "code",
   "execution_count": 133,
   "metadata": {},
   "outputs": [
    {
     "data": {
      "text/plain": [
       "array([0.02      , 0.64913919, 0.18170103])"
      ]
     },
     "execution_count": 133,
     "metadata": {},
     "output_type": "execute_result"
    }
   ],
   "source": [
    "opt"
   ]
  },
  {
   "cell_type": "code",
   "execution_count": 134,
   "metadata": {},
   "outputs": [
    {
     "data": {
      "text/plain": [
       "array([0., 0., 0.])"
      ]
     },
     "execution_count": 134,
     "metadata": {},
     "output_type": "execute_result"
    }
   ],
   "source": [
    "np.round(equations(opt), 6)"
   ]
  },
  {
   "cell_type": "code",
   "execution_count": 135,
   "metadata": {},
   "outputs": [
    {
     "data": {
      "image/png": "[encoded data removed]",
      "text/plain": [
       "<Figure size 1440x720 with 2 Axes>"
      ]
     },
     "metadata": {
      "needs_background": "light"
     },
     "output_type": "display_data"
    }
   ],
   "source": [
    "plt.figure(figsize=(20, 10))         \n",
    "plt.scatter(portfolio_vols, portfolio_rtns,                     \n",
    "            c=(np.array(portfolio_rtns) - 0.01) / np.array(portfolio_vols), marker='o')                     \n",
    "            # random portfolio composition         \n",
    "plt.plot(evols, erets, 'g', lw=4.0)                     \n",
    "            # efficient frontier         \n",
    "cx = np.linspace(0.0, 0.3)         \n",
    "plt.plot(cx, opt[0] + opt[1] * cx, lw=1.5)                     \n",
    "            # capital market line         \n",
    "plt.plot(opt[2], f(opt[2]), 'r*', markersize=15.0)         \n",
    "plt.grid(True)         \n",
    "plt.axhline(0, color='k', ls='--', lw=2.0)         \n",
    "plt.axvline(0, color='k', ls='--', lw=2.0)         \n",
    "plt.xlabel('expected volatility')         \n",
    "plt.ylabel('expected return')         \n",
    "plt.colorbar(label='Sharpe ratio');"
   ]
  },
  {
   "cell_type": "code",
   "execution_count": 136,
   "metadata": {},
   "outputs": [],
   "source": [
    "cons = ({'type': 'eq', 'fun': lambda x:  portfolio_stats(x)[0] - f(opt[2])},                 \n",
    "        {'type': 'eq', 'fun': lambda x:  np.sum(x) - 1})         \n",
    "res = sco.minimize(min_func_port, len(tickers) * [1. / len(tickers),], method='SLSQP',                                \n",
    "                   bounds=bnds, constraints=cons)\n"
   ]
  },
  {
   "cell_type": "code",
   "execution_count": 137,
   "metadata": {},
   "outputs": [
    {
     "data": {
      "text/plain": [
       "array([0.438, 0.308, 0.   , 0.253, 0.   ])"
      ]
     },
     "execution_count": 137,
     "metadata": {},
     "output_type": "execute_result"
    }
   ],
   "source": [
    "res['x'].round(3)"
   ]
  },
  {
   "cell_type": "markdown",
   "metadata": {},
   "source": [
    "# Time Series 2"
   ]
  },
  {
   "cell_type": "code",
   "execution_count": 138,
   "metadata": {},
   "outputs": [],
   "source": [
    "import pandas as pd\n",
    "from datetime import datetime\n",
    "prices = pd.read_csv(\"data/^GSPC.csv\")"
   ]
  },
  {
   "cell_type": "code",
   "execution_count": 139,
   "metadata": {
    "scrolled": true
   },
   "outputs": [],
   "source": [
    "prices['Date'] = pd.to_datetime(prices[\"Date\"], infer_datetime_format=True)\n",
    "prices.set_index(\"Date\", inplace=True)"
   ]
  },
  {
   "cell_type": "code",
   "execution_count": 140,
   "metadata": {},
   "outputs": [
    {
     "data": {
      "text/html": [
       "<div>\n",
       "<style scoped>\n",
       "    .dataframe tbody tr th:only-of-type {\n",
       "        vertical-align: middle;\n",
       "    }\n",
       "\n",
       "    .dataframe tbody tr th {\n",
       "        vertical-align: top;\n",
       "    }\n",
       "\n",
       "    .dataframe thead th {\n",
       "        text-align: right;\n",
       "    }\n",
       "</style>\n",
       "<table border=\"1\" class=\"dataframe\">\n",
       "  <thead>\n",
       "    <tr style=\"text-align: right;\">\n",
       "      <th></th>\n",
       "      <th>Open</th>\n",
       "      <th>High</th>\n",
       "      <th>Low</th>\n",
       "      <th>Close</th>\n",
       "      <th>Adj Close</th>\n",
       "      <th>Volume</th>\n",
       "    </tr>\n",
       "    <tr>\n",
       "      <th>Date</th>\n",
       "      <th></th>\n",
       "      <th></th>\n",
       "      <th></th>\n",
       "      <th></th>\n",
       "      <th></th>\n",
       "      <th></th>\n",
       "    </tr>\n",
       "  </thead>\n",
       "  <tbody>\n",
       "    <tr>\n",
       "      <th>1950-01-01</th>\n",
       "      <td>16.660000</td>\n",
       "      <td>17.090000</td>\n",
       "      <td>16.650000</td>\n",
       "      <td>17.049999</td>\n",
       "      <td>17.049999</td>\n",
       "      <td>42570000</td>\n",
       "    </tr>\n",
       "    <tr>\n",
       "      <th>1950-02-01</th>\n",
       "      <td>17.049999</td>\n",
       "      <td>17.350000</td>\n",
       "      <td>16.990000</td>\n",
       "      <td>17.219999</td>\n",
       "      <td>17.219999</td>\n",
       "      <td>33430000</td>\n",
       "    </tr>\n",
       "    <tr>\n",
       "      <th>1950-03-01</th>\n",
       "      <td>17.240000</td>\n",
       "      <td>17.610001</td>\n",
       "      <td>17.070000</td>\n",
       "      <td>17.290001</td>\n",
       "      <td>17.290001</td>\n",
       "      <td>40410000</td>\n",
       "    </tr>\n",
       "    <tr>\n",
       "      <th>1950-04-01</th>\n",
       "      <td>17.340000</td>\n",
       "      <td>18.070000</td>\n",
       "      <td>17.340000</td>\n",
       "      <td>18.070000</td>\n",
       "      <td>18.070000</td>\n",
       "      <td>48250000</td>\n",
       "    </tr>\n",
       "    <tr>\n",
       "      <th>1950-05-01</th>\n",
       "      <td>18.219999</td>\n",
       "      <td>18.780001</td>\n",
       "      <td>18.110001</td>\n",
       "      <td>18.780001</td>\n",
       "      <td>18.780001</td>\n",
       "      <td>45080000</td>\n",
       "    </tr>\n",
       "  </tbody>\n",
       "</table>\n",
       "</div>"
      ],
      "text/plain": [
       "                 Open       High        Low      Close  Adj Close    Volume\n",
       "Date                                                                       \n",
       "1950-01-01  16.660000  17.090000  16.650000  17.049999  17.049999  42570000\n",
       "1950-02-01  17.049999  17.350000  16.990000  17.219999  17.219999  33430000\n",
       "1950-03-01  17.240000  17.610001  17.070000  17.290001  17.290001  40410000\n",
       "1950-04-01  17.340000  18.070000  17.340000  18.070000  18.070000  48250000\n",
       "1950-05-01  18.219999  18.780001  18.110001  18.780001  18.780001  45080000"
      ]
     },
     "execution_count": 140,
     "metadata": {},
     "output_type": "execute_result"
    }
   ],
   "source": [
    "prices.head()"
   ]
  },
  {
   "cell_type": "code",
   "execution_count": 141,
   "metadata": {},
   "outputs": [],
   "source": [
    "mth_price = prices.resample('BM')['Adj Close'].last()\n",
    "mth_rtns = mth_price.pct_change()\n",
    "\n",
    "jan_rtns = mth_rtns[mth_rtns.index.month==1]\n",
    "other_rtns = mth_rtns[mth_rtns.index.month!=1]"
   ]
  },
  {
   "cell_type": "code",
   "execution_count": 142,
   "metadata": {},
   "outputs": [
    {
     "name": "stdout",
     "output_type": "stream",
     "text": [
      "BartlettResult(statistic=4.599212108275581, pvalue=0.031986653036613084)\n"
     ]
    }
   ],
   "source": [
    "from scipy import stats\n",
    "print(stats.bartlett(jan_rtns, other_rtns))"
   ]
  },
  {
   "cell_type": "code",
   "execution_count": 143,
   "metadata": {},
   "outputs": [
    {
     "data": {
      "text/html": [
       "<div>\n",
       "<style scoped>\n",
       "    .dataframe tbody tr th:only-of-type {\n",
       "        vertical-align: middle;\n",
       "    }\n",
       "\n",
       "    .dataframe tbody tr th {\n",
       "        vertical-align: top;\n",
       "    }\n",
       "\n",
       "    .dataframe thead th {\n",
       "        text-align: right;\n",
       "    }\n",
       "</style>\n",
       "<table border=\"1\" class=\"dataframe\">\n",
       "  <thead>\n",
       "    <tr style=\"text-align: right;\">\n",
       "      <th></th>\n",
       "      <th>Open</th>\n",
       "      <th>High</th>\n",
       "      <th>Low</th>\n",
       "      <th>Close</th>\n",
       "      <th>Adj Close</th>\n",
       "      <th>Volume</th>\n",
       "    </tr>\n",
       "    <tr>\n",
       "      <th>Date</th>\n",
       "      <th></th>\n",
       "      <th></th>\n",
       "      <th></th>\n",
       "      <th></th>\n",
       "      <th></th>\n",
       "      <th></th>\n",
       "    </tr>\n",
       "  </thead>\n",
       "  <tbody>\n",
       "    <tr>\n",
       "      <th>1989-08-01</th>\n",
       "      <td>346.079987</td>\n",
       "      <td>352.730011</td>\n",
       "      <td>339.000000</td>\n",
       "      <td>351.450012</td>\n",
       "      <td>351.450012</td>\n",
       "      <td>3949100000</td>\n",
       "    </tr>\n",
       "    <tr>\n",
       "      <th>1989-09-01</th>\n",
       "      <td>351.450012</td>\n",
       "      <td>354.130005</td>\n",
       "      <td>341.369995</td>\n",
       "      <td>349.149994</td>\n",
       "      <td>349.149994</td>\n",
       "      <td>3035020000</td>\n",
       "    </tr>\n",
       "    <tr>\n",
       "      <th>1989-10-01</th>\n",
       "      <td>349.149994</td>\n",
       "      <td>360.440002</td>\n",
       "      <td>327.119995</td>\n",
       "      <td>340.359985</td>\n",
       "      <td>340.359985</td>\n",
       "      <td>4012670000</td>\n",
       "    </tr>\n",
       "    <tr>\n",
       "      <th>1989-11-01</th>\n",
       "      <td>340.359985</td>\n",
       "      <td>346.500000</td>\n",
       "      <td>330.910004</td>\n",
       "      <td>345.989990</td>\n",
       "      <td>345.989990</td>\n",
       "      <td>3032160000</td>\n",
       "    </tr>\n",
       "    <tr>\n",
       "      <th>1989-12-01</th>\n",
       "      <td>346.010010</td>\n",
       "      <td>354.100006</td>\n",
       "      <td>339.630005</td>\n",
       "      <td>353.399994</td>\n",
       "      <td>353.399994</td>\n",
       "      <td>3213420000</td>\n",
       "    </tr>\n",
       "  </tbody>\n",
       "</table>\n",
       "</div>"
      ],
      "text/plain": [
       "                  Open        High         Low       Close   Adj Close  \\\n",
       "Date                                                                     \n",
       "1989-08-01  346.079987  352.730011  339.000000  351.450012  351.450012   \n",
       "1989-09-01  351.450012  354.130005  341.369995  349.149994  349.149994   \n",
       "1989-10-01  349.149994  360.440002  327.119995  340.359985  340.359985   \n",
       "1989-11-01  340.359985  346.500000  330.910004  345.989990  345.989990   \n",
       "1989-12-01  346.010010  354.100006  339.630005  353.399994  353.399994   \n",
       "\n",
       "                Volume  \n",
       "Date                    \n",
       "1989-08-01  3949100000  \n",
       "1989-09-01  3035020000  \n",
       "1989-10-01  4012670000  \n",
       "1989-11-01  3032160000  \n",
       "1989-12-01  3213420000  "
      ]
     },
     "execution_count": 143,
     "metadata": {},
     "output_type": "execute_result"
    }
   ],
   "source": [
    "pre_90s = prices[prices.index < datetime(1990,1,1)]\n",
    "pre_90s.tail()"
   ]
  },
  {
   "cell_type": "code",
   "execution_count": 144,
   "metadata": {},
   "outputs": [],
   "source": [
    "pre_90s_mth_price = pre_90s['Adj Close']\n",
    "pre_90s_mth_rtns = pre_90s_mth_price.pct_change()"
   ]
  },
  {
   "cell_type": "code",
   "execution_count": 145,
   "metadata": {},
   "outputs": [],
   "source": [
    "pre_90s_jan_rtns = pre_90s_mth_rtns[pre_90s_mth_rtns.index.month==1]\n",
    "pre_90s_other_rtns = pre_90s_mth_rtns[pre_90s_mth_rtns.index.month!=1]"
   ]
  },
  {
   "cell_type": "code",
   "execution_count": 146,
   "metadata": {},
   "outputs": [
    {
     "name": "stdout",
     "output_type": "stream",
     "text": [
      "BartlettResult(statistic=6.23317744470195, pvalue=0.012537856336875803)\n"
     ]
    }
   ],
   "source": [
    "print(stats.bartlett(pre_90s_jan_rtns, pre_90s_other_rtns))"
   ]
  },
  {
   "cell_type": "markdown",
   "metadata": {},
   "source": [
    "#### Heating Oil"
   ]
  },
  {
   "cell_type": "markdown",
   "metadata": {},
   "source": [
    "[data](https://fred.stlouisfed.org/series/WHOILNYH)"
   ]
  },
  {
   "cell_type": "code",
   "execution_count": 147,
   "metadata": {},
   "outputs": [
    {
     "data": {
      "text/html": [
       "<div>\n",
       "<style scoped>\n",
       "    .dataframe tbody tr th:only-of-type {\n",
       "        vertical-align: middle;\n",
       "    }\n",
       "\n",
       "    .dataframe tbody tr th {\n",
       "        vertical-align: top;\n",
       "    }\n",
       "\n",
       "    .dataframe thead th {\n",
       "        text-align: right;\n",
       "    }\n",
       "</style>\n",
       "<table border=\"1\" class=\"dataframe\">\n",
       "  <thead>\n",
       "    <tr style=\"text-align: right;\">\n",
       "      <th></th>\n",
       "      <th>observation_date</th>\n",
       "      <th>WHOILNYH</th>\n",
       "    </tr>\n",
       "  </thead>\n",
       "  <tbody>\n",
       "    <tr>\n",
       "      <th>0</th>\n",
       "      <td>1986-06-06</td>\n",
       "      <td>0.389</td>\n",
       "    </tr>\n",
       "    <tr>\n",
       "      <th>1</th>\n",
       "      <td>1986-06-13</td>\n",
       "      <td>0.384</td>\n",
       "    </tr>\n",
       "    <tr>\n",
       "      <th>2</th>\n",
       "      <td>1986-06-20</td>\n",
       "      <td>0.375</td>\n",
       "    </tr>\n",
       "    <tr>\n",
       "      <th>3</th>\n",
       "      <td>1986-06-27</td>\n",
       "      <td>0.374</td>\n",
       "    </tr>\n",
       "    <tr>\n",
       "      <th>4</th>\n",
       "      <td>1986-07-04</td>\n",
       "      <td>0.363</td>\n",
       "    </tr>\n",
       "  </tbody>\n",
       "</table>\n",
       "</div>"
      ],
      "text/plain": [
       "  observation_date  WHOILNYH\n",
       "0       1986-06-06     0.389\n",
       "1       1986-06-13     0.384\n",
       "2       1986-06-20     0.375\n",
       "3       1986-06-27     0.374\n",
       "4       1986-07-04     0.363"
      ]
     },
     "execution_count": 147,
     "metadata": {},
     "output_type": "execute_result"
    }
   ],
   "source": [
    "import numpy as np\n",
    "import datetime\n",
    "import pandas as pd\n",
    "df = pd.read_excel(\"data/WHOILNYH.xls\", skiprows=10)\n",
    "df.head()"
   ]
  },
  {
   "cell_type": "code",
   "execution_count": 148,
   "metadata": {},
   "outputs": [],
   "source": [
    "df.set_index(\"observation_date\", inplace=True)"
   ]
  },
  {
   "cell_type": "code",
   "execution_count": 149,
   "metadata": {},
   "outputs": [],
   "source": [
    "df_mth = df.resample('BM').last()"
   ]
  },
  {
   "cell_type": "code",
   "execution_count": 150,
   "metadata": {
    "scrolled": true
   },
   "outputs": [],
   "source": [
    "jul_price = df_mth[df_mth.index.month == 7]"
   ]
  },
  {
   "cell_type": "code",
   "execution_count": 151,
   "metadata": {},
   "outputs": [],
   "source": [
    "jan_price = df_mth[df_mth.index.month == 1]"
   ]
  },
  {
   "cell_type": "code",
   "execution_count": 152,
   "metadata": {},
   "outputs": [
    {
     "data": {
      "text/html": [
       "<div>\n",
       "<style scoped>\n",
       "    .dataframe tbody tr th:only-of-type {\n",
       "        vertical-align: middle;\n",
       "    }\n",
       "\n",
       "    .dataframe tbody tr th {\n",
       "        vertical-align: top;\n",
       "    }\n",
       "\n",
       "    .dataframe thead th {\n",
       "        text-align: right;\n",
       "    }\n",
       "</style>\n",
       "<table border=\"1\" class=\"dataframe\">\n",
       "  <thead>\n",
       "    <tr style=\"text-align: right;\">\n",
       "      <th></th>\n",
       "      <th>WHOILNYH</th>\n",
       "    </tr>\n",
       "    <tr>\n",
       "      <th>observation_date</th>\n",
       "      <th></th>\n",
       "    </tr>\n",
       "  </thead>\n",
       "  <tbody>\n",
       "    <tr>\n",
       "      <th>1986-07-31</th>\n",
       "      <td>0.327</td>\n",
       "    </tr>\n",
       "    <tr>\n",
       "      <th>1987-07-31</th>\n",
       "      <td>0.542</td>\n",
       "    </tr>\n",
       "    <tr>\n",
       "      <th>1988-07-29</th>\n",
       "      <td>0.441</td>\n",
       "    </tr>\n",
       "    <tr>\n",
       "      <th>1989-07-31</th>\n",
       "      <td>0.487</td>\n",
       "    </tr>\n",
       "    <tr>\n",
       "      <th>1990-07-31</th>\n",
       "      <td>0.561</td>\n",
       "    </tr>\n",
       "  </tbody>\n",
       "</table>\n",
       "</div>"
      ],
      "text/plain": [
       "                  WHOILNYH\n",
       "observation_date          \n",
       "1986-07-31           0.327\n",
       "1987-07-31           0.542\n",
       "1988-07-29           0.441\n",
       "1989-07-31           0.487\n",
       "1990-07-31           0.561"
      ]
     },
     "execution_count": 152,
     "metadata": {},
     "output_type": "execute_result"
    }
   ],
   "source": [
    "jul_price.head()"
   ]
  },
  {
   "cell_type": "code",
   "execution_count": 153,
   "metadata": {
    "scrolled": true
   },
   "outputs": [
    {
     "data": {
      "text/html": [
       "<div>\n",
       "<style scoped>\n",
       "    .dataframe tbody tr th:only-of-type {\n",
       "        vertical-align: middle;\n",
       "    }\n",
       "\n",
       "    .dataframe tbody tr th {\n",
       "        vertical-align: top;\n",
       "    }\n",
       "\n",
       "    .dataframe thead th {\n",
       "        text-align: right;\n",
       "    }\n",
       "</style>\n",
       "<table border=\"1\" class=\"dataframe\">\n",
       "  <thead>\n",
       "    <tr style=\"text-align: right;\">\n",
       "      <th></th>\n",
       "      <th>WHOILNYH</th>\n",
       "    </tr>\n",
       "    <tr>\n",
       "      <th>observation_date</th>\n",
       "      <th></th>\n",
       "    </tr>\n",
       "  </thead>\n",
       "  <tbody>\n",
       "    <tr>\n",
       "      <th>1987-01-30</th>\n",
       "      <td>0.515</td>\n",
       "    </tr>\n",
       "    <tr>\n",
       "      <th>1988-01-29</th>\n",
       "      <td>0.493</td>\n",
       "    </tr>\n",
       "    <tr>\n",
       "      <th>1989-01-31</th>\n",
       "      <td>0.525</td>\n",
       "    </tr>\n",
       "    <tr>\n",
       "      <th>1990-01-31</th>\n",
       "      <td>0.611</td>\n",
       "    </tr>\n",
       "    <tr>\n",
       "      <th>1991-01-31</th>\n",
       "      <td>0.728</td>\n",
       "    </tr>\n",
       "  </tbody>\n",
       "</table>\n",
       "</div>"
      ],
      "text/plain": [
       "                  WHOILNYH\n",
       "observation_date          \n",
       "1987-01-30           0.515\n",
       "1988-01-29           0.493\n",
       "1989-01-31           0.525\n",
       "1990-01-31           0.611\n",
       "1991-01-31           0.728"
      ]
     },
     "execution_count": 153,
     "metadata": {},
     "output_type": "execute_result"
    }
   ],
   "source": [
    "jan_price.head()"
   ]
  },
  {
   "cell_type": "code",
   "execution_count": 154,
   "metadata": {},
   "outputs": [],
   "source": [
    "res = (jan_price.values - jul_price.values)/jul_price.values"
   ]
  },
  {
   "cell_type": "code",
   "execution_count": 155,
   "metadata": {},
   "outputs": [
    {
     "data": {
      "text/plain": [
       "0.10816980919231184"
      ]
     },
     "execution_count": 155,
     "metadata": {},
     "output_type": "execute_result"
    }
   ],
   "source": [
    "res.mean()"
   ]
  },
  {
   "cell_type": "code",
   "execution_count": 156,
   "metadata": {},
   "outputs": [
    {
     "data": {
      "text/plain": [
       "0.35130734584470585"
      ]
     },
     "execution_count": 156,
     "metadata": {},
     "output_type": "execute_result"
    }
   ],
   "source": [
    "res.std()"
   ]
  },
  {
   "cell_type": "code",
   "execution_count": 157,
   "metadata": {},
   "outputs": [
    {
     "data": {
      "text/plain": [
       "0.3079064826618454"
      ]
     },
     "execution_count": 157,
     "metadata": {},
     "output_type": "execute_result"
    }
   ],
   "source": [
    "res.mean() / res.std()"
   ]
  },
  {
   "cell_type": "code",
   "execution_count": 158,
   "metadata": {},
   "outputs": [
    {
     "data": {
      "text/plain": [
       "numpy.ndarray"
      ]
     },
     "execution_count": 158,
     "metadata": {},
     "output_type": "execute_result"
    }
   ],
   "source": [
    "type(res)"
   ]
  },
  {
   "cell_type": "code",
   "execution_count": 159,
   "metadata": {},
   "outputs": [],
   "source": [
    "import matplotlib.pyplot as plt\n",
    "import seaborn as sns\n",
    "sns.set()"
   ]
  },
  {
   "cell_type": "code",
   "execution_count": 160,
   "metadata": {},
   "outputs": [
    {
     "data": {
      "image/png": "[encoded data removed]",
      "text/plain": [
       "<Figure size 432x288 with 1 Axes>"
      ]
     },
     "metadata": {},
     "output_type": "display_data"
    }
   ],
   "source": [
    "plt.hist(res, bins=50);"
   ]
  },
  {
   "cell_type": "code",
   "execution_count": 161,
   "metadata": {},
   "outputs": [
    {
     "data": {
      "text/plain": [
       "12"
      ]
     },
     "execution_count": 161,
     "metadata": {},
     "output_type": "execute_result"
    }
   ],
   "source": [
    "len(res[res < 0])"
   ]
  },
  {
   "cell_type": "code",
   "execution_count": 162,
   "metadata": {},
   "outputs": [
    {
     "data": {
      "text/plain": [
       "20"
      ]
     },
     "execution_count": 162,
     "metadata": {},
     "output_type": "execute_result"
    }
   ],
   "source": [
    "len(res[res > 0])"
   ]
  },
  {
   "cell_type": "code",
   "execution_count": 163,
   "metadata": {},
   "outputs": [
    {
     "data": {
      "text/plain": [
       "32"
      ]
     },
     "execution_count": 163,
     "metadata": {},
     "output_type": "execute_result"
    }
   ],
   "source": [
    "len(res)"
   ]
  },
  {
   "cell_type": "code",
   "execution_count": 164,
   "metadata": {},
   "outputs": [
    {
     "data": {
      "text/plain": [
       "0.06390210142432191"
      ]
     },
     "execution_count": 164,
     "metadata": {},
     "output_type": "execute_result"
    }
   ],
   "source": [
    "res[res < 1.].mean()"
   ]
  },
  {
   "cell_type": "code",
   "execution_count": 165,
   "metadata": {},
   "outputs": [
    {
     "data": {
      "text/plain": [
       "1.9809651441539795"
      ]
     },
     "execution_count": 165,
     "metadata": {},
     "output_type": "execute_result"
    }
   ],
   "source": [
    "res[res < 1.].sum()"
   ]
  },
  {
   "cell_type": "code",
   "execution_count": 166,
   "metadata": {},
   "outputs": [
    {
     "data": {
      "text/plain": [
       "0.03225806451612903"
      ]
     },
     "execution_count": 166,
     "metadata": {},
     "output_type": "execute_result"
    }
   ],
   "source": [
    "res[res < 1.].mean() / res[res < 1.].sum()"
   ]
  },
  {
   "cell_type": "markdown",
   "metadata": {},
   "source": [
    "***"
   ]
  }
 ],
 "metadata": {
  "kernelspec": {
   "display_name": "Python 3",
   "language": "python",
   "name": "python3"
  },
  "language_info": {
   "codemirror_mode": {
    "name": "ipython",
    "version": 3
   },
   "file_extension": ".py",
   "mimetype": "text/x-python",
   "name": "python",
   "nbconvert_exporter": "python",
   "pygments_lexer": "ipython3",
   "version": "3.7.9"
  }
 },
 "nbformat": 4,
 "nbformat_minor": 4
}
